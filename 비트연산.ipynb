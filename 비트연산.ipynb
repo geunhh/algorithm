{
 "cells": [
  {
   "cell_type": "code",
   "execution_count": 1,
   "metadata": {},
   "outputs": [
    {
     "name": "stdout",
     "output_type": "stream",
     "text": [
      "0b1110\n"
     ]
    }
   ],
   "source": [
    "# 특정 비트를 1로 설정 (비트 Set)\n",
    "num = 0b1010\n",
    "pos = 2 #오른쪽에서 세번째 비트\n",
    "\n",
    "result = num | (1 << pos) #| : or\n",
    "#(1 << pos) : 100\n",
    "print(bin(result)) #0b1110\n"
   ]
  },
  {
   "cell_type": "code",
   "execution_count": 2,
   "metadata": {},
   "outputs": [
    {
     "name": "stdout",
     "output_type": "stream",
     "text": [
      "0b1000\n"
     ]
    }
   ],
   "source": [
    "#특정 비트를 0으로 설정 (비트 Clear)\n",
    "\n",
    "num = 0b1010\n",
    "pos = 1 #오른쪽에서 두번째 비트\n",
    "\n",
    "result = num & ~(1 << pos) #&: and\n",
    "#~(1 << pos) : 1101\n",
    "print(bin(result)) #0b1000"
   ]
  },
  {
   "cell_type": "code",
   "execution_count": 5,
   "metadata": {},
   "outputs": [
    {
     "name": "stdout",
     "output_type": "stream",
     "text": [
      "0b1000\n",
      "0b1010\n"
     ]
    }
   ],
   "source": [
    "#비트 토글 (0->1, 1->0)\n",
    "\n",
    "num = 0b1010\n",
    "pos = 1 #오른쪽에서 두번째 비트\n",
    "\n",
    "result = num ^ (1 << pos) #^: xor\n",
    "#(1 << pos) : 10\n",
    "print(bin(result)) #0b1000\n",
    "\n",
    "#다시 토글 하면 원래 값으로 돌아감\n",
    "result = result ^ (1 << pos) #^: xor\n",
    "#(1 << pos) : 10\n",
    "print(bin(result)) #0b1000\n"
   ]
  },
  {
   "cell_type": "code",
   "execution_count": 7,
   "metadata": {},
   "outputs": [
    {
     "name": "stdout",
     "output_type": "stream",
     "text": [
      "True\n",
      "False\n"
     ]
    }
   ],
   "source": [
    "# 특정 자리의 비트가 1인지 확인\n",
    "num = 0b1010\n",
    "\n",
    "pos = 1 #오른쪽에서 두번째 비트\n",
    "result = num & (1 << pos) != 0\n",
    "print(result) \n",
    "\n",
    "pos = 2 #오른쪽에서 세번째 비트\n",
    "result = num & (1 << pos) != 0\n",
    "print(result) \n"
   ]
  },
  {
   "cell_type": "code",
   "execution_count": 15,
   "metadata": {},
   "outputs": [
    {
     "name": "stdout",
     "output_type": "stream",
     "text": [
      "-110\n",
      "2\n",
      "0010\n",
      "0100\n",
      "--------------------\n",
      "0010\n",
      "0100\n"
     ]
    }
   ],
   "source": [
    "# 가장 오른쪽에 있는 1인 비트값 얻기.\n",
    "\n",
    "bit_num = 0b0110\n",
    "# -bit_num = 1001(~) + 1 # 가장 오른쪽 1인 자리 제외 모두 0이 됨.\n",
    "print(format(bit_num & - bit_num))\n",
    "print(format(bit_num & - bit_num,'04b'))\n",
    "\n",
    "cur_pos = bit_num & - bit_num\n",
    "print(format(bit_num ^ cur_pos, '04b'))\n",
    "\n",
    "print('--------------------')\n",
    "while bit_num:\n",
    "    cur_pos = bit_num & -bit_num\n",
    "    bit_num ^= cur_pos\n",
    "    print(format(cur_pos, '04b'))"
   ]
  },
  {
   "cell_type": "code",
   "execution_count": 16,
   "metadata": {},
   "outputs": [
    {
     "name": "stdout",
     "output_type": "stream",
     "text": [
      "0100\n"
     ]
    }
   ],
   "source": [
    "# 가장 오른쪽의 1인 친구 clear\n",
    "bin_num = 0b0110\n",
    "#bin_num - 1 = 해당 숫자의 가장 오른쪽에 있는 1의 bit를 0으로 바꾸고, 그 이후 오른쪽 모든 0을 1로 바꿈\n",
    "print(format(bin_num & (bin_num-1), '04b'))"
   ]
  },
  {
   "cell_type": "code",
   "execution_count": 19,
   "metadata": {},
   "outputs": [
    {
     "name": "stdout",
     "output_type": "stream",
     "text": [
      "0b10101000 0b10100111\n",
      "0b10100000 0b10011111\n",
      "0b10000000 0b1111111\n",
      "3\n"
     ]
    }
   ],
   "source": [
    "# 비트에 있는 1의 개수 세기\n",
    "\n",
    "bin_num = 0b10101000\n",
    "\n",
    "cnt=0\n",
    "while bin_num:\n",
    "    print(bin(bin_num), bin(bin_num-1))\n",
    "    bin_num &= (bin_num-1)\n",
    "    cnt+=1\n",
    "print(cnt)\n"
   ]
  },
  {
   "cell_type": "code",
   "execution_count": 36,
   "metadata": {},
   "outputs": [
    {
     "name": "stdout",
     "output_type": "stream",
     "text": [
      "부분집합 [[], ['딸'], ['수'], ['딸', '수'], ['복'], ['딸', '복'], ['수', '복'], ['딸', '수', '복']]\n"
     ]
    }
   ],
   "source": [
    "# 부분집합\n",
    "\n",
    "N=3 \n",
    "fruits = ['딸','수','복']\n",
    "result=[]\n",
    "for i in range(1<<N):\n",
    "    subset=[]\n",
    "    for j in range(N):\n",
    "        if i & (1<<j):\n",
    "            subset.append(fruits[j])\n",
    "    result.append(subset)\n",
    "print('부분집합',result)\n",
    "            "
   ]
  },
  {
   "cell_type": "code",
   "execution_count": 27,
   "metadata": {},
   "outputs": [
    {
     "name": "stdout",
     "output_type": "stream",
     "text": [
      "부분집합 []\n",
      "부분집합 ['딸']\n",
      "부분집합 ['수']\n",
      "부분집합 ['딸', '수']\n",
      "부분집합 ['복']\n",
      "부분집합 ['딸', '복']\n",
      "부분집합 ['수', '복']\n",
      "부분집합 ['딸', '수', '복']\n"
     ]
    }
   ],
   "source": [
    "# 부분집합\n",
    "\n",
    "N=3 \n",
    "fruits = ['딸','수','복']\n",
    "for i in range(1<<N):\n",
    "    subset=[]\n",
    "    while i :\n",
    "        pos = i & -i # 가장 오른쪾에 있는 비트값\n",
    "        i^= pos # 비트 클리어\n",
    "        subset.append(fruits[pos.bit_length()-1])\n",
    "    print('부분집합',subset)"
   ]
  },
  {
   "cell_type": "code",
   "execution_count": 52,
   "metadata": {},
   "outputs": [
    {
     "name": "stdout",
     "output_type": "stream",
     "text": [
      "['A', 'B', 'C', 'D']\n",
      "['A', 'B', 'D', 'C']\n",
      "['A', 'C', 'B', 'D']\n",
      "['A', 'C', 'D', 'B']\n",
      "['A', 'D', 'B', 'C']\n",
      "['A', 'D', 'C', 'B']\n",
      "['B', 'A', 'C', 'D']\n",
      "['B', 'A', 'D', 'C']\n",
      "['B', 'C', 'A', 'D']\n",
      "['B', 'C', 'D', 'A']\n",
      "['B', 'D', 'A', 'C']\n",
      "['B', 'D', 'C', 'A']\n",
      "['C', 'A', 'B', 'D']\n",
      "['C', 'A', 'D', 'B']\n",
      "['C', 'B', 'A', 'D']\n",
      "['C', 'B', 'D', 'A']\n",
      "['C', 'D', 'A', 'B']\n",
      "['C', 'D', 'B', 'A']\n",
      "['D', 'A', 'B', 'C']\n",
      "['D', 'A', 'C', 'B']\n",
      "['D', 'B', 'A', 'C']\n",
      "['D', 'B', 'C', 'A']\n",
      "['D', 'C', 'A', 'B']\n",
      "['D', 'C', 'B', 'A']\n"
     ]
    }
   ],
   "source": [
    "# 특정 리스트의 순열\n",
    "\n",
    "def perm(idx):\n",
    "    if idx == N :\n",
    "        print(subset)\n",
    "        return\n",
    "    \n",
    "    for j in range(N) :\n",
    "        if not visited[j] :\n",
    "            visited[j] = 1\n",
    "            subset[idx] = fruits[j]\n",
    "            perm(idx+1)\n",
    "            visited[j]=0\n",
    "\n",
    "N=4\n",
    "fruits = ['A','B','C','D']\n",
    "subset=[None]*N\n",
    "visited = [0]*N\n",
    "# for legnth in \n",
    "perm(0)\n"
   ]
  },
  {
   "cell_type": "code",
   "execution_count": 33,
   "metadata": {},
   "outputs": [
    {
     "name": "stdout",
     "output_type": "stream",
     "text": [
      "['딸', '수', '복']\n",
      "['딸', '복', '수']\n",
      "['수', '딸', '복']\n",
      "['수', '복', '딸']\n",
      "['복', '딸', '수']\n",
      "['복', '수', '딸']\n"
     ]
    }
   ],
   "source": [
    "# 특정 리스트의 순열\n",
    "\n",
    "def perm(idx,visited_mask):\n",
    "    if idx == N :\n",
    "        print(subset)\n",
    "        return\n",
    "    \n",
    "    for j in range(N) :\n",
    "        if not (visited_mask & (1<<j)) :\n",
    "            subset[idx] = fruits[j]\n",
    "            perm(idx+1, visited_mask | (1<<j))\n",
    "\n",
    "N=3\n",
    "fruits = ['딸','수','복']\n",
    "subset=[None]*N\n",
    "visited = [0]*N\n",
    "perm(0,0)\n"
   ]
  },
  {
   "cell_type": "code",
   "execution_count": 35,
   "metadata": {},
   "outputs": [
    {
     "name": "stdout",
     "output_type": "stream",
     "text": [
      "['딸', '수', '복']\n",
      "['딸', '복', '수']\n",
      "['수', '딸', '복']\n",
      "['수', '복', '딸']\n",
      "['복', '딸', '수']\n",
      "['복', '수', '딸']\n"
     ]
    }
   ],
   "source": [
    "# 특정 리스트의 순열\n",
    "\n",
    "def perm(idx,visited_mask):\n",
    "    if idx == N :\n",
    "        print(subset)\n",
    "        return\n",
    "    \n",
    "    # 탐색 가능한 위치 뽑아내기\n",
    "    # (1<<N)    : 1000\n",
    "    # (1<<N) -1 : 111\n",
    "    possible_mask = ((1<<N)-1) & ~visited_mask\n",
    "    while possible_mask : \n",
    "        pos = possible_mask & -possible_mask\n",
    "        possible_mask ^= pos   \n",
    "        subset[idx] = fruits[pos.bit_length()-1]\n",
    "        perm(idx+1, visited_mask | pos)\n",
    "\n",
    "N=3\n",
    "fruits = ['딸','수','복']\n",
    "subset=[None]*N\n",
    "visited = [0]*N\n",
    "perm(0,0)"
   ]
  },
  {
   "cell_type": "code",
   "execution_count": 41,
   "metadata": {},
   "outputs": [
    {
     "name": "stdout",
     "output_type": "stream",
     "text": [
      "1 0 a\n",
      "2 1 b\n",
      "3 0 a\n",
      "3 1 b\n",
      "4 2 c\n",
      "5 0 a\n",
      "5 2 c\n",
      "6 1 b\n",
      "6 2 c\n",
      "7 0 a\n",
      "7 1 b\n",
      "7 2 c\n",
      "8 3 d\n",
      "9 0 a\n",
      "9 3 d\n",
      "10 1 b\n",
      "10 3 d\n",
      "11 0 a\n",
      "11 1 b\n",
      "11 3 d\n",
      "12 2 c\n",
      "12 3 d\n",
      "13 0 a\n",
      "13 2 c\n",
      "13 3 d\n",
      "14 1 b\n",
      "14 2 c\n",
      "14 3 d\n",
      "15 0 a\n",
      "15 1 b\n",
      "15 2 c\n",
      "15 3 d\n",
      "부분집합 [[], ['a'], ['b'], ['a', 'b'], ['c'], ['a', 'c'], ['b', 'c'], ['a', 'b', 'c'], ['d'], ['a', 'd'], ['b', 'd'], ['a', 'b', 'd'], ['c', 'd'], ['a', 'c', 'd'], ['b', 'c', 'd'], ['a', 'b', 'c', 'd']]\n"
     ]
    }
   ],
   "source": [
    "# 부분집합\n",
    "N=4 \n",
    "fruits = ['a','b','c','d']\n",
    "result=[]\n",
    "for i in range(1<<N):\n",
    "    subset=[]\n",
    "    for j in range(N):\n",
    "        if i & (1<<j):\n",
    "            print(i,j,fruits[j])\n",
    "            subset.append(fruits[j])\n",
    "    result.append(subset)\n",
    "print('부분집합',result)\n",
    "            "
   ]
  },
  {
   "cell_type": "code",
   "execution_count": null,
   "metadata": {},
   "outputs": [],
   "source": []
  }
 ],
 "metadata": {
  "kernelspec": {
   "display_name": "Python 3",
   "language": "python",
   "name": "python3"
  },
  "language_info": {
   "codemirror_mode": {
    "name": "ipython",
    "version": 3
   },
   "file_extension": ".py",
   "mimetype": "text/x-python",
   "name": "python",
   "nbconvert_exporter": "python",
   "pygments_lexer": "ipython3",
   "version": "3.12.4"
  }
 },
 "nbformat": 4,
 "nbformat_minor": 2
}
