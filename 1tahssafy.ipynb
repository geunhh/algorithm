{
 "cells": [
  {
   "cell_type": "code",
   "execution_count": null,
   "metadata": {},
   "outputs": [],
   "source": [
    "\n"
   ]
  },
  {
   "cell_type": "code",
   "execution_count": null,
   "metadata": {},
   "outputs": [],
   "source": [
    "#       254\n",
    "# 127  ***********\n",
    "#      *         *\n",
    "#      *         *\n",
    "#      ***********"
   ]
  },
  {
   "cell_type": "code",
   "execution_count": 21,
   "metadata": {},
   "outputs": [
    {
     "name": "stdout",
     "output_type": "stream",
     "text": [
      "\n",
      "최소거리 : 65.59153908851354\n",
      "좌표 : [0, 63.5]\n",
      "71.32153908851355\n",
      "1.0873588282822204\n"
     ]
    },
    {
     "ename": "TypeError",
     "evalue": "can't multiply sequence by non-int of type 'float'",
     "output_type": "error",
     "traceback": [
      "\u001b[1;31m---------------------------------------------------------------------------\u001b[0m",
      "\u001b[1;31mTypeError\u001b[0m                                 Traceback (most recent call last)",
      "Cell \u001b[1;32mIn[21], line 32\u001b[0m\n\u001b[0;32m     30\u001b[0m multi \u001b[38;5;241m=\u001b[39m dist_xy2hole\u001b[38;5;241m/\u001b[39mmin_dist_dest2hole\n\u001b[0;32m     31\u001b[0m \u001b[38;5;28mprint\u001b[39m(multi)\n\u001b[1;32m---> 32\u001b[0m s2d_ball \u001b[38;5;241m=\u001b[39m \u001b[43mdest_ball\u001b[49m\u001b[43m \u001b[49m\u001b[38;5;241;43m*\u001b[39;49m\u001b[43m \u001b[49m\u001b[43mmulti\u001b[49m\n\u001b[0;32m     33\u001b[0m \u001b[38;5;28mprint\u001b[39m(s2d_ball)\n",
      "\u001b[1;31mTypeError\u001b[0m: can't multiply sequence by non-int of type 'float'"
     ]
    }
   ],
   "source": [
    "import math\n",
    "my_ball = (30,122)\n",
    "dest_ball = (60,90)\n",
    "r = 5.73/2\n",
    "hole = [\n",
    "\n",
    "    (0,127),(127,127),(254,127),\n",
    "    (0,127/2),(254,127/2),\n",
    "    (0,0),(254//2,0),(254,0)\n",
    "]\n",
    "min_dist_dest2hole = 9999\n",
    "min_dist_xy=[0,0]\n",
    "for x,y in hole:\n",
    "    # print('거리 :', math.sqrt(    (dest_ball[0] - x)**2 + ((dest_ball[1]) - y)**2     ))\n",
    "    # print(x,y,'홀 : ')\n",
    "    # min dest 갱신 -> 여기 공 넣을거임.\n",
    "    if min_dist_dest2hole > math.sqrt((dest_ball[0] - x)**2 + ((dest_ball[1]) - y)**2):\n",
    "        min_dist_dest2hole = math.sqrt((dest_ball[0] - x)**2 + ((dest_ball[1]) - y)**2)\n",
    "        min_dist_xy = [x,y]\n",
    "print()\n",
    "print('최소거리 :',min_dist_dest2hole)\n",
    "print('좌표 :',min_dist_xy)\n",
    "hole_xy = min_dist_xy\n",
    "# min_dest_xy\n",
    "# min_dest_dest2hole\n",
    "\n",
    "### 홀과 목적구 거리 구해서 -> 초구가 목적구를 타격하기 위해 도달해야할 곳 좌표 구하기. ###\n",
    "print(min_dist_dest2hole + 2*r)\n",
    "dist_xy2hole = min_dist_dest2hole + 2*r # 목적구에서 홀까지의 거리 + 공의 반지름 + 공의 반지름\n",
    "multi = dist_xy2hole/min_dist_dest2hole\n",
    "print(multi)\n",
    "s2d_ball = dest_ball * multi\n",
    "print(s2d_ball)\n",
    "\n",
    "\n"
   ]
  },
  {
   "cell_type": "markdown",
   "metadata": {},
   "source": [
    "#          254\n",
    "# 127  ***********\n",
    "#      *         *\n",
    "#      *         *\n",
    "#      ***********"
   ]
  },
  {
   "cell_type": "code",
   "execution_count": 37,
   "metadata": {},
   "outputs": [
    {
     "name": "stdout",
     "output_type": "stream",
     "text": [
      "[254, 63.5] 여기로 넣는닷!!\n",
      "우하\n",
      "[251.135, 66.365] 사실 여기임\n",
      "21.38247584249853\n",
      "1.3660762717449655\n",
      "[273.2152543489931, 54.64305086979862]\n",
      "150.3107432724496\n",
      "우하이니까 87.95759383958861 실제론 177.9575938395886\n"
     ]
    }
   ],
   "source": [
    "# 4단계까지만 깨자\n",
    "import math\n",
    "# 어디 넣을지 \n",
    "\n",
    "def where_hole(hole, mokjeok_ball):\n",
    "    min_dist_dest2hole = 9999\n",
    "    min_dist_xy=[0,0]\n",
    "    for x,y in hole:\n",
    "    # print('거리 :', math.sqrt(    (mokjeok_ball[0] - x)**2 + ((mokjeok_ball[1]) - y)**2     ))\n",
    "    # print(x,y,'홀 : ')\n",
    "    # min dest 갱신 -> 여기 공 넣을거임.\n",
    "        if min_dist_dest2hole > math.sqrt((mokjeok_ball[0] - x)**2 + ((mokjeok_ball[1]) - y)**2):\n",
    "            min_dist_dest2hole = math.sqrt((mokjeok_ball[0] - x)**2 + ((mokjeok_ball[1]) - y)**2)\n",
    "            min_dist_xy = [x,y]\n",
    "    return min_dist_xy\n",
    "\n",
    "\n",
    "\n",
    "cho_ball = (123,60)              # 초구\n",
    "#mokjeok_ball = (240,120)        # 목적구\n",
    "mokjeok_ball = (200, 40)\n",
    "r = 5.73/2                      # 반지름 5.73 : 직경\n",
    "# \n",
    "hole = [\n",
    "    (0,127),(127,127),(254,127),\n",
    "    (0,127/2),(254,127/2),\n",
    "    (0,0),(254//2,0),(254,0)\n",
    "]\n",
    "\n",
    "\n",
    "# hole 좌표. 구하기.\n",
    "hole_xy = where_hole(hole,mokjeok_ball)\n",
    "print(hole_xy,'여기로 넣는닷!!')\n",
    "\n",
    "# # width -r , height-r 해주기.\n",
    "# hole_xy[0] -= r\n",
    "# hole_xy[1] -= r\n",
    "# print(hole_xy,'사실 여기임')\n",
    "\n",
    "\n",
    "\n",
    "# 목적구가 초구의 좌상\n",
    "if cho_ball[0] > mokjeok_ball[0] and cho_ball[1] < mokjeok_ball[1]:\n",
    "    print('좌상')\n",
    "    hole_xy[0] += r\n",
    "    hole_xy[1] -= r\n",
    "    print(hole_xy,'사실 여기임')\n",
    "# 목적구가 초구의 우상\n",
    "elif cho_ball[0] < mokjeok_ball[0] and cho_ball[1] < mokjeok_ball[1]:\n",
    "    print('우상')\n",
    "    hole_xy[0] -= r\n",
    "    hole_xy[1] -= r\n",
    "    print(hole_xy,'사실 여기임')\n",
    "\n",
    "# 목적구가 초구의 우하\n",
    "elif cho_ball[0] <mokjeok_ball[0] and cho_ball[1] > mokjeok_ball[1]:\n",
    "    print('우하')\n",
    "    hole_xy[0] -= r\n",
    "    hole_xy[1] += r\n",
    "    print(hole_xy,'사실 여기임')\n",
    "# 그 외\n",
    "else:\n",
    "    print('좌하 또는 일직선.')\n",
    "    hole_xy[0] += r\n",
    "    hole_xy[1] += r\n",
    "    print(hole_xy,'사실 여기임')\n",
    "\n",
    "\n",
    "### 홀과 목적구 거리 구해서 -> 초구가 목적구를 타격하기 위해 도달해야할 곳 좌표 구하기. ###\n",
    "print(min_dist_dest2hole + 2*r)\n",
    "# 목적구에서 홀까지의 거리 + 공의 반지름 * 2\n",
    "dist_xy2hole = min_dist_dest2hole + 2*r \n",
    "# 삼각비\n",
    "multi = dist_xy2hole / min_dist_dest2hole # \n",
    "print(multi)\n",
    "s2d_ball=[]\n",
    "# 초구가 도착해야할 좌표.\n",
    "for num in mokjeok_ball:\n",
    "    s2d_ball.append(num * multi)\n",
    "\n",
    "print(s2d_ball)\n",
    "# 초구에서 목적구까지 거리\n",
    "dist_cho2s2d = math.sqrt((cho_ball[0] - s2d_ball[0])**2 + ((cho_ball[1]) - s2d_ball[1])**2)\n",
    "print(dist_cho2s2d)\n",
    "theta = math.asin(abs(s2d_ball[0]-cho_ball[0]) / dist_cho2s2d)\n",
    "theta_degree = math.degrees(theta)\n",
    "\n",
    "if cho_ball[0] > mokjeok_ball[0] and cho_ball[1] < mokjeok_ball[1]:\n",
    "    print('좌상이니까', theta_degree, '실제론', -theta_degree)\n",
    "# 목적구가 초구의 우상\n",
    "elif cho_ball[0] < mokjeok_ball[0] and cho_ball[1] < mokjeok_ball[1]:\n",
    "    print('우상이니까', theta_degree, '그대로')\n",
    "\n",
    "# 목적구가 초구의 우하\n",
    "elif cho_ball[0] <mokjeok_ball[0] and cho_ball[1] > mokjeok_ball[1]:\n",
    "    print('우하이니까', theta_degree, \"실제론\", theta_degree+90)\n",
    "# 그 외\n",
    "else:\n",
    "    print('좌하 또는 일직선.',-theta_degree -90)\n",
    "\n"
   ]
  },
  {
   "cell_type": "code",
   "execution_count": 19,
   "metadata": {},
   "outputs": [
    {
     "name": "stdout",
     "output_type": "stream",
     "text": [
      "1.9999999999999998\n",
      "2.617993877991494\n",
      "150.0\n"
     ]
    }
   ],
   "source": [
    "import math\n",
    "\n",
    "pi = math.pi\n",
    "\n",
    "# 흰공 위치\n",
    "x1 = 0\n",
    "y1 = 0\n",
    "\n",
    "# 타겟공 위치\n",
    "x2 = 1\n",
    "y2 = -math.sqrt(3)\n",
    "\n",
    "x_diff = x2 - x1\n",
    "y_diff = y2 - y1\n",
    "\n",
    "distance = math.sqrt(x_diff**2 + y_diff**2)\n",
    "print(distance)\n",
    "\n",
    "degree = math.atan2(y_diff, x_diff)\n",
    "# print(degree)  # 단위 : 라디안\n",
    "if pi/2 <= degree <= pi:\n",
    "    print(2*pi - (degree-pi/2))\n",
    "else:\n",
    "    print(pi/2 - degree)\n",
    "degree = math.degrees(math.atan2(y_diff, x_diff))\n",
    "# print(degree)  # 단위 : 도\n",
    "if 90 <= degree <= 180:\n",
    "    print(360 - (degree - 90))\n",
    "else:\n",
    "    print(90 - degree)"
   ]
  }
 ],
 "metadata": {
  "kernelspec": {
   "display_name": "Python 3",
   "language": "python",
   "name": "python3"
  },
  "language_info": {
   "codemirror_mode": {
    "name": "ipython",
    "version": 3
   },
   "file_extension": ".py",
   "mimetype": "text/x-python",
   "name": "python",
   "nbconvert_exporter": "python",
   "pygments_lexer": "ipython3",
   "version": "3.12.3"
  }
 },
 "nbformat": 4,
 "nbformat_minor": 2
}
