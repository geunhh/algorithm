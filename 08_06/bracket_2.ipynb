{
 "cells": [
  {
   "cell_type": "markdown",
   "metadata": {},
   "source": [
    "1. 문자열 roop 돌면서 '괄호' 나오면 stack push 및 pop\n",
    "2. 다 돌고 stack이 -1인가?? 확인하기.\n"
   ]
  },
  {
   "cell_type": "code",
   "execution_count": 5,
   "metadata": {},
   "outputs": [
    {
     "name": "stdout",
     "output_type": "stream",
     "text": [
      "1 -1\n"
     ]
    }
   ],
   "source": [
    "\n",
    "def bracket_test(code,top):\n",
    "    for item in code:\n",
    "        # 시작부터 틀림\n",
    "        if top == -1 and (item ==')' or item =='}'):\n",
    "            return 0\n",
    "        elif item == '(' or item =='{':\n",
    "            top+=1\n",
    "            stack[top] = item\n",
    "        elif item == ')' and stack[top] =='(':\n",
    "            stack.pop()\n",
    "            top-=1\n",
    "        elif item == ')' and stack[top] =='{':\n",
    "            return 0\n",
    "            \n",
    "        elif item =='}' and stack[top]=='{':\n",
    "            stack.pop()\n",
    "            top-=1\n",
    "        elif item =='}' and stack[top=='()']:\n",
    "            stack.pop()\n",
    "    if top == -1:            \n",
    "        return 1\n",
    "    else :\n",
    "        return 0\n",
    "        \n",
    "\n",
    "\n",
    "T= int(input())\n",
    "for tc in range(1,T+1):\n",
    "    # 변수 및 stack 만들기\n",
    "    code = input().strip()\n",
    "    N = len(code)\n",
    "    stack = [0] * N\n",
    "    top =-1\n",
    "    result = bracket_test(code,top)\n",
    "\n",
    "    print(f'#{tc} {result}')\n",
    "\n"
   ]
  },
  {
   "cell_type": "markdown",
   "metadata": {},
   "source": [
    "아래꺼 오답케이스가 잇는데, 위랑 뭐가 다른거지.."
   ]
  },
  {
   "cell_type": "code",
   "execution_count": 12,
   "metadata": {},
   "outputs": [
    {
     "name": "stdout",
     "output_type": "stream",
     "text": [
      "#1 0\n"
     ]
    }
   ],
   "source": [
    "\n",
    "def bracket_test(code):\n",
    "    for item in code:\n",
    "        # 시작부터 틀림\n",
    "        if len(stack) == 0 and (item ==')' or item =='}'):\n",
    "            return 0\n",
    "        elif item == '(' or item =='{':\n",
    "            stack.append(item)\n",
    "        elif item == ')':\n",
    "            if stack[-1]=='(':\n",
    "                stack.pop()\n",
    "            else:\n",
    "                return 0        \n",
    "        elif item =='}':\n",
    "            if stack[-1]=='{':\n",
    "                stack.pop()\n",
    "            else:\n",
    "                return 0     \n",
    "        # print(stack)\n",
    "    if len(stack) == 0:   \n",
    "        return 1\n",
    "    else :\n",
    "        return 0\n",
    "        \n",
    "\n",
    "stack = []\n",
    "T= int(input())\n",
    "for tc in range(1,T+1):\n",
    "    # 변수 및 stack 만들기\n",
    "    code = input().strip()\n",
    "    N = len(code)\n",
    "    \n",
    "    result = bracket_test(code)\n",
    "\n",
    "    print(f'#{tc} {result}')\n",
    "\n"
   ]
  },
  {
   "cell_type": "code",
   "execution_count": 18,
   "metadata": {},
   "outputs": [
    {
     "name": "stdout",
     "output_type": "stream",
     "text": [
      "[]\n",
      "['(', '(', ')', '(']\n",
      ")\n",
      "3\n"
     ]
    }
   ],
   "source": [
    "ss = []\n",
    "print(ss)\n",
    "ss.append('(')\n",
    "ss.append('(')\n",
    "ss.append(')')\n",
    "ss.append('(')\n",
    "print(ss)\n",
    "ss.pop()\n",
    "print(ss[-1])\n",
    "print(len(ss))"
   ]
  }
 ],
 "metadata": {
  "kernelspec": {
   "display_name": "Python 3",
   "language": "python",
   "name": "python3"
  },
  "language_info": {
   "codemirror_mode": {
    "name": "ipython",
    "version": 3
   },
   "file_extension": ".py",
   "mimetype": "text/x-python",
   "name": "python",
   "nbconvert_exporter": "python",
   "pygments_lexer": "ipython3",
   "version": "3.9.13"
  }
 },
 "nbformat": 4,
 "nbformat_minor": 2
}
