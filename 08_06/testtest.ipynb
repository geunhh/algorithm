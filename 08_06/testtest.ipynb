{
 "cells": [
  {
   "cell_type": "code",
   "execution_count": 38,
   "metadata": {},
   "outputs": [
    {
     "ename": "ValueError",
     "evalue": "invalid literal for int() with base 10: '((()))'",
     "output_type": "error",
     "traceback": [
      "\u001b[1;31m---------------------------------------------------------------------------\u001b[0m",
      "\u001b[1;31mValueError\u001b[0m                                Traceback (most recent call last)",
      "Cell \u001b[1;32mIn[38], line 18\u001b[0m\n\u001b[0;32m     15\u001b[0m     \u001b[38;5;28;01melse\u001b[39;00m:\n\u001b[0;32m     16\u001b[0m         \u001b[38;5;28;01mreturn\u001b[39;00m stack\u001b[38;5;241m.\u001b[39mpop()\n\u001b[1;32m---> 18\u001b[0m T\u001b[38;5;241m=\u001b[39m\u001b[38;5;28;43mint\u001b[39;49m\u001b[43m(\u001b[49m\u001b[38;5;28;43minput\u001b[39;49m\u001b[43m(\u001b[49m\u001b[43m)\u001b[49m\u001b[43m)\u001b[49m\n\u001b[0;32m     19\u001b[0m \u001b[38;5;28;01mfor\u001b[39;00m tc \u001b[38;5;129;01min\u001b[39;00m \u001b[38;5;28mrange\u001b[39m(\u001b[38;5;241m1\u001b[39m,T\u001b[38;5;241m+\u001b[39m\u001b[38;5;241m1\u001b[39m):\n\u001b[0;32m     20\u001b[0m     arr \u001b[38;5;241m=\u001b[39m \u001b[38;5;28minput\u001b[39m()\u001b[38;5;241m.\u001b[39mstrip()\n",
      "\u001b[1;31mValueError\u001b[0m: invalid literal for int() with base 10: '((()))'"
     ]
    }
   ],
   "source": [
    "\n",
    "# push\n",
    "def push(item):\n",
    "    global top \n",
    "    top+=1   \n",
    "    if top == N:\n",
    "        print('overflow')\n",
    "    else:\n",
    "        stack[top] = item\n",
    "#pop\n",
    "def my_pop():\n",
    "    global top\n",
    "    if top == -1 :\n",
    "        print('underflow')\n",
    "        return \n",
    "    else:\n",
    "        return stack.pop()\n",
    "\n",
    "T=int(input())\n",
    "for tc in range(1,T+1):\n",
    "    arr = input().strip()\n",
    "    N = len(arr[0])            #stack 크기 설정\n",
    "    stack = [0] * N\n",
    "    top = -1\n",
    "\n",
    "    for c in arr[0]:\n",
    "        if c == '(':\n",
    "            push(c)\n",
    "        else:\n",
    "            my_pop(stack)\n",
    "    print(stack)\n",
    "\n",
    "\n",
    "\n",
    "    "
   ]
  },
  {
   "cell_type": "code",
   "execution_count": 55,
   "metadata": {},
   "outputs": [
    {
     "name": "stdout",
     "output_type": "stream",
     "text": [
      "1 -1\n"
     ]
    }
   ],
   "source": [
    "def test(arr,top):\n",
    "    for item in arr:\n",
    "        # print(item)        \n",
    "        if item == ')' and top == -1:\n",
    "            return -1\n",
    "            \n",
    "        elif item == '(':\n",
    "            top+=1\n",
    "            stack[top] = item\n",
    "        elif item == ')':\n",
    "            stack.pop()\n",
    "            top-=1\n",
    "\n",
    "    if top == -1:            \n",
    "        return 1\n",
    "    else :\n",
    "        return -1\n",
    "\n",
    "T=int(input())\n",
    "for tc in range(1,T+1):\n",
    "    arr = input().strip()\n",
    "    N = len(arr)            #stack 크기 설정\n",
    "    stack = [0] * N\n",
    "    top = -1                # top -1로 초기화.\n",
    "    result = test(arr,top)\n",
    "    print(f'#{tc} {result}')\n",
    "\n",
    "    \n",
    "\n",
    "# list는 따로 global 안 써도 되니까 함수로 만들어보셈."
   ]
  }
 ],
 "metadata": {
  "kernelspec": {
   "display_name": "Python 3",
   "language": "python",
   "name": "python3"
  },
  "language_info": {
   "codemirror_mode": {
    "name": "ipython",
    "version": 3
   },
   "file_extension": ".py",
   "mimetype": "text/x-python",
   "name": "python",
   "nbconvert_exporter": "python",
   "pygments_lexer": "ipython3",
   "version": "3.9.13"
  }
 },
 "nbformat": 4,
 "nbformat_minor": 2
}
