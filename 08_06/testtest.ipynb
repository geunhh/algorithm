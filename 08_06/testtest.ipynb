{
 "cells": [
  {
   "cell_type": "code",
   "execution_count": 2,
   "metadata": {},
   "outputs": [
    {
     "name": "stdout",
     "output_type": "stream",
     "text": [
      "1 -1\n"
     ]
    }
   ],
   "source": [
    "\n",
    "#스택의 Push, Pop 함수\n",
    "def push(stack, item):\n",
    "    global top\n",
    "    top += 1\n",
    "    if top == len(stack):\n",
    "        top = len(stack) - 1\n",
    "        print('Overflow')\n",
    "    else:\n",
    "        stack[top] = item\n",
    "\n",
    "\n",
    "def pop(stack):\n",
    "    global top\n",
    "    if top == -1:\n",
    "        return None\n",
    "    else:\n",
    "        top -= 1\n",
    "        return stack[top + 1]\n",
    "\n",
    "for tc in range(1, int(input())+1) :\n",
    "    brackets = input().strip()\n",
    "    size = len(brackets)\n",
    "    stack = [0]*size\n",
    "    top = -1\n",
    "\n",
    "    #아이디어\n",
    "    # 1. 여는 괄호는 짝이 아직 안정해 있고 연속으로 나올 수 있다.\n",
    "    # # 1-1) 여는 괄호는 Stack에 저장\n",
    "    # 2. 닫는 괄호가 나온 경우 쌍이 맞는 여는 괄호가 stack의 top에 있어야한다. (((), )) , )\n",
    "    #  # 2-1) 매칭된 여는 괄호는 Pop()으로 뺀다. stack[ (,(,( ] ')' =>  stack[(,(]\n",
    "    # 3. 2의 조건이 False이 경우가 짝이 안맞는 경우이므로 result -1로 출력\n",
    "    #  # 3-1) ex) 닫는 괄호가 나왔는데 stack이 비어있는 경우, 혹은 짝이 안맞는 경우\n",
    "    # 4.입력 데이터의 반복문이 다 돌고 stack이 차있는 경우 result -1 출력\n",
    "    #  # 4-1) ex) stack에 여는 괄호가 아직 남아 있는 경우 [(((]\n",
    "\n",
    "    result = 1\n",
    "    for br in brackets :\n",
    "        #1. 여는 괄호일 경우 stack에 저장\n",
    "        if br == \"(\" :\n",
    "            push(stack, br)\n",
    "        #2. 닫는 괄호 일경우 짝 매칭되는지 확인\n",
    "        elif br == \")\" and top >=0 and stack[top]==\"(\" :\n",
    "            pop(stack)\n",
    "        #3. 2의 조건이 맞지 않는 경우\n",
    "        else :\n",
    "            result = -1\n",
    "            break\n",
    "    #4. stack에 값이 남아 있는 경우\n",
    "    if top >= 0 :\n",
    "        result = -1\n",
    "\n",
    "    print(f\"{tc}\", result)"
   ]
  }
 ],
 "metadata": {
  "kernelspec": {
   "display_name": "Python 3",
   "language": "python",
   "name": "python3"
  },
  "language_info": {
   "codemirror_mode": {
    "name": "ipython",
    "version": 3
   },
   "file_extension": ".py",
   "mimetype": "text/x-python",
   "name": "python",
   "nbconvert_exporter": "python",
   "pygments_lexer": "ipython3",
   "version": "3.9.13"
  }
 },
 "nbformat": 4,
 "nbformat_minor": 2
}
