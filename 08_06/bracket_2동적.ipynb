{
 "cells": [
  {
   "cell_type": "code",
   "execution_count": null,
   "metadata": {},
   "outputs": [],
   "source": []
  },
  {
   "cell_type": "code",
   "execution_count": 5,
   "metadata": {},
   "outputs": [
    {
     "name": "stdout",
     "output_type": "stream",
     "text": [
      "#1 1\n"
     ]
    }
   ],
   "source": [
    "\n",
    "def bracket_test(code):\n",
    "    for item in code:\n",
    "        # 시작부터 틀림\n",
    "        if len(stack) == 0 and (item ==')' or item =='}'):\n",
    "            return 0\n",
    "        elif item == '(' or item =='{':\n",
    "            stack.append(item)\n",
    "        elif item == ')':\n",
    "            if stack[-1]=='(':\n",
    "                stack.pop()\n",
    "            else:\n",
    "                return 0        \n",
    "        elif item =='}':\n",
    "            if stack[-1]=='{':\n",
    "                stack.pop()\n",
    "            else:\n",
    "                return 0     \n",
    "        # print(stack)\n",
    "    if len(stack) == 0:   \n",
    "        return 1\n",
    "    else :\n",
    "        return 0\n",
    "        \n",
    "\n",
    "stack = []\n",
    "T= int(input())\n",
    "for tc in range(1,T+1):\n",
    "    # 변수 및 stack 만들기\n",
    "    code = input().strip()\n",
    "    N = len(code)\n",
    "    \n",
    "    result = bracket_test(code)\n",
    "\n",
    "    print(f'#{tc} {result}')\n",
    "\n"
   ]
  }
 ],
 "metadata": {
  "kernelspec": {
   "display_name": "Python 3",
   "language": "python",
   "name": "python3"
  },
  "language_info": {
   "codemirror_mode": {
    "name": "ipython",
    "version": 3
   },
   "file_extension": ".py",
   "mimetype": "text/x-python",
   "name": "python",
   "nbconvert_exporter": "python",
   "pygments_lexer": "ipython3",
   "version": "3.9.13"
  }
 },
 "nbformat": 4,
 "nbformat_minor": 2
}
