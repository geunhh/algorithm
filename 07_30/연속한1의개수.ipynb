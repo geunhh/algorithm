{
 "cells": [
  {
   "cell_type": "code",
   "execution_count": 14,
   "metadata": {},
   "outputs": [
    {
     "name": "stdout",
     "output_type": "stream",
     "text": [
      "4\n"
     ]
    }
   ],
   "source": [
    "T = int(input())\n",
    "# 여러개의 테스트 케이스가 주어지므로, 각각을 처리합니다.\n",
    "for test_case in range(1, T + 1):\n",
    "    N = int(input())\n",
    "    num = str(int(input()))\n",
    "    my_list=[]\n",
    "    for num in num:\n",
    "        my_list.append(num)\n",
    "    #####\n",
    "    max_count = 0\n",
    "    count = 0\n",
    "\n",
    "    for i in range(len(my_list)):\n",
    "        \n",
    "        if my_list[i] == '1':\n",
    "            count +=1\n",
    "        else :\n",
    "            if max_count < count:\n",
    "                max_count = count\n",
    "                count=0\n",
    "    if max_count <count :\n",
    "        max_count = count\n",
    "    print(f'#{test_case} {max_count}')\n",
    "    \n",
    "        "
   ]
  },
  {
   "cell_type": "code",
   "execution_count": null,
   "metadata": {},
   "outputs": [],
   "source": []
  }
 ],
 "metadata": {
  "kernelspec": {
   "display_name": "Python 3",
   "language": "python",
   "name": "python3"
  },
  "language_info": {
   "codemirror_mode": {
    "name": "ipython",
    "version": 3
   },
   "file_extension": ".py",
   "mimetype": "text/x-python",
   "name": "python",
   "nbconvert_exporter": "python",
   "pygments_lexer": "ipython3",
   "version": "3.9.13"
  }
 },
 "nbformat": 4,
 "nbformat_minor": 2
}
