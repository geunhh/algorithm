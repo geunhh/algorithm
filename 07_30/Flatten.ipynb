{
 "cells": [
  {
   "cell_type": "markdown",
   "metadata": {},
   "source": [
    "1. input : 10개의 tc, 덤프횟수 N, 각 상자 높이값. [list]\n",
    "2. output : 최고 최저 높이 차.\n",
    "3. 변수 : max_num, min_num, N\n",
    "\n",
    "## 문제 풀이 절차\n",
    "+ 가장 쉬운 풀이 + 실행시간 오래걸림\n",
    "+ 가장 높은 값과 낮은 값을 찾음.\n",
    "    + 가장 높은 값 -1 가장 낮은 값 + 1, and 횟수 -1 을 while문에 넣어줌.\n",
    "+ 그리고 최후의 max_num - min_num\n"
   ]
  },
  {
   "cell_type": "code",
   "execution_count": 14,
   "metadata": {},
   "outputs": [
    {
     "name": "stdout",
     "output_type": "stream",
     "text": [
      "#1 32\n"
     ]
    }
   ],
   "source": [
    "\n",
    "# 여러개의 테스트 케이스가 주어지므로, 각각을 처리합니다.\n",
    "for test_case in range(1, 11):\n",
    "    N = int(input())\n",
    "    b_list = list(map(int, input().split()))\n",
    "            \n",
    "    for _ in range(N):\n",
    "        max_index = 0\n",
    "        min_index = 0\n",
    "        for i, value in enumerate(b_list): # 리스트 순회\n",
    "            if value > b_list[max_index]:  # max, min 값 찾기.\n",
    "                max_index = i\n",
    "            if value < b_list[min_index]:                \n",
    "                min_index = i\n",
    "                \n",
    "        b_list[max_index] -=1           # max index에서 값에 1 빼주고\n",
    "        b_list[min_index] +=1           # min index에서는 값에 1 더해줌\n",
    "\n",
    "    final_max = b_list[0]\n",
    "    final_min = b_list[0]\n",
    "    for num in b_list:\n",
    "        if num > final_max:\n",
    "            final_max = num\n",
    "        if num < final_min:\n",
    "            final_min = num\n",
    "\n",
    "    print(f'#{test_case} {final_max-final_min}')\n",
    "    # print(max_num, min_num)\n",
    "\n"
   ]
  }
 ],
 "metadata": {
  "kernelspec": {
   "display_name": "Python 3",
   "language": "python",
   "name": "python3"
  },
  "language_info": {
   "codemirror_mode": {
    "name": "ipython",
    "version": 3
   },
   "file_extension": ".py",
   "mimetype": "text/x-python",
   "name": "python",
   "nbconvert_exporter": "python",
   "pygments_lexer": "ipython3",
   "version": "3.9.13"
  }
 },
 "nbformat": 4,
 "nbformat_minor": 2
}
