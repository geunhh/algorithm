{
 "cells": [
  {
   "cell_type": "code",
   "execution_count": 2,
   "metadata": {},
   "outputs": [
    {
     "name": "stdout",
     "output_type": "stream",
     "text": [
      "0b1110\n"
     ]
    }
   ],
   "source": [
    "# 특정 비트를 1로 설정(비트 Set)\n",
    "num = 0b1010\n",
    "pos = 2 # 오른쪽에서 3번째 비트\n",
    "\n",
    "result = num | (1 << pos)\n",
    "print(bin(result))"
   ]
  },
  {
   "cell_type": "code",
   "execution_count": 4,
   "metadata": {},
   "outputs": [
    {
     "name": "stdout",
     "output_type": "stream",
     "text": [
      "0b1000\n"
     ]
    }
   ],
   "source": [
    "# 특정 비트를 0으로 설정 (비트 clear)\n",
    "\n",
    "num = 0b1010\n",
    "pos = 1 # 오른쪽에서 3번째 비트\n",
    "\n",
    "result = num & ~(1 << pos)\n",
    "print(bin(result))"
   ]
  },
  {
   "cell_type": "code",
   "execution_count": 17,
   "metadata": {},
   "outputs": [
    {
     "name": "stdout",
     "output_type": "stream",
     "text": [
      "0b1110\n",
      "0b1010\n"
     ]
    }
   ],
   "source": [
    "# 비트 토글 ( 0->1, 1->0)\n",
    "\n",
    "num = 0b1010\n",
    "pos = 2 # 오른쪽에서 3번째 비트\n",
    "\n",
    "result = num ^ (1 << pos)\n",
    "print(bin(result))\n",
    "\n",
    "result = result ^ (1 << pos)\n",
    "print(bin(result))"
   ]
  },
  {
   "cell_type": "code",
   "execution_count": 16,
   "metadata": {},
   "outputs": [
    {
     "name": "stdout",
     "output_type": "stream",
     "text": [
      "True\n",
      "False\n"
     ]
    }
   ],
   "source": [
    "# 특정 자리의 비트가 1인지 확인\n",
    "num = 0b1010\n",
    "pos = 1 # 오른쪽에서 3번째 비트\n",
    "\n",
    "result = num & (1 << pos) !=0\n",
    "print(result)\n",
    "\n",
    "result = num & (2 << pos) !=0\n",
    "print(result)\n"
   ]
  }
 ],
 "metadata": {
  "kernelspec": {
   "display_name": "Python 3",
   "language": "python",
   "name": "python3"
  },
  "language_info": {
   "codemirror_mode": {
    "name": "ipython",
    "version": 3
   },
   "file_extension": ".py",
   "mimetype": "text/x-python",
   "name": "python",
   "nbconvert_exporter": "python",
   "pygments_lexer": "ipython3",
   "version": "3.9.13"
  }
 },
 "nbformat": 4,
 "nbformat_minor": 2
}
