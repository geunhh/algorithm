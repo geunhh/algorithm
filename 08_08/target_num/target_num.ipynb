{
 "cells": [
  {
   "cell_type": "code",
   "execution_count": 3,
   "metadata": {},
   "outputs": [
    {
     "name": "stdout",
     "output_type": "stream",
     "text": [
      "[1]\n",
      "hi\n"
     ]
    }
   ],
   "source": [
    "ddd=[1]\n",
    "print(ddd)\n",
    "if not ddd[1:]:\n",
    "    print('hi')\n"
   ]
  },
  {
   "cell_type": "code",
   "execution_count": 12,
   "metadata": {},
   "outputs": [
    {
     "name": "stdout",
     "output_type": "stream",
     "text": [
      "5\n"
     ]
    }
   ],
   "source": [
    "'''\n",
    "+4+1+2+1\n",
    "+4+1+2-1\n",
    "+4+1-2+1\n",
    "+4+1-2-1\n",
    "...\n",
    "...\n",
    "-4-1-2-1\n",
    "'''\n",
    "\n",
    "cnt = 0\n",
    "def solution(numbers,target):\n",
    "    global cnt\n",
    "    \n",
    "    if not numbers and target == 0: # numbers가 비었고, total이 타겟과 같으면,\n",
    "        cnt +=1\n",
    "        return None\n",
    "    elif not numbers :\n",
    "        return None\n",
    "    else:\n",
    "        solution(numbers[1:],target+numbers[0])\n",
    "        solution(numbers[1:],target-numbers[0])\n",
    "\n",
    "    return None\n",
    "\n",
    "\n",
    "\n",
    "numbers = [1, 1, 1, 1, 1]\n",
    "target = 3\n",
    "N = len(numbers)\n",
    "total = 0\n",
    "solution(numbers,target)\n",
    "print(cnt)"
   ]
  }
 ],
 "metadata": {
  "kernelspec": {
   "display_name": "Python 3",
   "language": "python",
   "name": "python3"
  },
  "language_info": {
   "codemirror_mode": {
    "name": "ipython",
    "version": 3
   },
   "file_extension": ".py",
   "mimetype": "text/x-python",
   "name": "python",
   "nbconvert_exporter": "python",
   "pygments_lexer": "ipython3",
   "version": "3.9.13"
  }
 },
 "nbformat": 4,
 "nbformat_minor": 2
}
