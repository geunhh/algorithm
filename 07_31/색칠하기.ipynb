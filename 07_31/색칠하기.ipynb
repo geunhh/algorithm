{
 "cells": [
  {
   "cell_type": "markdown",
   "metadata": {},
   "source": [
    "# 색칠하기\n",
    "\n",
    "1. input \n",
    "+ N : input_list 개수\n",
    "+ a b c d e : (a,b) 부터 (c,d)까지 e 색상으로 색칠\n",
    "    + 1 : Red, 2 : Blue\n",
    "\n",
    "2. output : RED와 Blue가 겹친 영역(x,y) 개수.\n",
    "\n",
    "## 문제 풀이 절차\n",
    "1. check_list 생성 : 색상 체크. [1,2]\n",
    "2. a,b 부터 c,d 까지 포문을 돌려 해당 색상 값을 append \n",
    "3. 색상 list를 순회하며, [1,2] 가 check_list에 포함되면 count +=1"
   ]
  },
  {
   "cell_type": "code",
   "execution_count": 44,
   "metadata": {},
   "outputs": [
    {
     "name": "stdout",
     "output_type": "stream",
     "text": [
      "[[], [], [], [], [], [], [], [], [], []]\n",
      "[[], [], [1], [1], [], [], [], [], [], []]\n",
      "[[], [], [1], [1, 2], [2], [2], [2], [], [], []]\n",
      "[[], [], [1], [1, 2], [2], [2], [1, 2], [1], [1], []]\n",
      "[[], [], [], [2], [2], [2], [1, 2], [1], [1], []]\n",
      "[[], [], [], [2], [2], [2], [1, 2], [1], [1], []]\n",
      "[[], [], [], [], [], [], [1], [1], [1], []]\n",
      "[[], [], [], [], [], [], [], [], [], []]\n",
      "[[], [], [], [], [], [], [], [], [], []]\n",
      "[[], [], [], [], [], [], [], [], [], []]\n",
      "[1]\n",
      "[1]\n",
      "[1]\n",
      "[1, 2]\n",
      "[2]\n",
      "[2]\n",
      "[2]\n",
      "[1]\n",
      "[1, 2]\n",
      "[2]\n",
      "[2]\n",
      "[1, 2]\n",
      "[1]\n",
      "[1]\n",
      "[2]\n",
      "[2]\n",
      "[2]\n",
      "[1, 2]\n",
      "[1]\n",
      "[1]\n",
      "[2]\n",
      "[2]\n",
      "[2]\n",
      "[1, 2]\n",
      "[1]\n",
      "[1]\n",
      "[1]\n",
      "[1]\n",
      "[1]\n",
      "5\n"
     ]
    }
   ],
   "source": [
    "T = int(input())\n",
    "# 여러개의 테스트 케이스가 주어지므로, 각각을 처리합니다.\n",
    "for test_case in range(1, T + 1):\n",
    "    N = int(input())\n",
    "    ##### input 리스트 생성 #####\n",
    "    boxes=[]\n",
    "    count=0\n",
    "    for _ in range(N):\n",
    "        boxes.append(list(map(int, input().split())))  # 포문 안 쓰고 어떻게 함??\n",
    "    ##### check 리스트 생성 ##### \n",
    "    check=[]\n",
    "    for _ in range(10):\n",
    "        row=[]\n",
    "        for _ in range(10):     \n",
    "            row.append([])      \n",
    "        check.append(row)           # 10x10 [] 리스트 생성.\n",
    "    for i in range(len(boxes)):\n",
    "        \n",
    "        for r in range(boxes[i][0],boxes[i][2]+1):\n",
    "            for c in range(boxes[i][1],boxes[i][3]+1):\n",
    "                # print(r,c, '+', boxes[i][4])\n",
    "                check[r][c].append(boxes[i][4])\n",
    "    # 잘 들어갔나 확인.\n",
    "    # for row in check:\n",
    "    #     print(row)\n",
    "\n",
    "    # check list로 확인\n",
    "    # print(check)\n",
    "    for row in check:\n",
    "        for i in range(10):  \n",
    "            if set([1,2]) == set(row[i]): \n",
    "                count+=1\n",
    "\n",
    "    print(f'#{test_case} {count}')\n",
    "        \n",
    "\n",
    "    "
   ]
  }
 ],
 "metadata": {
  "kernelspec": {
   "display_name": "Python 3",
   "language": "python",
   "name": "python3"
  },
  "language_info": {
   "codemirror_mode": {
    "name": "ipython",
    "version": 3
   },
   "file_extension": ".py",
   "mimetype": "text/x-python",
   "name": "python",
   "nbconvert_exporter": "python",
   "pygments_lexer": "ipython3",
   "version": "3.9.13"
  }
 },
 "nbformat": 4,
 "nbformat_minor": 2
}
