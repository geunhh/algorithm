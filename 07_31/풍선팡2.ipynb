{
 "cells": [
  {
   "cell_type": "markdown",
   "metadata": {},
   "source": [
    "# 풍선팡2\n",
    "1. input \n",
    "    + N : row 길이\n",
    "    + M : column 길이\n",
    "    + M_list : value\n",
    "\n",
    "2. output : #tc + 최대값\n",
    "\n",
    "## 문제 풀이 절차\n",
    "1. input 생성\n",
    "    + N(row)값을 range로 for문을 돌려서 add_list를 생성하고\n",
    "    + ballon_lst에 추가하여 생성.\n",
    "2. 좌표 생성\n",
    "    + 상하좌우에 해당하는 dirs list.\n",
    "3. 계산\n",
    "    + N, M을 i,j로 순회.\n",
    "        + dirs list # [-1,0],[1,0],[0,-1],[0,1] 를 활용해 ni, nj 생성\n",
    "    + (row, column) 범위가 유효한 경우 total에 더해줌.\n",
    "    + 기존의 max_total과 비교해 최대값 갱신."
   ]
  },
  {
   "cell_type": "code",
   "execution_count": 15,
   "metadata": {},
   "outputs": [
    {
     "name": "stdout",
     "output_type": "stream",
     "text": [
      "#1 16\n"
     ]
    }
   ],
   "source": [
    "'''\n",
    "3\n",
    "3 5\n",
    "2 1 1 2 2 \n",
    "2 2 1 2 2 \n",
    "2 2 1 1 2 \n",
    "'''\n",
    "\n",
    "T = int(input())\n",
    "# 여러개의 테스트 케이스가 주어지므로, 각각을 처리합니다.\n",
    "##### input 리스트 생성 #####\n",
    "for test_case in range(1, T + 1):\n",
    "    lst = []\n",
    "    max_total=0\n",
    "    N, M = map(int, input().split())        # N, M : row, col\n",
    "    for _ in range(N):\n",
    "        add_lst = list(map(int, input().split()))\n",
    "        lst.append(add_lst)\n",
    "    \n",
    "    dirs = [[-1,0],[1,0],[0,-1],[0,1]] # 상 하 좌 우\n",
    "\n",
    "    for i in range(N):\n",
    "        for j in range(M):\n",
    "            total = lst[i][j]   # total값을 본인 value로 초기화\n",
    "            \n",
    "            # 인접한 좌표 구하기.\n",
    "            for di, dj in dirs:\n",
    "                ni, nj = i + di, j + dj\n",
    "                if  (0 <= ni < N) and (0 <= nj < M) : # 변수 체크 잘 하자. 골 아프다.\n",
    "                    total += lst[ni][nj]            \n",
    "            if total > max_total:\n",
    "                max_total = total\n",
    "\n",
    "    print(f'#{test_case} {max_total}')\n",
    "\n",
    "\n",
    "\n"
   ]
  },
  {
   "cell_type": "code",
   "execution_count": null,
   "metadata": {},
   "outputs": [],
   "source": []
  }
 ],
 "metadata": {
  "kernelspec": {
   "display_name": "Python 3",
   "language": "python",
   "name": "python3"
  },
  "language_info": {
   "codemirror_mode": {
    "name": "ipython",
    "version": 3
   },
   "file_extension": ".py",
   "mimetype": "text/x-python",
   "name": "python",
   "nbconvert_exporter": "python",
   "pygments_lexer": "ipython3",
   "version": "3.9.13"
  }
 },
 "nbformat": 4,
 "nbformat_minor": 2
}
