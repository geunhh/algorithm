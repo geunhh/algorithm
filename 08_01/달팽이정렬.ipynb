{
 "cells": [
  {
   "cell_type": "code",
   "execution_count": 21,
   "metadata": {},
   "outputs": [
    {
     "name": "stdout",
     "output_type": "stream",
     "text": [
      "#1\n",
      "0 1 1 2 2 \n",
      "5 5 7 8 2 \n",
      "5 34 99 9 3 \n",
      "5 19 15 9 3 \n",
      "5 4 4 4 3 \n"
     ]
    }
   ],
   "source": [
    "def sort():\n",
    "    pass\n",
    "def snail(new_arr,N):\n",
    "    add = 0\n",
    "    num_list = new_arr  # 넣은 숫자 list\n",
    "    # print(num_list)\n",
    "    z = 0\n",
    "    a,b,c,d = 0,0,0,0  # i,j\n",
    "    \n",
    "    new_list = [[0] * N for _ in range(N)]\n",
    "    for index in range(2 * N - 1):\n",
    "        # ->\n",
    "        if index % 4 == 0:  # y축 고정 a\n",
    "            for i in range(add, N-add):\n",
    "                new_list[a][i] = num_list[z]\n",
    "                z += 1  # 넣을 숫자 index 올리기.\n",
    "            a += 1\n",
    "\n",
    "        # 아래\n",
    "        elif index % 4 == 1:  # x축 고정 b\n",
    "            for j in range(add+1, N-add):\n",
    "                new_list[j][N-1-b] = num_list[z]\n",
    "                z += 1  # 넣을 숫자 index 올리기.\n",
    "            b += 1\n",
    "\n",
    "        # <-\n",
    "        elif index % 4 == 2:  # y 축 고정 c\n",
    "            for i in range(N - 2 - add, add - 1, -1):\n",
    "                new_list[c-1][i] = num_list[z]\n",
    "                z += 1  # 넣을 숫자 index 올리기.\n",
    "            c -= 1\n",
    "        # 위\n",
    "        elif index % 4 == 3:  # y축만 바뀜\n",
    "            for j in range(N - 1 - add, add+1, -1):\n",
    "                new_list[j-1][d] = num_list[z]\n",
    "                z += 1  # 넣을 숫자 index 올리기.\n",
    "            add += 1\n",
    "            d += 1\n",
    "        #####\n",
    "\n",
    "    return new_list\n",
    "\n",
    "\n",
    "T = int(input())\n",
    "# 여러개의 테스트 케이스가 주어지므로, 각각을 처리합니다.\n",
    "for test_case in range(1, T + 1):\n",
    "    N = int(input()) # 배열의 크기\n",
    "    arr=[]\n",
    "    for _ in range(N):\n",
    "        row = list(map(int,input().split()))\n",
    "        arr.append(row)\n",
    "    # arr 병합.\n",
    "    new_arr =[]\n",
    "    for i in range(len(arr)): \n",
    "        new_arr.extend(arr[i])\n",
    "    new_arr.sort()\n",
    "\n",
    "    result = snail(new_arr,N)\n",
    "\n",
    "    print(f'#{test_case}')\n",
    "    for row in result:\n",
    "        for num in row:\n",
    "            print(num, end=' ')\n",
    "        print()\n",
    "\n",
    "# print(result)"
   ]
  },
  {
   "cell_type": "code",
   "execution_count": 17,
   "metadata": {},
   "outputs": [
    {
     "name": "stdout",
     "output_type": "stream",
     "text": [
      "[1, 5, 9, 7, 2, 2, 1, 6, 4]\n",
      "[1, 1, 2, 2, 4, 5, 6, 7, 9]\n"
     ]
    }
   ],
   "source": [
    "N = int(input()) # 배열의 크기\n",
    "arr=[]\n",
    "for _ in range(N):\n",
    "    row = list(map(int,input().split()))\n",
    "    arr.append(row)\n",
    "# arr 병합.\n",
    "new_arr =[]\n",
    "for i in range(len(arr)): \n",
    "    new_arr.extend(arr[i])\n",
    "new_arr.sort()\n"
   ]
  }
 ],
 "metadata": {
  "kernelspec": {
   "display_name": "Python 3",
   "language": "python",
   "name": "python3"
  },
  "language_info": {
   "codemirror_mode": {
    "name": "ipython",
    "version": 3
   },
   "file_extension": ".py",
   "mimetype": "text/x-python",
   "name": "python",
   "nbconvert_exporter": "python",
   "pygments_lexer": "ipython3",
   "version": "3.9.13"
  }
 },
 "nbformat": 4,
 "nbformat_minor": 2
}
