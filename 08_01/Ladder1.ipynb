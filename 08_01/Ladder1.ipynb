{
 "cells": [
  {
   "cell_type": "markdown",
   "metadata": {},
   "source": [
    "문제\n",
    "+ 아이스크림 누가 살까 사다리 해보자.\n",
    "+ 어떤 i를 선택하면, 도착지 x에 갈 수 있을까??"
   ]
  },
  {
   "cell_type": "code",
   "execution_count": null,
   "metadata": {},
   "outputs": [],
   "source": [
    "def find_road():\n",
    "\n",
    "    dir = [[0,1],[0,-1]] # 우 좌\n",
    "\n",
    "\n",
    "\n",
    "\n",
    "T = int(input())\n",
    "# 여러개의 테스트 케이스가 주어지므로, 각각을 처리합니다.\n",
    "for test_case in range(1, T + 1):\n",
    "    N = int(input()) # 배열의 크기\n",
    "    arr=[]\n",
    "    for _ in range(N):\n",
    "        row = list(map(int,input().split()))\n",
    "        arr.append(row)\n",
    "\n",
    "\n",
    "\n"
   ]
  }
 ],
 "metadata": {
  "kernelspec": {
   "display_name": "Python 3",
   "language": "python",
   "name": "python3"
  },
  "language_info": {
   "codemirror_mode": {
    "name": "ipython",
    "version": 3
   },
   "file_extension": ".py",
   "mimetype": "text/x-python",
   "name": "python",
   "nbconvert_exporter": "python",
   "pygments_lexer": "ipython3",
   "version": "3.9.13"
  }
 },
 "nbformat": 4,
 "nbformat_minor": 2
}
