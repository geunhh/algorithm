{
 "cells": [
  {
   "cell_type": "code",
   "execution_count": 14,
   "metadata": {},
   "outputs": [
    {
     "name": "stdout",
     "output_type": "stream",
     "text": [
      "[[1, 2, 3], [4, 5, 6], [7, 8, 9]]\n",
      "[[7, 4, 1], [8, 5, 2], [9, 6, 3]]\n",
      "[[9, 8, 7], [6, 5, 4], [3, 2, 1]]\n",
      "[[3, 6, 9], [2, 5, 8], [1, 4, 7]]\n"
     ]
    }
   ],
   "source": [
    "def rotation(arr, n):\n",
    "    new_arr = [ [0]*n for _ in range(n)]\n",
    "\n",
    "    for i in range(n):\n",
    "        for j in range(n):\n",
    "            new_arr[i][j] = arr[n-j-1][i]\n",
    "    print(new_arr)\n",
    "    return new_arr\n",
    "\n",
    "def rota(matrix,n):\n",
    "    rotated_matrix = [[0]*n for _ in range(n)]\n",
    "    for i in range(n):\n",
    "        for j in range(n):\n",
    "            rotated_matrix[j][n-i-1] = matrix[i][j]\n",
    "\n",
    "T = 1\n",
    "for tc in range(1, 1+T):\n",
    "    \n",
    "    n = int(input())\n",
    "    # graph = [list(map(int, input().split())) for _ in range(n)]\n",
    "    graph = [[1, 2, 3], [4, 5, 6], [7, 8, 9]]\n",
    "    print(graph)\n",
    "    rotation_90 = rotation(graph, n)\n",
    "    rotation_180 = rotation(rotation_90, n)\n",
    "    rotation_270 = rotation(rotation_180, n)\n",
    "    "
   ]
  },
  {
   "cell_type": "code",
   "execution_count": null,
   "metadata": {},
   "outputs": [],
   "source": []
  }
 ],
 "metadata": {
  "kernelspec": {
   "display_name": "Python 3",
   "language": "python",
   "name": "python3"
  },
  "language_info": {
   "codemirror_mode": {
    "name": "ipython",
    "version": 3
   },
   "file_extension": ".py",
   "mimetype": "text/x-python",
   "name": "python",
   "nbconvert_exporter": "python",
   "pygments_lexer": "ipython3",
   "version": "3.12.3"
  }
 },
 "nbformat": 4,
 "nbformat_minor": 2
}
