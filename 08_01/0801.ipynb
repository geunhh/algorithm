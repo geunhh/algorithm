{
 "cells": [
  {
   "cell_type": "code",
   "execution_count": 2,
   "metadata": {},
   "outputs": [
    {
     "name": "stdout",
     "output_type": "stream",
     "text": [
      "16 True\n"
     ]
    }
   ],
   "source": [
    "def binarySearch(lst,N,key):\n",
    "    start = 0\n",
    "    end = N-1\n",
    "    while start <= end:\n",
    "        middle = (start+end)//2\n",
    "        if key == lst[middle]:\n",
    "            return f'{lst[middle]} {True}'\n",
    "        elif key < lst[middle]:\n",
    "            end = middle -1\n",
    "        else :\n",
    "            start = middle +1\n",
    "    return False\n",
    "\n",
    "\n",
    "###\n",
    "key = 16\n",
    "lst=[1,2,3,6,7,8,11,16,19,22,82]\n",
    "N = len(lst)\n",
    "\n",
    "result = binarySearch(lst,N,key)\n",
    "print(result)"
   ]
  },
  {
   "cell_type": "code",
   "execution_count": 5,
   "metadata": {},
   "outputs": [
    {
     "name": "stdout",
     "output_type": "stream",
     "text": [
      "[2, 3, 4, 5, 7]\n",
      "[1, 2, 3, 4]\n"
     ]
    }
   ],
   "source": [
    "def selection_sort(arr, N):\n",
    "    for i in range(N-1):\n",
    "        min_idx = i\n",
    "        for j in range(i+1, N):\n",
    "            if arr[min_idx] > arr[j]:\n",
    "                min_idx = j\n",
    "        arr[i], arr[min_idx] = arr[min_idx], arr[i]\n",
    "\n",
    "    return arr\n",
    "\n",
    "\n",
    "A = [2,7,5,3,4]\n",
    "B = [4,3,2,1]\n",
    "arr1=selection_sort(A,len(A))\n",
    "arr2=selection_sort(B,len(B))\n",
    "print(arr1)\n",
    "print(arr2)\n"
   ]
  }
 ],
 "metadata": {
  "kernelspec": {
   "display_name": "Python 3",
   "language": "python",
   "name": "python3"
  },
  "language_info": {
   "codemirror_mode": {
    "name": "ipython",
    "version": 3
   },
   "file_extension": ".py",
   "mimetype": "text/x-python",
   "name": "python",
   "nbconvert_exporter": "python",
   "pygments_lexer": "ipython3",
   "version": "3.9.13"
  }
 },
 "nbformat": 4,
 "nbformat_minor": 2
}
