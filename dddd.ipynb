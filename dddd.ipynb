{
 "cells": [
  {
   "cell_type": "code",
   "execution_count": 5,
   "metadata": {},
   "outputs": [
    {
     "name": "stdout",
     "output_type": "stream",
     "text": [
      "deque([0]) [1, 0, 0, 0, 0, 0]\n",
      "0 deque([]) [1, 0, 0, 0, 0, 0]\n",
      "1 deque([2, 5]) [1, 1, 1, 0, 0, 1]\n",
      "2 deque([5]) [1, 1, 1, 0, 0, 1]\n",
      "5 deque([3, 4]) [1, 1, 1, 1, 1, 1]\n",
      "3 deque([4]) [1, 1, 1, 1, 1, 1]\n",
      "4 deque([]) [1, 1, 1, 1, 1, 1]\n"
     ]
    }
   ],
   "source": [
    "#모든 정점 탐색\n",
    "from collections import deque\n",
    "def bfs(start):\n",
    "  queue = deque([start]) # 큐 선언 및 초기화\n",
    "  visited[start] = 1 # 방문 처리\n",
    "  print(queue, visited)\n",
    "\n",
    "\n",
    "  while queue:\n",
    "    cur_n = queue.popleft() #가장 처음에 넣은 노드 얻기\n",
    "    print(cur_n, end=' ')\n",
    "    print(queue, visited)\n",
    "\n",
    "    # 현재 노드와 이웃한 노드 추가\n",
    "    for next_n in graph[cur_n] :\n",
    "        if not visited[next_n] :\n",
    "            queue.append(next_n)   \n",
    "            visited[next_n] = 1 #방문 처리\n",
    "\n",
    "# 그래프 표현\n",
    "N = 6 # 노드의 개수\n",
    "graph = {0: [1, 2, 5], \n",
    "    1: [2], \n",
    "    2: [3, 4], \n",
    "    3: [1, 2], \n",
    "    4: [2], \n",
    "    5: [0]} #인접 리스트\n",
    "# 방문 노드 기록\n",
    "visited = [0]*N\n",
    "\n",
    "# 노드 0에서 BFS수행\n",
    "bfs(0)"
   ]
  },
  {
   "cell_type": "code",
   "execution_count": 9,
   "metadata": {},
   "outputs": [
    {
     "name": "stdout",
     "output_type": "stream",
     "text": [
      "True\n"
     ]
    }
   ],
   "source": [
    "arr_go =[]\n",
    "print(not arr_go)"
   ]
  },
  {
   "cell_type": "code",
   "execution_count": 7,
   "metadata": {},
   "outputs": [
    {
     "name": "stdout",
     "output_type": "stream",
     "text": [
      "0b100 4\n",
      "-0b101 -5\n"
     ]
    }
   ],
   "source": [
    "\n",
    "print(bin(4),4)\n",
    "print(bin(~4),~4)"
   ]
  },
  {
   "cell_type": "code",
   "execution_count": 14,
   "metadata": {},
   "outputs": [
    {
     "name": "stdout",
     "output_type": "stream",
     "text": [
      "0b1\n",
      "0b10\n",
      "0b100\n",
      "0b1000\n",
      "0b10000\n",
      "0b100000\n"
     ]
    }
   ],
   "source": [
    "a = 1\n",
    "for i in range(6):\n",
    "    print(bin(1<<i))"
   ]
  },
  {
   "cell_type": "code",
   "execution_count": 16,
   "metadata": {},
   "outputs": [
    {
     "name": "stdout",
     "output_type": "stream",
     "text": [
      "부분집합의 수 :  16\n"
     ]
    }
   ],
   "source": [
    "arr=[1,2,3,4]\n",
    "\n",
    "print(f'부분집합의 수 :  {1<<len(arr)}')"
   ]
  },
  {
   "cell_type": "code",
   "execution_count": 17,
   "metadata": {},
   "outputs": [
    {
     "name": "stdout",
     "output_type": "stream",
     "text": [
      "\n",
      "1 \n",
      "2 \n",
      "1 2 \n",
      "3 \n",
      "1 3 \n",
      "2 3 \n",
      "1 2 3 \n",
      "4 \n",
      "1 4 \n",
      "2 4 \n",
      "1 2 4 \n",
      "3 4 \n",
      "1 3 4 \n",
      "2 3 4 \n",
      "1 2 3 4 \n"
     ]
    }
   ],
   "source": [
    "# i & (1<<N) : N 번째 비트가 0인지 1인지??\n",
    "\n",
    "for i in range(1<<len(arr)):\n",
    "    for idx in range(len(arr)):\n",
    "        if i & (1<<idx):\n",
    "            print(arr[idx], end=' ')\n",
    "    print()\n"
   ]
  },
  {
   "cell_type": "code",
   "execution_count": 25,
   "metadata": {},
   "outputs": [
    {
     "name": "stdout",
     "output_type": "stream",
     "text": [
      "0.1\n",
      "0.1000000000\n",
      "0.10000000000000000555\n",
      "True\n",
      "False\n"
     ]
    }
   ],
   "source": [
    "t=0.1\n",
    "print(t)\n",
    "print(f'{t:.10f}')\n",
    "print(f'{t:.20f}')\n",
    "\n",
    "print(0.1+0.1==0.2)\n",
    "print(0.1+0.1+0.1==0.3)"
   ]
  }
 ],
 "metadata": {
  "kernelspec": {
   "display_name": "Python 3",
   "language": "python",
   "name": "python3"
  },
  "language_info": {
   "codemirror_mode": {
    "name": "ipython",
    "version": 3
   },
   "file_extension": ".py",
   "mimetype": "text/x-python",
   "name": "python",
   "nbconvert_exporter": "python",
   "pygments_lexer": "ipython3",
   "version": "3.9.13"
  }
 },
 "nbformat": 4,
 "nbformat_minor": 2
}
