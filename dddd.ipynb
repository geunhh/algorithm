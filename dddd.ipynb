{
 "cells": [
  {
   "cell_type": "code",
   "execution_count": 5,
   "metadata": {},
   "outputs": [
    {
     "name": "stdout",
     "output_type": "stream",
     "text": [
      "deque([0]) [1, 0, 0, 0, 0, 0]\n",
      "0 deque([]) [1, 0, 0, 0, 0, 0]\n",
      "1 deque([2, 5]) [1, 1, 1, 0, 0, 1]\n",
      "2 deque([5]) [1, 1, 1, 0, 0, 1]\n",
      "5 deque([3, 4]) [1, 1, 1, 1, 1, 1]\n",
      "3 deque([4]) [1, 1, 1, 1, 1, 1]\n",
      "4 deque([]) [1, 1, 1, 1, 1, 1]\n"
     ]
    }
   ],
   "source": [
    "#모든 정점 탐색\n",
    "from collections import deque\n",
    "def bfs(start):\n",
    "  queue = deque([start]) # 큐 선언 및 초기화\n",
    "  visited[start] = 1 # 방문 처리\n",
    "  print(queue, visited)\n",
    "\n",
    "\n",
    "  while queue:\n",
    "    cur_n = queue.popleft() #가장 처음에 넣은 노드 얻기\n",
    "    print(cur_n, end=' ')\n",
    "    print(queue, visited)\n",
    "\n",
    "    # 현재 노드와 이웃한 노드 추가\n",
    "    for next_n in graph[cur_n] :\n",
    "        if not visited[next_n] :\n",
    "            queue.append(next_n)   \n",
    "            visited[next_n] = 1 #방문 처리\n",
    "\n",
    "# 그래프 표현\n",
    "N = 6 # 노드의 개수\n",
    "graph = {0: [1, 2, 5], \n",
    "    1: [2], \n",
    "    2: [3, 4], \n",
    "    3: [1, 2], \n",
    "    4: [2], \n",
    "    5: [0]} #인접 리스트\n",
    "# 방문 노드 기록\n",
    "visited = [0]*N\n",
    "\n",
    "# 노드 0에서 BFS수행\n",
    "bfs(0)"
   ]
  },
  {
   "cell_type": "code",
   "execution_count": 9,
   "metadata": {},
   "outputs": [
    {
     "name": "stdout",
     "output_type": "stream",
     "text": [
      "True\n"
     ]
    }
   ],
   "source": [
    "arr_go =[]\n",
    "print(not arr_go)"
   ]
  },
  {
   "cell_type": "code",
   "execution_count": 1,
   "metadata": {},
   "outputs": [
    {
     "name": "stdout",
     "output_type": "stream",
     "text": [
      "Index 0: 3\n",
      "Index 1: 1\n",
      "Index 2: 4\n",
      "Index 3: 1\n",
      "Index 4: 5\n",
      "Index 5: 9\n",
      "Index 6: 2\n",
      "Index 7: 6\n",
      "Index 8: 5\n"
     ]
    }
   ],
   "source": [
    "class CompleteBinaryTree:\n",
    "    def __init__(self, values):\n",
    "        self.tree = values  # values는 노드 값을 포함하는 리스트\n",
    "\n",
    "    def print_tree(self):\n",
    "        for i, value in enumerate(self.tree):\n",
    "            print(f'Index {i}: {value}')\n",
    "\n",
    "# 주어진 숫자 리스트\n",
    "values = [3, 1, 4, 1, 5, 9, 2, 6, 5]\n",
    "tree = CompleteBinaryTree(values)\n",
    "tree.print_tree()"
   ]
  }
 ],
 "metadata": {
  "kernelspec": {
   "display_name": "Python 3",
   "language": "python",
   "name": "python3"
  },
  "language_info": {
   "codemirror_mode": {
    "name": "ipython",
    "version": 3
   },
   "file_extension": ".py",
   "mimetype": "text/x-python",
   "name": "python",
   "nbconvert_exporter": "python",
   "pygments_lexer": "ipython3",
   "version": "3.12.3"
  }
 },
 "nbformat": 4,
 "nbformat_minor": 2
}
