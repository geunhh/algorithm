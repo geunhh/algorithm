{
 "cells": [
  {
   "cell_type": "markdown",
   "metadata": {},
   "source": [
    "최대값 : 역순으로 회문을 구하자.\n",
    "index 100 -> 99 -> 98 과 같은 식으로\n",
    "word == word[::-1]\n",
    "\n"
   ]
  },
  {
   "cell_type": "code",
   "execution_count": null,
   "metadata": {},
   "outputs": [],
   "source": [
    "# import sys\n",
    "# sys.stdin = open(\"input.txt\", 'r')\n",
    "\n",
    "def row_find_palindrome(board, N):\n",
    "    max_cnt = 0\n",
    "    for M in range(1, N+1):\n",
    "        for i in range(N):\n",
    "            for j in range(N-M+1):\n",
    "                ispalindrome = 1\n",
    "                for k in range(M//2):\n",
    "                    if board[i][j+k] != board[i][j+(M-1-k)]:\n",
    "                        ispalindrome = 0\n",
    "                if ispalindrome and M > max_cnt:\n",
    "                    max_cnt = M\n",
    "                    break\n",
    "    return max_cnt\n",
    "\n",
    "def col_find_palindrome(board, N):\n",
    "    max_cnt = 0\n",
    "    for M in range(1, N+1):\n",
    "        for j in range(N):\n",
    "            for i in range(N-M+1):\n",
    "                ispalindrome = 1\n",
    "                for k in range(M//2):\n",
    "                    if board[i+k][j] != board[i+(M-1-k)][j]:\n",
    "                        ispalindrome = 0\n",
    "                if ispalindrome and M > max_cnt:\n",
    "                    max_cnt = M\n",
    "                    break\n",
    "    return max_cnt\n",
    "\n",
    "\n",
    "for test_case in range(1, 11):\n",
    "    T = int(input())\n",
    "    N = 100\n",
    "    board = [input() for i in range(N)]\n",
    "\n",
    "    row_cnt = row_find_palindrome(board, N)\n",
    "    col_cnt = col_find_palindrome(board, N)\n",
    "\n",
    "    if row_cnt > col_cnt:\n",
    "        print(f\"{test_case} {row_cnt}\")\n",
    "    else:\n",
    "        print(f\"{test_case} {col_cnt}\")"
   ]
  }
 ],
 "metadata": {
  "language_info": {
   "name": "python"
  }
 },
 "nbformat": 4,
 "nbformat_minor": 2
}
