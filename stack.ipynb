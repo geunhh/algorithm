{
 "cells": [
  {
   "cell_type": "code",
   "execution_count": 1,
   "metadata": {},
   "outputs": [],
   "source": [
    "class stack:\n",
    "    def __init__(self) -> None:\n",
    "        self.items = []\n",
    "\n",
    "    def push(self, data):\n",
    "        self.items.append(data)\n",
    "    \n",
    "    def pop(self):\n",
    "        pop_object = None\n",
    "        if self.isEmpty():\n",
    "            print(\"stack is Empty\")\n",
    "        else:\n",
    "            pop_object = self.items.pop()\n",
    "    \n",
    "    def peek(self):\n",
    "        if self.isEmpty:\n",
    "            print(\"stack is empty\")\n",
    "        else:\n",
    "            return self.items[-1]\n",
    "\n",
    "    def isEmpty(self):\n",
    "        is_empty = False\n",
    "        if len(self.items) == 0:\n",
    "            is_empty = True\n",
    "        return is_empty"
   ]
  },
  {
   "cell_type": "code",
   "execution_count": 8,
   "metadata": {},
   "outputs": [
    {
     "name": "stdout",
     "output_type": "stream",
     "text": [
      "<__main__.stack object at 0x00000218320BB530>\n",
      "stack is empty\n"
     ]
    }
   ],
   "source": [
    "stack1 = stack()\n",
    "print(stack1)\n",
    "stack1.push(66)\n",
    "stack1.peek()"
   ]
  },
  {
   "cell_type": "code",
   "execution_count": 4,
   "metadata": {},
   "outputs": [
    {
     "data": {
      "text/plain": [
       "<__main__.stack at 0x21832097ec0>"
      ]
     },
     "execution_count": 4,
     "metadata": {},
     "output_type": "execute_result"
    }
   ],
   "source": [
    "def dfs_stack(graph, start):\n",
    "    stack=[start]\n",
    "    visited =[]\n",
    "\n",
    "    while stack:\n",
    "        node = stack.pop()\n",
    "        if node not in visited:\n",
    "            visited.append(node)\n",
    "\n",
    "            stack.extend(graph[node])\n",
    "    \n",
    "    return visited"
   ]
  },
  {
   "cell_type": "code",
   "execution_count": null,
   "metadata": {},
   "outputs": [],
   "source": [
    "from collections import defaultdict\n",
    "import math\n",
    "\n",
    "def check(node, graph):\n",
    "    if graph[1] == '0':\n",
    "        return 0\n",
    "\n",
    "    while node < len(graph) // 2:\n",
    "        if graph[node] == '0' and (graph[node * 2] == '1' or graph[node * 2 + 1] == '1'):\n",
    "            return 0\n",
    "        node += 1\n",
    "    else:\n",
    "        return 1\n",
    "\n",
    "def insert(node, graph, binary_num, index):\n",
    "    if graph[node] == 0:\n",
    "        return index\n",
    "\n",
    "    index = insert(2 * node, graph, binary_num, index)\n",
    "    graph[node] = binary_num[index]\n",
    "    index += 1\n",
    "    index = insert(2 * node + 1, graph, binary_num, index)\n",
    "    return index\n",
    "\n",
    "def solution(numbers):\n",
    "    answer = []\n",
    "    \n",
    "    for N in numbers:\n",
    "        index = 0\n",
    "        binary_num = bin(N)[2:]\n",
    "        graph = defaultdict(int)\n",
    "        cur_y = len(binary_num)\n",
    "        h = math.floor(math.log2(cur_y))    # 높이수\n",
    "        y = 2**(h + 1) - 1                  # 노드수\n",
    "        \n",
    "        while len(binary_num) < y:\n",
    "            binary_num = '0' + binary_num\n",
    "\n",
    "        for i in range(y):\n",
    "            graph[i + 1] = -1\n",
    "\n",
    "        insert(1, graph, binary_num, index)\n",
    "        result = check(1, graph)\n",
    "        answer.append(result)\n",
    "\n",
    "    return answer\n"
   ]
  }
 ],
 "metadata": {
  "kernelspec": {
   "display_name": "Python 3",
   "language": "python",
   "name": "python3"
  },
  "language_info": {
   "codemirror_mode": {
    "name": "ipython",
    "version": 3
   },
   "file_extension": ".py",
   "mimetype": "text/x-python",
   "name": "python",
   "nbconvert_exporter": "python",
   "pygments_lexer": "ipython3",
   "version": "3.12.3"
  }
 },
 "nbformat": 4,
 "nbformat_minor": 2
}
