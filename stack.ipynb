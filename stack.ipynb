{
 "cells": [
  {
   "cell_type": "code",
   "execution_count": 1,
   "metadata": {},
   "outputs": [],
   "source": [
    "class stack:\n",
    "    def __init__(self) -> None:\n",
    "        self.items = []\n",
    "\n",
    "    def push(self, data):\n",
    "        self.items.append(data)\n",
    "    \n",
    "    def pop(self):\n",
    "        pop_object = None\n",
    "        if self.isEmpty():\n",
    "            print(\"stack is Empty\")\n",
    "        else:\n",
    "            pop_object = self.items.pop()\n",
    "    \n",
    "    def peek(self):\n",
    "        if self.isEmpty:\n",
    "            print(\"stack is empty\")\n",
    "        else:\n",
    "            return self.items[-1]\n",
    "\n",
    "    def isEmpty(self):\n",
    "        is_empty = False\n",
    "        if len(self.items) == 0:\n",
    "            is_empty = True\n",
    "        return is_empty"
   ]
  },
  {
   "cell_type": "code",
   "execution_count": 8,
   "metadata": {},
   "outputs": [
    {
     "name": "stdout",
     "output_type": "stream",
     "text": [
      "<__main__.stack object at 0x00000218320BB530>\n",
      "stack is empty\n"
     ]
    }
   ],
   "source": [
    "stack1 = stack()\n",
    "print(stack1)\n",
    "stack1.push(66)\n",
    "stack1.peek()"
   ]
  },
  {
   "cell_type": "code",
   "execution_count": 4,
   "metadata": {},
   "outputs": [
    {
     "data": {
      "text/plain": [
       "<__main__.stack at 0x21832097ec0>"
      ]
     },
     "execution_count": 4,
     "metadata": {},
     "output_type": "execute_result"
    }
   ],
   "source": [
    "def dfs_stack(graph, start):\n",
    "    stack=[start]\n",
    "    visited =[]\n",
    "\n",
    "    while stack:\n",
    "        node = stack.pop()\n",
    "        if node not in visited:\n",
    "            visited.append(node)\n",
    "\n",
    "            stack.extend(graph[node])\n",
    "    \n",
    "    return visited"
   ]
  }
 ],
 "metadata": {
  "kernelspec": {
   "display_name": "Python 3",
   "language": "python",
   "name": "python3"
  },
  "language_info": {
   "codemirror_mode": {
    "name": "ipython",
    "version": 3
   },
   "file_extension": ".py",
   "mimetype": "text/x-python",
   "name": "python",
   "nbconvert_exporter": "python",
   "pygments_lexer": "ipython3",
   "version": "3.12.3"
  }
 },
 "nbformat": 4,
 "nbformat_minor": 2
}
