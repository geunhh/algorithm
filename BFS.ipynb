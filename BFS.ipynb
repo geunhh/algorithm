{
 "cells": [
  {
   "cell_type": "code",
   "execution_count": 40,
   "metadata": {},
   "outputs": [
    {
     "name": "stdout",
     "output_type": "stream",
     "text": [
      "0 1 2 5 3 4 "
     ]
    }
   ],
   "source": [
    "#모든 정점 탐색\n",
    "from collections import deque\n",
    "def bfs(start):\n",
    "  queue = deque([start]) # 큐 선언 및 초기화\n",
    "  visited[start] = 1 # 방문 처리\n",
    "\n",
    "  while queue:\n",
    "    cur_n = queue.popleft() #가장 처음에 넣은 노드 얻기\n",
    "    print(cur_n, end=' ')\n",
    "\n",
    "    # 현재 노드와 이웃한 노드 추가\n",
    "    for next_n in graph[cur_n] :\n",
    "        if not visited[next_n] :\n",
    "            queue.append(next_n)   \n",
    "            visited[next_n] = 1 #방문 처리\n",
    "\n",
    "# 그래프 표현\n",
    "N = 6 # 노드의 개수\n",
    "graph = {0: [1, 2, 5], \n",
    "    1: [2], \n",
    "    2: [3, 4], \n",
    "    3: [1, 2], \n",
    "    4: [2], \n",
    "    5: [0]} #인접 리스트\n",
    "# 방문 노드 기록\n",
    "visited = [0]*N\n",
    "\n",
    "# 노드 0에서 BFS수행\n",
    "bfs(0)"
   ]
  },
  {
   "cell_type": "code",
   "execution_count": 7,
   "metadata": {},
   "outputs": [
    {
     "name": "stdout",
     "output_type": "stream",
     "text": [
      "(idx:0, depth:0) \n",
      "(idx:1, depth:1) (idx:2, depth:1) (idx:5, depth:1) \n",
      "(idx:3, depth:2) (idx:4, depth:2) (idx:6, depth:2) \n",
      "(idx:7, depth:3) "
     ]
    }
   ],
   "source": [
    "#BFS - 탐색 깊이까지 파악\n",
    "from collections import deque\n",
    "def bfs(start):\n",
    "\n",
    "    queue = deque([(start, 0)]) # 큐 선언 및 초기화 [(노드번호, 탐색 깊이), ...]\n",
    "    visited[start] = 1\n",
    "    temp = 0\n",
    "    while queue:\n",
    "        cur_n, cur_depth = queue.popleft() \n",
    "        \n",
    "        if cur_depth != temp :\n",
    "            temp = cur_depth\n",
    "            print()\n",
    "        print(f'(idx:{cur_n}, depth:{cur_depth})', end=' ')\n",
    "        \n",
    "        # 현재 노드와 이웃한 노드 추가\n",
    "        for next_n in graph[cur_n] :\n",
    "            if not visited[next_n] :\n",
    "                queue.append((next_n, cur_depth+1))\n",
    "                visited[next_n] = 1\n",
    "                \n",
    "# 그래프 표현\n",
    "N = 8 # 노드의 개수\n",
    "graph = {0: [1, 2, 5], \n",
    "    1: [2], \n",
    "    2: [3, 4], \n",
    "    3: [1, 2], \n",
    "    4: [2], \n",
    "    5: [0,6],\n",
    "    6: [7],\n",
    "    7: []} #인접 리스트\n",
    "# 방문 노드 기록\n",
    "visited = [0]*N\n",
    "\n",
    "# 노드 0에서 BFS수행\n",
    "bfs(0)"
   ]
  },
  {
   "cell_type": "code",
   "execution_count": 8,
   "metadata": {},
   "outputs": [
    {
     "name": "stdout",
     "output_type": "stream",
     "text": [
      "(Node:0, depth:1) (Node:1, depth:2) (Node:2, depth:2) (Node:5, depth:2) (Node:3, depth:3) (Node:4, depth:3) (Node:6, depth:3) (Node:7, depth:4) "
     ]
    }
   ],
   "source": [
    "#BFS - 탐색 깊이까지 파악 (visited 활용)\n",
    "from collections import deque\n",
    "def bfs(start):\n",
    "\n",
    "    queue = deque([start]) # 큐 선언 및 초기화\n",
    "    visited[start] = 1\n",
    "    \n",
    "    while queue:\n",
    "        cur_n = queue.popleft() \n",
    "        print(f'(Node:{cur_n}, depth:{visited[cur_n]})', end=' ')\n",
    "        \n",
    "        # 현재 노드와 이웃한 노드 추가\n",
    "        for next_n in graph[cur_n] :\n",
    "            if not visited[next_n] :\n",
    "                queue.append(next_n)\n",
    "                visited[next_n] = visited[cur_n] + 1\n",
    "                \n",
    "# 그래프 표현\n",
    "N = 8 # 노드의 개수\n",
    "graph = {0: [1, 2, 5], \n",
    "    1: [2], \n",
    "    2: [3, 4], \n",
    "    3: [1, 2], \n",
    "    4: [2], \n",
    "    5: [0,6],\n",
    "    6: [7],\n",
    "    7: []} #인접 리스트\n",
    "\n",
    "# 방문 노드 기록\n",
    "visited = [0]*N\n",
    "\n",
    "# 노드 0에서 BFS수행\n",
    "bfs(0)"
   ]
  },
  {
   "cell_type": "code",
   "execution_count": 9,
   "metadata": {},
   "outputs": [
    {
     "name": "stdout",
     "output_type": "stream",
     "text": [
      "(Node:0, depth:1) (Node:1, depth:2) (Node:2, depth:2) (Node:5, depth:2) (Node:3, depth:3) (Node:4, depth:3) \n",
      "탐색깊이: 2\n"
     ]
    }
   ],
   "source": [
    "#BFS - 시작과 끝 노드 지정하여 탐색 깊이 파악\n",
    "from collections import deque\n",
    "def bfs(start, end):\n",
    "    queue = deque([start]) # 큐 선언 및 초기화\n",
    "    visited[start] = 1\n",
    "    \n",
    "    while queue:\n",
    "        cur_n = queue.popleft() \n",
    "        print(f'(Node:{cur_n}, depth:{visited[cur_n]})', end=' ')\n",
    "        if cur_n == end :\n",
    "            return visited[end]-1\n",
    "\n",
    "        # 현재 노드와 이웃한 노드 추가\n",
    "        for next_n in graph[cur_n] :\n",
    "            if not visited[next_n] :\n",
    "                queue.append(next_n)\n",
    "                visited[next_n] = visited[cur_n] + 1\n",
    "                \n",
    "# 그래프 표현\n",
    "N = 8 # 노드의 개수\n",
    "graph = {0: [1, 2, 5], \n",
    "    1: [2], \n",
    "    2: [3, 4], \n",
    "    3: [1, 2], \n",
    "    4: [2], \n",
    "    5: [0,6],\n",
    "    6: [7],\n",
    "    7: []} #인접 리스트\n",
    "\n",
    "# 방문 노드 기록\n",
    "visited = [0]*N\n",
    "\n",
    "# 노드 0에서 BFS수행\n",
    "result = bfs(0, 4)\n",
    "print(\"\\n탐색깊이:\", result)"
   ]
  },
  {
   "cell_type": "code",
   "execution_count": 10,
   "metadata": {},
   "outputs": [
    {
     "name": "stdout",
     "output_type": "stream",
     "text": [
      "0 5 2 4 3 1 "
     ]
    }
   ],
   "source": [
    "### DFS vs BFS\n",
    "# if visited[]의 개수와 위치를 중점으로 왜 이렇게 구현해야하는지 이해해주세요.\n",
    "\n",
    "def dfs_stack(start):\n",
    "    stack = [start]\n",
    "    while stack : #스택에 남은것이 없을 때까지 반복\n",
    "        node = stack.pop() # 현재 방문해야할 노드\n",
    "        if visited[node] : #현재 방문할 노드가 방문했었다면 continue\n",
    "            continue\n",
    "\n",
    "        #방문 처리\n",
    "        visited[node] = 1\n",
    "        print(node, end=' ')\n",
    "\n",
    "        #현재 노드와 연결된 노드 중 방문하지 않은 노드들만 stack에 추가\n",
    "        for next_node in graph[node] :\n",
    "            if not visited[next_node]:\n",
    "                stack.append(next_node)\n",
    "\n",
    "def dfs_recursive(start):\n",
    "    # 방문한 노드 처리\n",
    "    visited[start] = 1\n",
    "    print(start, end=' ')\n",
    "    \n",
    "    #현재 노드와 인접한 다음 노드 탐색\n",
    "    for next in graph[start]:\n",
    "        if not visited [next]: #방문 하지 않은 노드만 탐색\n",
    "            dfs_recursive(next)\n",
    "            \n",
    "\n",
    "# 그래프 표현\n",
    "N = 6 # 노드의 개수\n",
    "graph = {0: [1, 2, 5],\n",
    "        1: [2],\n",
    "        2: [3, 4],\n",
    "        3: [1, 2],\n",
    "        4: [2],\n",
    "        5: [0]} #인접 리스트\n",
    "\n",
    "# 방문 노드 기록\n",
    "visited = [0]*N\n",
    "# 노드 0에서 DFS수행\n",
    "dfs_stack(0)"
   ]
  },
  {
   "cell_type": "code",
   "execution_count": null,
   "metadata": {},
   "outputs": [],
   "source": []
  }
 ],
 "metadata": {
  "kernelspec": {
   "display_name": "Python 3",
   "language": "python",
   "name": "python3"
  },
  "language_info": {
   "codemirror_mode": {
    "name": "ipython",
    "version": 3
   },
   "file_extension": ".py",
   "mimetype": "text/x-python",
   "name": "python",
   "nbconvert_exporter": "python",
   "pygments_lexer": "ipython3",
   "version": "3.9.13"
  }
 },
 "nbformat": 4,
 "nbformat_minor": 2
}
