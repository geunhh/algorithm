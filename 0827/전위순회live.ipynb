{
 "cells": [
  {
   "cell_type": "code",
   "execution_count": 1,
   "metadata": {},
   "outputs": [
    {
     "name": "stdout",
     "output_type": "stream",
     "text": [
      "1\n",
      "1 2 4 7 12 3 5 8 9 6 10 11 13 "
     ]
    }
   ],
   "source": [
    "'''\n",
    "13\n",
    "1 2 1 3 2 4 3 5 3 6 4 7 5 8 5 9 6 10 6 11 7 12 11 13\n",
    "'''\n",
    "\n",
    "def pre_order(T):\n",
    "    if T:\n",
    "        print(T, end = ' ')\n",
    "        pre_order(left[T])\n",
    "        pre_order(right[T])\n",
    "\n",
    "\n",
    "N = int(input())\n",
    "E = N-1\n",
    "arr= list(map(int,input().split()))\n",
    "left = [0] * (N+1)\n",
    "right = [0] * (N+1)\n",
    "parent = [0] * (N+1)\n",
    "\n",
    "for i in range(E):\n",
    "    p,c = arr[i*2], arr[i*2+1]\n",
    "    if left[p] == 0:\n",
    "        left[p] = c\n",
    "    else:\n",
    "        right[p] = c\n",
    "    parent[c] = p \n",
    "\n",
    "child=N\n",
    "while parent[child] != 0:\n",
    "    child= parent[child]\n",
    "root = child\n",
    "print(root)\n",
    "pre_order(root)\n",
    "\n"
   ]
  },
  {
   "cell_type": "code",
   "execution_count": 10,
   "metadata": {},
   "outputs": [
    {
     "name": "stdout",
     "output_type": "stream",
     "text": [
      "[[], [2, 3], [4], [5, 6], [7], [8, 9], [10, 11], [12], [], [], [], [13], [], []]\n",
      "[[-1, -1], [2, 3], [4, -1], [5, 6], [7, -1], [8, 9], [10, 11], [12, -1], [-1, -1], [-1, -1], [-1, -1], [13, -1], [-1, -1], [-1, -1]]\n",
      "\n",
      "1 2 4 7 12 3 5 8 9 6 10 11 13\n",
      "\n"
     ]
    }
   ],
   "source": [
    "def dfs(node):\n",
    "    if node == -1:\n",
    "        return\n",
    "    preorder.append(node)\n",
    "    dfs(graph[node][0])\n",
    "    # inorder.append(node)\n",
    "    dfs(graph[node][1])\n",
    "    # postorder.append(node)\n",
    "\n",
    "\n",
    "N = int(input())\n",
    "E = N - 1\n",
    "arr = list(map(int, input().split()))\n",
    "graph = [[] for _ in range(N+1)]\n",
    "\n",
    "# 부모 자식 관계를 그래프에 저장.\n",
    "for i in range(E):\n",
    "    p,c = arr[i*2], arr[i*2+1]\n",
    "    graph[p].append(c)\n",
    "print(graph)\n",
    "\n",
    "\n",
    "# 자식 노드가 없는 경우 처리. -> -1\n",
    "for i in range(N+1):        \n",
    "    while len(graph[i]) < 2:\n",
    "        graph[i].append(-1) # [1] -> [1,-2]  |  [] -> \n",
    "print(graph)\n",
    "\n",
    "preorder = []\n",
    "inorder  = []\n",
    "postorder = []\n",
    "\n",
    "dfs(1)\n",
    "\n",
    "print(*inorder)     # 전위 순회\n",
    "print(*preorder)    # 중위 순회\n",
    "print(*postorder)   # 후위 순회\n",
    "\n"
   ]
  },
  {
   "cell_type": "code",
   "execution_count": 1,
   "metadata": {},
   "outputs": [
    {
     "name": "stdout",
     "output_type": "stream",
     "text": [
      "[[], [2, 3], [4], [5, 6], [7], [8, 9], [10, 11], [12], [], [], [], [13], [], []]\n"
     ]
    },
    {
     "ename": "NameError",
     "evalue": "name 'N' is not defined",
     "output_type": "error",
     "traceback": [
      "\u001b[1;31m---------------------------------------------------------------------------\u001b[0m",
      "\u001b[1;31mNameError\u001b[0m                                 Traceback (most recent call last)",
      "Cell \u001b[1;32mIn[1], line 19\u001b[0m\n\u001b[0;32m     16\u001b[0m     graph[p]\u001b[38;5;241m.\u001b[39mappend(c)\n\u001b[0;32m     17\u001b[0m \u001b[38;5;28mprint\u001b[39m(graph)\n\u001b[1;32m---> 19\u001b[0m \u001b[38;5;28;01mfor\u001b[39;00m i \u001b[38;5;129;01min\u001b[39;00m \u001b[38;5;28mrange\u001b[39m(\u001b[43mN\u001b[49m\u001b[38;5;241m+\u001b[39m\u001b[38;5;241m1\u001b[39m): \u001b[38;5;66;03m# 정점 개수보다 하나 크게\u001b[39;00m\n\u001b[0;32m     20\u001b[0m     \u001b[38;5;28;01mwhile\u001b[39;00m \u001b[38;5;28mlen\u001b[39m(graph[i]) \u001b[38;5;241m<\u001b[39m \u001b[38;5;241m2\u001b[39m:\n\u001b[0;32m     21\u001b[0m         graph[i]\u001b[38;5;241m.\u001b[39mappend(\u001b[38;5;241m-\u001b[39m\u001b[38;5;241m1\u001b[39m)\n",
      "\u001b[1;31mNameError\u001b[0m: name 'N' is not defined"
     ]
    }
   ],
   "source": [
    "def dfs(node):\n",
    "    if node == -1 :\n",
    "        return\n",
    "    preorder.append(node)\n",
    "    dfs(graph[node][0])\n",
    "    dfs(graph[node][1])\n",
    "\n",
    "V = int(input())\n",
    "E = V-1\n",
    "arr = list(map(int, input().split()))\n",
    "graph = [[] for _ in range(V+1)]        # 경로 그래프\n",
    "\n",
    "for i in range(E):\n",
    "    p,c = arr[i*2], arr[i*2+1]\n",
    "    graph[p].append(c)\n",
    "print(graph)\n",
    "\n",
    "for i in range(V+1): # 정점 개수보다 하나 크게\n",
    "    while len(graph[i]) < 2:\n",
    "        graph[i].append(-1)\n",
    "print(graph)\n",
    "\n",
    "preorder = []\n",
    "\n",
    "dfs(1)\n",
    "\n",
    "print(*preorder)"
   ]
  }
 ],
 "metadata": {
  "kernelspec": {
   "display_name": "Python 3",
   "language": "python",
   "name": "python3"
  },
  "language_info": {
   "codemirror_mode": {
    "name": "ipython",
    "version": 3
   },
   "file_extension": ".py",
   "mimetype": "text/x-python",
   "name": "python",
   "nbconvert_exporter": "python",
   "pygments_lexer": "ipython3",
   "version": "3.9.13"
  }
 },
 "nbformat": 4,
 "nbformat_minor": 2
}
