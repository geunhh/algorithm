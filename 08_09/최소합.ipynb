{
 "cells": [
  {
   "cell_type": "markdown",
   "metadata": {},
   "source": [
    "## 백트래킹(Backtracking)\n",
    "+ 해결책을 구하기 위해 모든 가능성을 시도해보는 것이 아니라, 해결책에 대한 후보군을 구성하고 그 후보군이 문제의 조건을 만족하는지 여부를 검사해가며 해답을 찾아가는 알고리즘\n",
    "+  보통 재귀적으로 구현되며, 각 단계에서는 해결책 후보군 중 하나를 선택하고, 이 선택이 문제의 조건을 만족하는지 검사\n"
   ]
  },
  {
   "cell_type": "code",
   "execution_count": 50,
   "metadata": {},
   "outputs": [
    {
     "ename": "ValueError",
     "evalue": "invalid literal for int() with base 10: ''",
     "output_type": "error",
     "traceback": [
      "\u001b[1;31m---------------------------------------------------------------------------\u001b[0m",
      "\u001b[1;31mValueError\u001b[0m                                Traceback (most recent call last)",
      "Cell \u001b[1;32mIn[50], line 20\u001b[0m\n\u001b[0;32m     15\u001b[0m             perms\u001b[38;5;241m.\u001b[39mpop()\n\u001b[0;32m     16\u001b[0m     \u001b[38;5;28;01mreturn\u001b[39;00m\n\u001b[1;32m---> 20\u001b[0m T \u001b[38;5;241m=\u001b[39m \u001b[38;5;28;43mint\u001b[39;49m\u001b[43m(\u001b[49m\u001b[38;5;28;43minput\u001b[39;49m\u001b[43m(\u001b[49m\u001b[43m)\u001b[49m\u001b[43m)\u001b[49m\n\u001b[0;32m     21\u001b[0m \u001b[38;5;28;01mfor\u001b[39;00m tc \u001b[38;5;129;01min\u001b[39;00m \u001b[38;5;28mrange\u001b[39m(\u001b[38;5;241m1\u001b[39m,T\u001b[38;5;241m+\u001b[39m\u001b[38;5;241m1\u001b[39m):\n\u001b[0;32m     22\u001b[0m     N\u001b[38;5;241m=\u001b[39m \u001b[38;5;28mint\u001b[39m(\u001b[38;5;28minput\u001b[39m())\n",
      "\u001b[1;31mValueError\u001b[0m: invalid literal for int() with base 10: ''"
     ]
    }
   ],
   "source": [
    "def recur(i,N,cur_sum,perms):\n",
    "    # 종료조건\n",
    "    if i==N :\n",
    "        global min_total\n",
    "        if cur_sum < min_total:\n",
    "            min_total = cur_sum\n",
    "            return\n",
    "    # print(i,j)\n",
    "    \n",
    "    # 다음 인덱스\n",
    "    for j in range(N):\n",
    "        if j not in perms: # 들린 곳이 아니면,            \n",
    "            perms.append(j)\n",
    "            recur(i+1,N,cur_sum+arr[i][j],perms)\n",
    "            perms.pop()\n",
    "    return\n",
    "\n",
    "\n",
    "\n",
    "T = int(input())\n",
    "for tc in range(1,T+1):\n",
    "    N= int(input())\n",
    "    arr = [list(map(int, input().split())) for _ in range(N)]\n",
    "\n",
    "\n",
    "    min_total=999999\n",
    "    cur_sum=0\n",
    "    recur(0,N,cur_sum,[])\n",
    "    print(f'#{tc} {min_total}')"
   ]
  },
  {
   "cell_type": "code",
   "execution_count": null,
   "metadata": {},
   "outputs": [],
   "source": []
  }
 ],
 "metadata": {
  "kernelspec": {
   "display_name": "Python 3",
   "language": "python",
   "name": "python3"
  },
  "language_info": {
   "codemirror_mode": {
    "name": "ipython",
    "version": 3
   },
   "file_extension": ".py",
   "mimetype": "text/x-python",
   "name": "python",
   "nbconvert_exporter": "python",
   "pygments_lexer": "ipython3",
   "version": "3.9.13"
  }
 },
 "nbformat": 4,
 "nbformat_minor": 2
}
