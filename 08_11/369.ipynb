{
 "cells": [
  {
   "cell_type": "code",
   "execution_count": 21,
   "metadata": {},
   "outputs": [
    {
     "name": "stdout",
     "output_type": "stream",
     "text": [
      "1 2 -4 5 -7 8 -10 11 12 -14 15 -17 18 -20 21 22 -24 25 -27 28 -----------40 41 42 -44 45 -47 48 -50 51 52 -54 55 -57 58 -----------70 71 72 -74 75 -77 78 -80 81 82 -84 85 -87 88 -----------100 "
     ]
    }
   ],
   "source": [
    "def func369(N):\n",
    "    global check\n",
    "    for i in range(1,N+1):\n",
    "        if ('3' in str(i)) or ('6' in str(i)) or ('9' in str(i)):\n",
    "            if check == True:\n",
    "                print('-',end ='')\n",
    "            else : \n",
    "                check = False\n",
    "                print('-',end ='')\n",
    "        \n",
    "        else:\n",
    "            if check == True:\n",
    "                print(' ',i, end =' ')\n",
    "                check = False\n",
    "\n",
    "            print(i, end =' ')\n",
    "        \n",
    "    return\n",
    "\n",
    "\n",
    "\n",
    "N = 100\n",
    "check= False\n",
    "func369(N)"
   ]
  },
  {
   "cell_type": "code",
   "execution_count": 22,
   "metadata": {},
   "outputs": [
    {
     "name": "stdout",
     "output_type": "stream",
     "text": [
      "1 2 - 4 5 - 7 8 - 10 11 12 - 14 15 - 17 18 - 20 21 22 - 24 25 - 27 28 - - - - -- - - -- - - -- 40 41 42 - 44 45 - 47 48 - 50 51 52 - 54 55 - 57 58 - - - - -- - - -- - - -- 70 71 72 - 74 75 - 77 78 - 80 81 82 - 84 85 - 87 88 - - - - -- - - -- - - -- 100\n"
     ]
    }
   ],
   "source": [
    "def clap_game(N):\n",
    "    result = []\n",
    "\n",
    "    for num in range(1, N + 1):\n",
    "        num_str = str(num)\n",
    "        clap_count = 0\n",
    "\n",
    "        # Check for '3', '6', or '9' in the number\n",
    "        if '3' in num_str:\n",
    "            clap_count += num_str.count('3')\n",
    "        if '6' in num_str:\n",
    "            clap_count += num_str.count('6')\n",
    "        if '9' in num_str:\n",
    "            clap_count += num_str.count('9')\n",
    "\n",
    "        # If no claps, just append the number itself\n",
    "        if clap_count == 0:\n",
    "            result.append(num_str)\n",
    "        else:\n",
    "            result.append('-' * clap_count)\n",
    "    \n",
    "    # Print all results joined by space\n",
    "    print(' '.join(result))\n",
    "\n",
    "# Example usage\n",
    "N = int(input())  # Read the integer N from input\n",
    "clap_game(N)\n"
   ]
  }
 ],
 "metadata": {
  "kernelspec": {
   "display_name": "Python 3",
   "language": "python",
   "name": "python3"
  },
  "language_info": {
   "codemirror_mode": {
    "name": "ipython",
    "version": 3
   },
   "file_extension": ".py",
   "mimetype": "text/x-python",
   "name": "python",
   "nbconvert_exporter": "python",
   "pygments_lexer": "ipython3",
   "version": "3.12.3"
  }
 },
 "nbformat": 4,
 "nbformat_minor": 2
}
