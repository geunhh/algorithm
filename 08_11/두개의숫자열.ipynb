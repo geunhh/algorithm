{
 "cells": [
  {
   "cell_type": "code",
   "execution_count": null,
   "metadata": {},
   "outputs": [],
   "source": []
  },
  {
   "cell_type": "code",
   "execution_count": 13,
   "metadata": {},
   "outputs": [
    {
     "name": "stdout",
     "output_type": "stream",
     "text": [
      "1.4142135623730951\n",
      "0.9553166181245093\n",
      "54.735610317245346\n"
     ]
    }
   ],
   "source": [
    "# 두 점의 거리 구하기\n",
    "import math\n",
    "\n",
    "start = (1,1)\n",
    "end   = (2,2)\n",
    "\n",
    "a= abs(end[0]-start[0])\n",
    "b= abs(end[1]-start[1])\n",
    "\n",
    "r = math.sqrt(a**2 + b**2)\n",
    "print(r)\n",
    "rad = math.atan(r)\n",
    "print(rad)\n",
    "degree = math.degrees(rad)\n",
    "print(degree)\n",
    "# math.degrees(math.tan(45))\n",
    "# print(math.radians(30))\n",
    "# math.sin(math.radians(30))\n"
   ]
  },
  {
   "cell_type": "code",
   "execution_count": 9,
   "metadata": {},
   "outputs": [],
   "source": [
    "A = list(map(int, input().split()))\n",
    "B = list(map(int, input().split()))\n"
   ]
  },
  {
   "cell_type": "code",
   "execution_count": null,
   "metadata": {},
   "outputs": [],
   "source": []
  },
  {
   "cell_type": "code",
   "execution_count": 12,
   "metadata": {},
   "outputs": [],
   "source": [
    "A = [6, 0, 5, 5, -1, 1, 6]\n",
    "B = [-4, 1, 8, 7, -9, 3]"
   ]
  },
  {
   "cell_type": "code",
   "execution_count": 17,
   "metadata": {},
   "outputs": [
    {
     "name": "stdout",
     "output_type": "stream",
     "text": [
      "63\n"
     ]
    }
   ],
   "source": [
    "max_sum = -999999\n",
    "for index in range(abs(len(B)-len(A))+1):\n",
    "    \n",
    "    sum=0\n",
    "    if len(B) > len(A):\n",
    "        for i in range(len(A)):\n",
    "            sum += (A[i]*B[i+index])\n",
    "            \n",
    "        if sum > max_sum:\n",
    "            max_sum = sum\n",
    "    else : \n",
    "        for i in range(len(B)):\n",
    "            sum += (B[i]*A[i+index])\n",
    "            \n",
    "        if sum > max_sum:\n",
    "            max_sum = sum\n",
    "print(max_sum)\n",
    "\n"
   ]
  },
  {
   "cell_type": "code",
   "execution_count": null,
   "metadata": {},
   "outputs": [],
   "source": [
    "T = int(input())\n",
    "for tc in range(1,T+1):\n",
    "    A = list(map(int, input().split()))\n",
    "    B = list(map(int, input().split()))\n",
    "\n",
    "    max_sum = -float('inf')\n",
    "    for index in range(abs(len(B)-len(A))+1):\n",
    "\n",
    "        sum=0\n",
    "        if len(B) >= len(A):\n",
    "            for i in range(len(A)):\n",
    "                sum += (A[i]*B[i+index])\n",
    "            if sum > max_sum:\n",
    "                max_sum = sum\n",
    "        else : \n",
    "            for i in range(len(B)):\n",
    "                sum += B[i] * A[i+index]\n",
    "            if sum > max_sum:\n",
    "                max_sum = sum\n",
    "\n",
    "    print(f'#{tc} {max_sum}')\n",
    "\n"
   ]
  },
  {
   "cell_type": "markdown",
   "metadata": {},
   "source": [
    "T = int(input())\n",
    "for tc in range(1,T+1):\n",
    "    A = list(map(int, input().split()))\n",
    "\tB = list(map(int, input().split()))\n",
    "\n",
    "    max_sum = -999999\n",
    "    for index in range(abs(len(B)-len(A))+1):\n",
    "\n",
    "        sum=0\n",
    "        if len(B) > len(A):\n",
    "            for i in range(len(A)):\n",
    "                sum += (A[i]*B[i+index])\n",
    "\n",
    "            if sum > max_sum:\n",
    "                max_sum = sum\n",
    "        else : \n",
    "            for i in range(len(B)):\n",
    "                sum += (B[i]*A[i+index])\n",
    "\n",
    "            if sum > max_sum:\n",
    "                max_sum = sum\n",
    "    print(f'#{tc} {max_sum}')\n",
    "\n"
   ]
  }
 ],
 "metadata": {
  "kernelspec": {
   "display_name": "Python 3",
   "language": "python",
   "name": "python3"
  },
  "language_info": {
   "codemirror_mode": {
    "name": "ipython",
    "version": 3
   },
   "file_extension": ".py",
   "mimetype": "text/x-python",
   "name": "python",
   "nbconvert_exporter": "python",
   "pygments_lexer": "ipython3",
   "version": "3.12.3"
  }
 },
 "nbformat": 4,
 "nbformat_minor": 2
}
