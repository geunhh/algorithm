{
 "cells": [
  {
   "cell_type": "code",
   "execution_count": 28,
   "metadata": {},
   "outputs": [
    {
     "name": "stdout",
     "output_type": "stream",
     "text": [
      "deque([1])\n",
      "deque([0])\n",
      "deque([9550, 9556, 9550, 9553, 9558, 9551, 9551, 9551])\n",
      "deque([6, 2, 2, 9, 4, 1, 3, 0])\n",
      "deque([])\n"
     ]
    },
    {
     "ename": "IndexError",
     "evalue": "pop from an empty deque",
     "output_type": "error",
     "traceback": [
      "\u001b[1;31m---------------------------------------------------------------------------\u001b[0m",
      "\u001b[1;31mIndexError\u001b[0m                                Traceback (most recent call last)",
      "Cell \u001b[1;32mIn[28], line 20\u001b[0m\n\u001b[0;32m     17\u001b[0m \u001b[38;5;28;01mwhile\u001b[39;00m go:\n\u001b[0;32m     18\u001b[0m     \u001b[38;5;28;01mfor\u001b[39;00m i \u001b[38;5;129;01min\u001b[39;00m \u001b[38;5;28mrange\u001b[39m(\u001b[38;5;241m1\u001b[39m,\u001b[38;5;241m6\u001b[39m):\n\u001b[0;32m     19\u001b[0m     \u001b[38;5;66;03m#덱 순회\u001b[39;00m\n\u001b[1;32m---> 20\u001b[0m         pop_val \u001b[38;5;241m=\u001b[39m \u001b[43md\u001b[49m\u001b[38;5;241;43m.\u001b[39;49m\u001b[43mpopleft\u001b[49m\u001b[43m(\u001b[49m\u001b[43m)\u001b[49m\n\u001b[0;32m     21\u001b[0m         \u001b[38;5;28;01mif\u001b[39;00m pop_val \u001b[38;5;241m-\u001b[39m i \u001b[38;5;241m<\u001b[39m\u001b[38;5;241m=\u001b[39m \u001b[38;5;241m0\u001b[39m:\n\u001b[0;32m     22\u001b[0m             go \u001b[38;5;241m=\u001b[39m \u001b[38;5;28;01mFalse\u001b[39;00m\n",
      "\u001b[1;31mIndexError\u001b[0m: pop from an empty deque"
     ]
    }
   ],
   "source": [
    "'''\n",
    "첫번째 수는 1감수 후 맨뒤\n",
    "두번째 수는 2감소 후 맨뒤\n",
    "n번째 수는 n감소 후 맨뒤\n",
    "숫자 감소할 때 : 0 -> 뒤로 보내고 프로그램 종료.\n",
    "'''\n",
    "from collections import deque\n",
    "for tc in range(1,11):\n",
    "    # deque 생성\n",
    "    # lst = [9550, 9556, 9550, 9553, 9558, 9551, 9551, 9551]  # 6 2 2 9 4 1 3 0\n",
    "    # lst = [10,6,12,8,9,4,1,3]\n",
    "    N= input()\n",
    "    lst = list(map(int, input().split()))\n",
    "    d = deque(lst)\n",
    "    i=1\n",
    "    go=True\n",
    "    while go:\n",
    "        for i in range(1,6):\n",
    "        #덱 순회\n",
    "            pop_val = d.popleft()\n",
    "            if pop_val - i <= 0:\n",
    "                go = False\n",
    "                d.append(0)\n",
    "                break\n",
    "            else:\n",
    "                d.append(pop_val-i)\n",
    "    print(f'#{tc}',*d)"
   ]
  },
  {
   "cell_type": "markdown",
   "metadata": {},
   "source": []
  }
 ],
 "metadata": {
  "kernelspec": {
   "display_name": "Python 3",
   "language": "python",
   "name": "python3"
  },
  "language_info": {
   "codemirror_mode": {
    "name": "ipython",
    "version": 3
   },
   "file_extension": ".py",
   "mimetype": "text/x-python",
   "name": "python",
   "nbconvert_exporter": "python",
   "pygments_lexer": "ipython3",
   "version": "3.9.13"
  }
 },
 "nbformat": 4,
 "nbformat_minor": 2
}
