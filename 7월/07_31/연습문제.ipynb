{
 "cells": [
  {
   "cell_type": "code",
   "execution_count": 4,
   "metadata": {},
   "outputs": [
    {
     "ename": "ValueError",
     "evalue": "invalid literal for int() with base 10: 'ㅇㄻㄶㅇ'",
     "output_type": "error",
     "traceback": [
      "\u001b[1;31m---------------------------------------------------------------------------\u001b[0m",
      "\u001b[1;31mValueError\u001b[0m                                Traceback (most recent call last)",
      "Cell \u001b[1;32mIn[4], line 1\u001b[0m\n\u001b[1;32m----> 1\u001b[0m N \u001b[38;5;241m=\u001b[39m \u001b[38;5;28;43mint\u001b[39;49m\u001b[43m(\u001b[49m\u001b[38;5;28;43minput\u001b[39;49m\u001b[43m(\u001b[49m\u001b[43m)\u001b[49m\u001b[43m)\u001b[49m\n\u001b[0;32m      2\u001b[0m arr \u001b[38;5;241m=\u001b[39m [\u001b[38;5;28mlist\u001b[39m(\u001b[38;5;28mmap\u001b[39m(\u001b[38;5;28mint\u001b[39m,\u001b[38;5;28minput\u001b[39m()\u001b[38;5;241m.\u001b[39msplit())) \u001b[38;5;28;01mfor\u001b[39;00m _ \u001b[38;5;129;01min\u001b[39;00m \u001b[38;5;28mrange\u001b[39m(N)]\n\u001b[0;32m      4\u001b[0m di \u001b[38;5;241m=\u001b[39m [\u001b[38;5;241m0\u001b[39m,\u001b[38;5;241m1\u001b[39m,\u001b[38;5;241m0\u001b[39m,\u001b[38;5;241m-\u001b[39m\u001b[38;5;241m1\u001b[39m]\n",
      "\u001b[1;31mValueError\u001b[0m: invalid literal for int() with base 10: 'ㅇㄻㄶㅇ'"
     ]
    }
   ],
   "source": [
    "#1-2\n",
    "\n",
    "N = int(input())\n",
    "arr = [list(map(int,input().split())) for _ in range(N)]\n",
    "\n",
    "di = [0,1,0,-1]\n",
    "dj = [1,0,-1,0]\n",
    "\n",
    "total = 0\n",
    "for i in range(N):\n",
    "    for j in range(N):  # NxN 배열의 모든 원소에 대해.\n",
    "        s=0             # [i][j]와 인접원소들의 합 초기화.\n",
    "        # i,j 4방향 원소에 대해\n",
    "        for k in range(4): # 좌표 설정,\n",
    "            ni = i + di[k]\n",
    "            nj = j + dj[k]\n",
    "            if 0<=ni<N and 0<=nj<N: # 좌표 유효성 검사\n",
    "                s += abs(arr[i][j] - arr[ni][nj])\n",
    "        total += s\n",
    "print(total)\n",
    "\n"
   ]
  },
  {
   "cell_type": "code",
   "execution_count": 6,
   "metadata": {},
   "outputs": [
    {
     "name": "stdout",
     "output_type": "stream",
     "text": [
      "[0, 0, 0, 0]\n",
      "[0, 0, 0, 1]\n",
      "[0, 0, 1, 0]\n",
      "[0, 0, 1, 1]\n",
      "[0, 1, 0, 0]\n",
      "[0, 1, 0, 1]\n",
      "[0, 1, 1, 0]\n",
      "[0, 1, 1, 1]\n",
      "[1, 0, 0, 0]\n",
      "[1, 0, 0, 1]\n",
      "[1, 0, 1, 0]\n",
      "[1, 0, 1, 1]\n",
      "[1, 1, 0, 0]\n",
      "[1, 1, 0, 1]\n",
      "[1, 1, 1, 0]\n",
      "[1, 1, 1, 1]\n"
     ]
    }
   ],
   "source": [
    "#부분집합 합 문제.\n",
    "\n",
    "## 부분집합 생성\n",
    "bit =[0,0,0,0]\n",
    "for i in range(2): # 0 또는 1의 상황\n",
    "    bit[0]=i\n",
    "    for j in range(2):\n",
    "        bit[1] = j\n",
    "        for k in range(2):\n",
    "            bit[2] = k\n",
    "            for l in range(2):\n",
    "                bit[3] = l\n",
    "                print(bit)"
   ]
  },
  {
   "cell_type": "code",
   "execution_count": 50,
   "metadata": {},
   "outputs": [
    {
     "name": "stdout",
     "output_type": "stream",
     "text": [
      "0b1\n",
      "0b10\n",
      "0b100\n",
      "0b1000\n",
      "0b11\n"
     ]
    }
   ],
   "source": [
    "for j in range(4):\n",
    "\n",
    "    print(bin(1<<j))\n",
    "\n",
    "print(bin(3))"
   ]
  },
  {
   "cell_type": "code",
   "execution_count": 44,
   "metadata": {},
   "outputs": [
    {
     "name": "stdout",
     "output_type": "stream",
     "text": [
      "\n",
      "1, \n",
      "2, \n",
      "1, 2, \n",
      "3, \n",
      "1, 3, \n",
      "2, 3, \n",
      "1, 2, 3, \n",
      "4, \n",
      "1, 4, \n",
      "2, 4, \n",
      "1, 2, 4, \n",
      "3, 4, \n",
      "1, 3, 4, \n",
      "2, 3, 4, \n",
      "1, 2, 3, 4, \n",
      "\n"
     ]
    }
   ],
   "source": [
    "# arr=[3,6,7,1,5,4]\n",
    "arr=[1,1,1,1]\n",
    "n=len(arr)\n",
    "for i in range(1<<n):\n",
    "    for j in range(n):\n",
    "        if i & (1<<j):\n",
    "            print(arr[j], end=\", \")\n",
    "        else :\n",
    "            print()\n",
    "    print()\n",
    "print()"
   ]
  },
  {
   "cell_type": "code",
   "execution_count": 21,
   "metadata": {},
   "outputs": [
    {
     "name": "stdout",
     "output_type": "stream",
     "text": [
      "0:0000\n",
      "1:0001\n",
      "2:0010\n",
      "3:0011\n",
      "4:0100\n",
      "5:0101\n",
      "6:0110\n",
      "7:0111\n",
      "8:1000\n",
      "9:1001\n",
      "10:1010\n",
      "11:1011\n",
      "12:1100\n",
      "13:1101\n",
      "14:1110\n",
      "15:1111\n",
      "\n"
     ]
    }
   ],
   "source": [
    "arr=[1,2,3,4]\n",
    "n=len(arr)\n",
    "for i in range(1<<n):\n",
    "    print(f\"{i}:{str(bin(i))[2:]:0>4}\")\n",
    "    # for j in range(n):\n",
    "    #     if i & (1<<j):\n",
    "    #         print(arr[j], end=\", \")\n",
    "    # print()\n",
    "print()"
   ]
  },
  {
   "cell_type": "code",
   "execution_count": 23,
   "metadata": {},
   "outputs": [
    {
     "name": "stdout",
     "output_type": "stream",
     "text": [
      "0:0000\n",
      "0:0001\n",
      "1:0010\n",
      "2:0100\n",
      "3:1000\n",
      "1:0001\n",
      "0:0001\n",
      "1:0010\n",
      "2:0100\n",
      "3:1000\n",
      "2:0010\n",
      "0:0001\n",
      "1:0010\n",
      "2:0100\n",
      "3:1000\n",
      "3:0011\n",
      "0:0001\n",
      "1:0010\n",
      "2:0100\n",
      "3:1000\n",
      "4:0100\n",
      "0:0001\n",
      "1:0010\n",
      "2:0100\n",
      "3:1000\n",
      "5:0101\n",
      "0:0001\n",
      "1:0010\n",
      "2:0100\n",
      "3:1000\n",
      "6:0110\n",
      "0:0001\n",
      "1:0010\n",
      "2:0100\n",
      "3:1000\n",
      "7:0111\n",
      "0:0001\n",
      "1:0010\n",
      "2:0100\n",
      "3:1000\n",
      "8:1000\n",
      "0:0001\n",
      "1:0010\n",
      "2:0100\n",
      "3:1000\n",
      "9:1001\n",
      "0:0001\n",
      "1:0010\n",
      "2:0100\n",
      "3:1000\n",
      "10:1010\n",
      "0:0001\n",
      "1:0010\n",
      "2:0100\n",
      "3:1000\n",
      "11:1011\n",
      "0:0001\n",
      "1:0010\n",
      "2:0100\n",
      "3:1000\n",
      "12:1100\n",
      "0:0001\n",
      "1:0010\n",
      "2:0100\n",
      "3:1000\n",
      "13:1101\n",
      "0:0001\n",
      "1:0010\n",
      "2:0100\n",
      "3:1000\n",
      "14:1110\n",
      "0:0001\n",
      "1:0010\n",
      "2:0100\n",
      "3:1000\n",
      "15:1111\n",
      "0:0001\n",
      "1:0010\n",
      "2:0100\n",
      "3:1000\n",
      "\n"
     ]
    }
   ],
   "source": [
    "arr=[1,2,3,4]\n",
    "n=len(arr)\n",
    "for i in range(1<<n):\n",
    "    print(f\"{i}:{str(bin(i))[2:]:0>4}\")\n",
    "    for j in range(n):\n",
    "        print(f\"{j}:{str(bin(1<<j))[2:]:0>4}\")\n",
    "\n",
    "    #     if i & (1<<j):\n",
    "    #         print(arr[j], end=\", \")\n",
    "    # print()\n",
    "print()"
   ]
  }
 ],
 "metadata": {
  "kernelspec": {
   "display_name": "Python 3",
   "language": "python",
   "name": "python3"
  },
  "language_info": {
   "codemirror_mode": {
    "name": "ipython",
    "version": 3
   },
   "file_extension": ".py",
   "mimetype": "text/x-python",
   "name": "python",
   "nbconvert_exporter": "python",
   "pygments_lexer": "ipython3",
   "version": "3.9.13"
  }
 },
 "nbformat": 4,
 "nbformat_minor": 2
}
