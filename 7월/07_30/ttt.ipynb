{
 "cells": [
  {
   "cell_type": "code",
   "execution_count": 6,
   "metadata": {},
   "outputs": [
    {
     "name": "stdout",
     "output_type": "stream",
     "text": [
      "[0, 0, 0, 1, 2, 1, 1, 3, 0, 2]\n",
      "#1 7 3\n"
     ]
    }
   ],
   "source": [
    "T = int(input())\n",
    "# 여러개의 테스트 케이스가 주어지므로, 각각을 처리합니다.\n",
    "for test_case in range(1, T + 1):\n",
    "    N = int(input())\n",
    "    ai = list(input())\n",
    "    count_list = [0]*10             #0~9 숫자  \n",
    "    # print(count_list)\n",
    "    # print(ai)\n",
    "\n",
    "    for i in range(len(ai)):        \n",
    "        count_list[int(ai[i])] += 1\n",
    "    print(count_list)\n",
    "\n",
    "    max_num=0\n",
    "    \n",
    "    for i in range(len(count_list)):\n",
    "        if count_list[i] >= max_num:\n",
    "            max_num = count_list[i]\n",
    "            max_index = i\n",
    "    print(f'#{test_case} {max_index} {max_num}')\n",
    "    \n",
    "    \n"
   ]
  }
 ],
 "metadata": {
  "kernelspec": {
   "display_name": "Python 3",
   "language": "python",
   "name": "python3"
  },
  "language_info": {
   "codemirror_mode": {
    "name": "ipython",
    "version": 3
   },
   "file_extension": ".py",
   "mimetype": "text/x-python",
   "name": "python",
   "nbconvert_exporter": "python",
   "pygments_lexer": "ipython3",
   "version": "3.9.13"
  }
 },
 "nbformat": 4,
 "nbformat_minor": 2
}
