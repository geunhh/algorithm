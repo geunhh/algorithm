{
 "cells": [
  {
   "cell_type": "markdown",
   "metadata": {},
   "source": [
    "1. input \n",
    "    + K : 한 번 충전으로 이동할 수 있는 정류장 수\n",
    "    + N : 이동할 정류장 수\n",
    "    + M : 충전기 설치된 정류장 번호\n",
    "        + K N M\n",
    "        + M list.\n",
    "\n",
    "2. output : 충전횟수 or 0\n",
    "\n",
    "3. 변수 : max_num, min_num, N\n",
    "\n",
    "## 문제 풀이 절차\n",
    "+ 가장 쉬운 풀이 + 실행시간 오래걸림\n",
    "+ 가장 높은 값과 낮은 값을 찾음.\n",
    "    + 가장 높은 값 -1 가장 낮은 값 + 1, and 횟수 -1 을 while문에 넣어줌.\n",
    "+ 그리고 최후의 max_num - min_num\n"
   ]
  },
  {
   "cell_type": "code",
   "execution_count": 37,
   "metadata": {},
   "outputs": [
    {
     "ename": "ValueError",
     "evalue": "not enough values to unpack (expected 3, got 0)",
     "output_type": "error",
     "traceback": [
      "\u001b[1;31m---------------------------------------------------------------------------\u001b[0m",
      "\u001b[1;31mValueError\u001b[0m                                Traceback (most recent call last)",
      "Cell \u001b[1;32mIn[37], line 11\u001b[0m\n\u001b[0;32m      9\u001b[0m \u001b[38;5;66;03m# 여러개의 테스트 케이스가 주어지므로, 각각을 처리합니다.\u001b[39;00m\n\u001b[0;32m     10\u001b[0m \u001b[38;5;28;01mfor\u001b[39;00m test_case \u001b[38;5;129;01min\u001b[39;00m \u001b[38;5;28mrange\u001b[39m(\u001b[38;5;241m1\u001b[39m, T \u001b[38;5;241m+\u001b[39m \u001b[38;5;241m1\u001b[39m):\n\u001b[1;32m---> 11\u001b[0m     K,N,M \u001b[38;5;241m=\u001b[39m \u001b[38;5;28mmap\u001b[39m(\u001b[38;5;28mint\u001b[39m, \u001b[38;5;28minput\u001b[39m()\u001b[38;5;241m.\u001b[39msplit())\n\u001b[0;32m     12\u001b[0m     M_list \u001b[38;5;241m=\u001b[39m \u001b[38;5;28mlist\u001b[39m(\u001b[38;5;28mmap\u001b[39m(\u001b[38;5;28mint\u001b[39m, \u001b[38;5;28minput\u001b[39m()\u001b[38;5;241m.\u001b[39msplit()))\n\u001b[0;32m     13\u001b[0m     i \u001b[38;5;241m=\u001b[39m \u001b[38;5;241m0\u001b[39m       \u001b[38;5;66;03m# index\u001b[39;00m\n",
      "\u001b[1;31mValueError\u001b[0m: not enough values to unpack (expected 3, got 0)"
     ]
    }
   ],
   "source": [
    "'''\n",
    "K N M\n",
    "3 10 5\n",
    "M_list\n",
    "1 3 5 7 9\n",
    "'''\n",
    "\n",
    "T = int(input())\n",
    "# 여러개의 테스트 케이스가 주어지므로, 각각을 처리합니다.\n",
    "for test_case in range(1, T + 1):\n",
    "    K,N,M = map(int, input().split())\n",
    "    M_list = list(map(int, input().split()))\n",
    "    i = 0       # index\n",
    "    count = 0   # 정류장 쓰는 횟수 or break 조건.\n",
    "\n",
    "    while i < N-K :\n",
    "        if count == -1:\n",
    "            break\n",
    "        \n",
    "\n",
    "        for j in range(i+K, i,-1):  # i부터 i+K 역순으로 서칭\n",
    "            \n",
    "            if j in M_list:         # 갈 수 있는 거리 내에 정류장이 있으면,\n",
    "                i = j               # 다음 시작 인덱스를 해당 인덱스로 업데이트\n",
    "                count+=1            # 정류장 수 +1\n",
    "                break               # for문 종료\n",
    "        else :                      # 못 찾았다? = 정류장이 없다?\n",
    "            count =-1               # count -1 할당\n",
    "            break                   \n",
    "    if count == -1:\n",
    "        print(f'#{test_case} 0')  \n",
    "    else:\n",
    "        print(f'#{test_case} {count}')"
   ]
  },
  {
   "cell_type": "code",
   "execution_count": 19,
   "metadata": {},
   "outputs": [
    {
     "name": "stdout",
     "output_type": "stream",
     "text": [
      "5\n",
      "4\n",
      "3\n",
      "2\n",
      "1\n"
     ]
    }
   ],
   "source": [
    "i=0\n",
    "k=5\n",
    "for j in range(i+k, i,-1):\n",
    "    print(j)\n"
   ]
  }
 ],
 "metadata": {
  "kernelspec": {
   "display_name": "Python 3",
   "language": "python",
   "name": "python3"
  },
  "language_info": {
   "codemirror_mode": {
    "name": "ipython",
    "version": 3
   },
   "file_extension": ".py",
   "mimetype": "text/x-python",
   "name": "python",
   "nbconvert_exporter": "python",
   "pygments_lexer": "ipython3",
   "version": "3.9.13"
  }
 },
 "nbformat": 4,
 "nbformat_minor": 2
}
