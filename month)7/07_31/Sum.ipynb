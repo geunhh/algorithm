{
 "cells": [
  {
   "cell_type": "code",
   "execution_count": null,
   "metadata": {},
   "outputs": [],
   "source": [
    "'''\n",
    "13 24 13 24 1 7 24 11 22 18 22 16 24 8 15 28 9 24 14 14 28 18 17 9 3 29 \n",
    "22 12 28 2 25 6 11 26 14 19 3 26 13 6 23 3 3 29 13 25 4 27 8 25 28 8 9 17 \n",
    "28 13 24 27 9 25 21 20 6 16 28 5 22 11 9 29 13 26 28 2 11 10 14 14 5 11 26 9 \n",
    "15 3 23 9 8 11 12 6 9 18 6 14 28 21 24 24 20 12\n",
    "'''"
   ]
  },
  {
   "cell_type": "code",
   "execution_count": 31,
   "metadata": {},
   "outputs": [
    {
     "ename": "ValueError",
     "evalue": "invalid literal for int() with base 10: 'v'",
     "output_type": "error",
     "traceback": [
      "\u001b[1;31m---------------------------------------------------------------------------\u001b[0m",
      "\u001b[1;31mValueError\u001b[0m                                Traceback (most recent call last)",
      "Cell \u001b[1;32mIn[31], line 14\u001b[0m\n\u001b[0;32m      3\u001b[0m N \u001b[38;5;241m=\u001b[39m \u001b[38;5;28mint\u001b[39m(\u001b[38;5;28minput\u001b[39m())\n\u001b[0;32m      4\u001b[0m \u001b[38;5;66;03m# lst = list(map(int,input().split()))\u001b[39;00m\n\u001b[0;32m      5\u001b[0m \u001b[38;5;66;03m# max_total = lst[0]\u001b[39;00m\n\u001b[0;32m      6\u001b[0m \u001b[38;5;66;03m# arr =[]\u001b[39;00m\n\u001b[1;32m   (...)\u001b[0m\n\u001b[0;32m     10\u001b[0m \u001b[38;5;66;03m#         row.append(lst[i*100+j])\u001b[39;00m\n\u001b[0;32m     11\u001b[0m \u001b[38;5;66;03m#     arr.append(row)\u001b[39;00m\n\u001b[1;32m---> 14\u001b[0m arr \u001b[38;5;241m=\u001b[39m [\u001b[38;5;28mlist\u001b[39m(\u001b[38;5;28mmap\u001b[39m(\u001b[38;5;28mint\u001b[39m, \u001b[38;5;28minput\u001b[39m()\u001b[38;5;241m.\u001b[39msplit())) \u001b[38;5;28;01mfor\u001b[39;00m i \u001b[38;5;129;01min\u001b[39;00m \u001b[38;5;28mrange\u001b[39m(\u001b[38;5;241m100\u001b[39m)]\n\u001b[0;32m     20\u001b[0m \u001b[38;5;66;03m# 행 순회\u001b[39;00m\n\u001b[0;32m     21\u001b[0m \u001b[38;5;28;01mfor\u001b[39;00m i \u001b[38;5;129;01min\u001b[39;00m \u001b[38;5;28mrange\u001b[39m(\u001b[38;5;241m100\u001b[39m):\n",
      "Cell \u001b[1;32mIn[31], line 14\u001b[0m, in \u001b[0;36m<listcomp>\u001b[1;34m(.0)\u001b[0m\n\u001b[0;32m      3\u001b[0m N \u001b[38;5;241m=\u001b[39m \u001b[38;5;28mint\u001b[39m(\u001b[38;5;28minput\u001b[39m())\n\u001b[0;32m      4\u001b[0m \u001b[38;5;66;03m# lst = list(map(int,input().split()))\u001b[39;00m\n\u001b[0;32m      5\u001b[0m \u001b[38;5;66;03m# max_total = lst[0]\u001b[39;00m\n\u001b[0;32m      6\u001b[0m \u001b[38;5;66;03m# arr =[]\u001b[39;00m\n\u001b[1;32m   (...)\u001b[0m\n\u001b[0;32m     10\u001b[0m \u001b[38;5;66;03m#         row.append(lst[i*100+j])\u001b[39;00m\n\u001b[0;32m     11\u001b[0m \u001b[38;5;66;03m#     arr.append(row)\u001b[39;00m\n\u001b[1;32m---> 14\u001b[0m arr \u001b[38;5;241m=\u001b[39m [\u001b[38;5;28;43mlist\u001b[39;49m\u001b[43m(\u001b[49m\u001b[38;5;28;43mmap\u001b[39;49m\u001b[43m(\u001b[49m\u001b[38;5;28;43mint\u001b[39;49m\u001b[43m,\u001b[49m\u001b[43m \u001b[49m\u001b[38;5;28;43minput\u001b[39;49m\u001b[43m(\u001b[49m\u001b[43m)\u001b[49m\u001b[38;5;241;43m.\u001b[39;49m\u001b[43msplit\u001b[49m\u001b[43m(\u001b[49m\u001b[43m)\u001b[49m\u001b[43m)\u001b[49m\u001b[43m)\u001b[49m \u001b[38;5;28;01mfor\u001b[39;00m i \u001b[38;5;129;01min\u001b[39;00m \u001b[38;5;28mrange\u001b[39m(\u001b[38;5;241m100\u001b[39m)]\n\u001b[0;32m     20\u001b[0m \u001b[38;5;66;03m# 행 순회\u001b[39;00m\n\u001b[0;32m     21\u001b[0m \u001b[38;5;28;01mfor\u001b[39;00m i \u001b[38;5;129;01min\u001b[39;00m \u001b[38;5;28mrange\u001b[39m(\u001b[38;5;241m100\u001b[39m):\n",
      "\u001b[1;31mValueError\u001b[0m: invalid literal for int() with base 10: 'v'"
     ]
    }
   ],
   "source": [
    "\n",
    "# 여러개의 테스트 케이스가 주어지므로, 각각을 처리합니다.\n",
    "for test_case in range(1, 11):\n",
    "    N = int(input())\n",
    "    # lst = list(map(int,input().split()))\n",
    "    # max_total = lst[0]\n",
    "    # arr =[]\n",
    "    # for i in range(100):\n",
    "    #     row =[]\n",
    "    #     for j in range(100):\n",
    "    #         row.append(lst[i*100+j])\n",
    "    #     arr.append(row)\n",
    "\n",
    "\n",
    "    arr = [list(map(int, input().split())) for i in range(100)]\n",
    "\n",
    "    \n",
    "    # 행 순회\n",
    "    for i in range(100):\n",
    "        total = 0\n",
    "        for j in range(100):\n",
    "            total += arr[i][j]\n",
    "        if max_total < total:\n",
    "            max_total = total\n",
    "\n",
    "    # 열 순회\n",
    "    for j in range(100):\n",
    "        total = 0\n",
    "        for i in range(100):\n",
    "            total += arr[i][j]\n",
    "        if max_total < total:\n",
    "            max_total = total\n",
    "\n",
    "\n",
    "    # 대각선 순회\n",
    "    total = 0\n",
    "    for i in range(100):        \n",
    "        total += arr[i][i]\n",
    "    if max_total < total:\n",
    "        max_total = total\n",
    "\n",
    "    # 역으로.\n",
    "    total =0\n",
    "    for i in range(100) :\n",
    "        total += arr[i][99-i]\n",
    "    if max_total < total:\n",
    "        max_total = total\n",
    "    print(f'#{test_case} {max_total}')\n"
   ]
  },
  {
   "cell_type": "code",
   "execution_count": null,
   "metadata": {},
   "outputs": [],
   "source": [
    "for test_case in range(1, 11):\n",
    "    N = int(input())\n",
    "\n",
    "    matrix = [list(map(int, input().split())) for i in range(100)]\n",
    "\n",
    "    max_total = 0\n",
    "    for j in range(100):\n",
    "        max_total += matrix[0][j]\n",
    "\n",
    "    # 행 순회\n",
    "    for i in range(100):\n",
    "        total = 0\n",
    "        for j in range(100):\n",
    "            total += matrix[i][j]\n",
    "        if total > max_total:\n",
    "            max_total = total\n",
    "\n",
    "    # 열 순회\n",
    "    for j in range(100):\n",
    "        total = 0\n",
    "        for i in range(100):\n",
    "            total += matrix[i][j]\n",
    "        if total > max_total:\n",
    "            max_total = total\n",
    "\n",
    "    # 주대각선 순회\n",
    "    total = 0\n",
    "    for i in range(100):\n",
    "        total += matrix[i][i]\n",
    "    if total > max_total:\n",
    "        max_total = total\n",
    "\n",
    "    # 반대각선 순회\n",
    "    total = 0\n",
    "    for i in range(100):\n",
    "        total += matrix[i][99-i]\n",
    "    if total > max_total:\n",
    "        max_total = total\n",
    "\n",
    "    print(f\"#{N} {max_total}\")"
   ]
  }
 ],
 "metadata": {
  "kernelspec": {
   "display_name": "Python 3",
   "language": "python",
   "name": "python3"
  },
  "language_info": {
   "codemirror_mode": {
    "name": "ipython",
    "version": 3
   },
   "file_extension": ".py",
   "mimetype": "text/x-python",
   "name": "python",
   "nbconvert_exporter": "python",
   "pygments_lexer": "ipython3",
   "version": "3.9.13"
  }
 },
 "nbformat": 4,
 "nbformat_minor": 2
}
