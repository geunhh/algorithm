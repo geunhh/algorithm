{
 "cells": [
  {
   "cell_type": "markdown",
   "metadata": {},
   "source": [
    "# 숫자 카드.\n",
    "\n",
    "## 문제\n",
    "+ 0에서 9까지 숫자가 적힌 N장의 카드가 주어진다.\n",
    "+ 가장 많은 카드에 적힌 숫자와 카드가 몇 장인지 출력하는 프로그램을 만드시오. 카드 장수가 같을 때는 적힌 숫자가 큰 쪽을 출력한다.\n",
    "\n",
    "## 입력\n",
    "+ 카드 장수 N \n",
    "+ N개의 숫자 ai (여백x, 0부터 시작할 수도 있음) \n",
    "\n",
    "## 출력\n",
    "+ 가장 많은 카드와, 장수\n",
    "\n",
    "## 아이디어\n",
    "1. input을 list로 만들고 순회한다.\n",
    "2. count_list를 따로 만들어 해당 인덱스의 value를 1씩 증가\n",
    "3. 출력은 value가 가장 큰 index와 value \n"
   ]
  },
  {
   "cell_type": "code",
   "execution_count": 36,
   "metadata": {},
   "outputs": [
    {
     "name": "stdout",
     "output_type": "stream",
     "text": [
      "[1, 1, 1, 0, 0, 0, 0, 1, 1, 0]\n",
      "#1 9 1\n"
     ]
    }
   ],
   "source": [
    "T = int(input())\n",
    "# 여러개의 테스트 케이스가 주어지므로, 각각을 처리합니다.\n",
    "for test_case in range(1, T + 1):\n",
    "    N = int(input())\n",
    "    ai = list(input())\n",
    "    count_list = [0]*10             #0~9 숫자  \n",
    "    # print(count_list)\n",
    "    # print(ai)\n",
    "\n",
    "    for i in range(len(ai)):        \n",
    "        count_list[int(ai[i])] += 1\n",
    "    print(count_list)\n",
    "\n",
    "    max_num=0\n",
    "    \n",
    "    for i in range(len(count_list)):\n",
    "        if count_list[i] > max_num:\n",
    "            max_num =count_list[i]\n",
    "            max_index = i\n",
    "    print(f'#{test_case} {i} {max_num}')\n",
    "    \n",
    "    \n"
   ]
  }
 ],
 "metadata": {
  "kernelspec": {
   "display_name": "Python 3",
   "language": "python",
   "name": "python3"
  },
  "language_info": {
   "codemirror_mode": {
    "name": "ipython",
    "version": 3
   },
   "file_extension": ".py",
   "mimetype": "text/x-python",
   "name": "python",
   "nbconvert_exporter": "python",
   "pygments_lexer": "ipython3",
   "version": "3.9.13"
  }
 },
 "nbformat": 4,
 "nbformat_minor": 2
}
