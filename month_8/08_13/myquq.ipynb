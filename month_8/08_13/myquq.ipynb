{
 "cells": [
  {
   "cell_type": "code",
   "execution_count": 2,
   "metadata": {},
   "outputs": [
    {
     "name": "stdout",
     "output_type": "stream",
     "text": [
      "1\n",
      "2\n",
      "3\n",
      "10\n",
      "20\n"
     ]
    }
   ],
   "source": [
    "N=10\n",
    "q =[0] * N\n",
    "front = -1\n",
    "rear = -1\n",
    "\n",
    "# 큐의 동작.\n",
    "rear+=1\n",
    "q[rear] = 1 # enqueue(1)\n",
    "rear += 1\n",
    "q[rear] = 2 # enqueue(2)\n",
    "rear += 1\n",
    "q[rear] = 3 # enqueue(3)\n",
    "\n",
    "front +=1       \n",
    "print(q[front]) # dequeue\n",
    "front +=1  \n",
    "print(q[front]) # dequeue\n",
    "front +=1  \n",
    "print(q[front]) # dequeue\n",
    "\n",
    "\n",
    "# 이렇게도 구현할 수 있음.\n",
    "q2 = []\n",
    "q2.append(10)\n",
    "q2.append(20)\n",
    "print(q2.pop(0))\n",
    "print(q2.pop(0))"
   ]
  },
  {
   "cell_type": "code",
   "execution_count": 11,
   "metadata": {},
   "outputs": [
    {
     "name": "stdout",
     "output_type": "stream",
     "text": [
      "[0, 1, 0, 0]\n",
      "[0, 1, 2, 0]\n",
      "[0, 1, 2, 3]\n",
      "1\n"
     ]
    }
   ],
   "source": [
    "Q_size = 4\n",
    "cQ = [0]*Q_size  # 원형 큐를 0으로 초기화합니다. cQ = [0, 0, 0, 0]\n",
    "front = rear = 0  # front와 rear 포인터를 0으로 설정합니다.\n",
    "\n",
    "# 첫 번째 연산\n",
    "rear = (rear+1) & (Q_size - 1)  # (0+1) & (4-1) = 1 & 3 = 1\n",
    "cQ[rear] = 1\n",
    "print(cQ)  # 출력: [0, 1, 0, 0]\n",
    "\n",
    "# 두 번째 연산\n",
    "rear = (rear+1) & (Q_size - 1)  # (1+1) & (4-1) = 2 & 3 = 2\n",
    "cQ[rear] = 2\n",
    "print(cQ)  # 출력: [0, 1, 2, 0]\n",
    "\n",
    "# 세 번째 연산\n",
    "rear = (rear+1) & (Q_size - 1)  # (2+1) & (4-1) = 3 & 3 = 3\n",
    "cQ[rear] = 3\n",
    "print(cQ)  # 출력: [0, 1, 2, 3]\n",
    "\n",
    "# 네 번째 연산\n",
    "front = (front + 1) % Q_size  # (0 + 1) % 4 = 1\n",
    "print(cQ[front])  # 출력: 1\n"
   ]
  },
  {
   "cell_type": "code",
   "execution_count": 22,
   "metadata": {},
   "outputs": [
    {
     "name": "stdout",
     "output_type": "stream",
     "text": [
      "deque([1, 2, 3, 4, 4, 4, 4, 5])\n",
      "초기 덱:  deque([1, 2, 3, 4, 4, 4, 4, 5])\n",
      "deque([1, 2, 3, 4, 4, 4, 4, 5, 6])\n",
      "deque([5, 1, 2, 3, 4, 4, 4, 4, 5, 6])\n",
      "6\n",
      "deque([5, 1, 2, 3, 4, 4, 4, 4, 5])\n",
      "5\n",
      "deque([1, 2, 3, 4, 4, 4, 4, 5])\n",
      "4\n"
     ]
    }
   ],
   "source": [
    "#%%\n",
    "from collections import deque\n",
    "\n",
    "# deque 생성\n",
    "# 생성: O(k), k는 초기화에 사용된 이터러블의 길이\n",
    "d = deque([1, 2, 3, 4, 5])\n",
    "print(\"초기 deque:\", d)\n",
    "#초기 deque: deque([1, 2, 3, 4, 5])\n",
    "\n",
    "# 오른쪽에 요소 추가\n",
    "# append: O(1)\n",
    "d.append(6)\n",
    "print(\"append(6) 후:\", d)\n",
    "#append(6) 후: deque([1, 2, 3, 4, 5, 6])\n",
    "\n",
    "# 왼쪽에 요소 추가\n",
    "# appendleft: O(1)\n",
    "d.appendleft(0)\n",
    "print(\"appendleft(0) 후:\", d)\n",
    "#appendleft(0) 후: deque([0, 1, 2, 3, 4, 5, 6])  \n",
    "\n",
    "# 오른쪽에서 요소 제거 및 반환\n",
    "# pop: O(1)\n",
    "popped = d.pop()\n",
    "print(\"pop() 후:\", d, \"제거된 요소:\", popped)\n",
    "#pop() 후: deque([0, 1, 2, 3, 4, 5]) 제거된 요소: 6 \n",
    "\n",
    "# 왼쪽에서 요소 제거 및 반환\n",
    "# popleft: O(1)\n",
    "popped_left = d.popleft()\n",
    "print(\"popleft() 후:\", d, \"제거된 요소:\", popped_left)\n",
    "#popleft() 후: deque([1, 2, 3, 4, 5]) 제거된 요소: 0\n",
    "\n",
    "# 특정 요소의 개수 세기\n",
    "# count: O(n), n은 deque의 길이\n",
    "count = d.count(3)\n",
    "print(\"3의 개수:\", count) #3의 개수: 1\n",
    "\n",
    "# deque 회전 (양수: 오른쪽으로, 음수: 왼쪽으로)\n",
    "# rotate: O(k), k는 회전하는 위치의 수.\n",
    "d.rotate(2)\n",
    "print(\"rotate(2) 후:\", d) #rotate(2) 후: deque([4, 5, 1, 2, 3])\n",
    "d.rotate(-2)\n",
    "print(\"rotate(-2) 후:\", d) #rotate(-2) 후: deque([1, 2, 3, 4, 5])\n",
    "\n",
    "# 특정 요소의 인덱스 찾기\n",
    "# index: O(n)\n",
    "index = d.index(4)\n",
    "print(\"4의 인덱스:\", index) #4의 인덱스: 3\n",
    "\n",
    "# deque 확장 (오른쪽)\n",
    "# extend: O(k), k는 추가되는 이터러블의 길이\n",
    "d.extend([7, 8, 9])\n",
    "print(\"extend([7, 8, 9]) 후:\", d)\n",
    "#extend([7, 8, 9]) 후: deque([1, 2, 3, 4, 5, 7, 8, 9])\n",
    "\n",
    "# deque 확장 (왼쪽)\n",
    "# extend: O(k), k는 추가되는 이터러블의 길이\n",
    "d.extendleft([-2, -1, 0])\n",
    "print(\"extendleft([-2, -1, 0]) 후:\", d)\n",
    "#extendleft([-2, -1, 0]) 후: deque([0, -1, -2, 1, 2, 3, 4, 5, 7, 8, 9])\n",
    "\n",
    "# deque 뒤집기\n",
    "# reverse: O(n)\n",
    "d.reverse()\n",
    "print(\"reverse() 후:\", d) \n",
    "#reverse() 후: deque([9, 8, 7, 5, 4, 3, 2, 1, -2, -1, 0])\n",
    "\n",
    "# deque 내용 지우기\n",
    "# clear: O(n)\n",
    "d.clear()\n",
    "print(\"clear() 후:\", d) #clear() 후: deque([])\n",
    "\n",
    "# 최대 길이 제한 deque 생성\n",
    "limited_deque = deque(maxlen=3)\n",
    "limited_deque.extend([1, 2, 3, 4, 5])\n",
    "limited_deque.append(6)\n",
    "print(\"최대 길이가 3인 deque:\", limited_deque)\n",
    "#최대 길이가 3인 deque: deque([4, 5, 6], maxlen=3)"
   ]
  },
  {
   "cell_type": "code",
   "execution_count": 25,
   "metadata": {},
   "outputs": [
    {
     "name": "stdout",
     "output_type": "stream",
     "text": [
      "5\n"
     ]
    }
   ],
   "source": [
    "\n",
    "dict = {1:5}\n",
    "print(dict[1])\n"
   ]
  }
 ],
 "metadata": {
  "kernelspec": {
   "display_name": "Python 3",
   "language": "python",
   "name": "python3"
  },
  "language_info": {
   "codemirror_mode": {
    "name": "ipython",
    "version": 3
   },
   "file_extension": ".py",
   "mimetype": "text/x-python",
   "name": "python",
   "nbconvert_exporter": "python",
   "pygments_lexer": "ipython3",
   "version": "3.9.13"
  }
 },
 "nbformat": 4,
 "nbformat_minor": 2
}
