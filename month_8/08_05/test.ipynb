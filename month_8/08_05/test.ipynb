{
 "cells": [
  {
   "cell_type": "code",
   "execution_count": 9,
   "metadata": {},
   "outputs": [
    {
     "name": "stdout",
     "output_type": "stream",
     "text": [
      "abcabcdede\n",
      "10\n",
      "최소길이 :  10\n",
      "abcabc2de\n",
      "9\n",
      "최소길이 :  9\n",
      "2abcdede\n",
      "8\n",
      "최소길이 :  8\n",
      "abcabcdede\n",
      "10\n",
      "최소길이 :  8\n",
      "abcabcdede\n",
      "10\n",
      "최소길이 :  8\n"
     ]
    }
   ],
   "source": [
    "word = \"abcabcdede\"\n",
    "\n",
    "short_length=999999\n",
    "\n",
    "for index in range(1,len(word)//2+1): # 반복은 최대 절반이니까 \n",
    "    # print(index)\n",
    "    arr=[]\n",
    "    # print(new_word)\n",
    "    # split 별로 list 만들기.\n",
    "    prev_chunk = word[:index]  #첫번째 패턴\n",
    "    result_word=''              #결과 단어.\n",
    "    \n",
    "    for i in range(0,len(word),index):\n",
    "        \n",
    "        arr.append(word[i:i+index])        \n",
    "        # print(i,arr)\n",
    "    cnt=1\n",
    "    for j in range(1,len(arr)):\n",
    "        if prev_chunk == arr[j]:\n",
    "            cnt+=1\n",
    "        elif cnt > 1:\n",
    "            result_word += str(cnt)\n",
    "            result_word += prev_chunk\n",
    "            prev_chunk = arr[j]\n",
    "            cnt=1\n",
    "        else :\n",
    "            result_word += prev_chunk\n",
    "            prev_chunk = arr[j]\n",
    "    else:\n",
    "        if cnt >1:\n",
    "            result_word += str(cnt)\n",
    "            result_word += prev_chunk\n",
    "        else :\n",
    "            result_word += prev_chunk\n",
    "\n",
    "\n",
    "        # result_word += (str(cnt)+prev_chunk)\n",
    "        print(result_word)\n",
    "        print(len(result_word))\n",
    "        if len(result_word) < short_length:\n",
    "            short_length = len(result_word)\n",
    "        print(\"최소길이 : \",  short_length)\n",
    "\n",
    "        # 안 되면 문자열에 플러스로 그냥 붙여주기."
   ]
  }
 ],
 "metadata": {
  "kernelspec": {
   "display_name": "Python 3",
   "language": "python",
   "name": "python3"
  },
  "language_info": {
   "codemirror_mode": {
    "name": "ipython",
    "version": 3
   },
   "file_extension": ".py",
   "mimetype": "text/x-python",
   "name": "python",
   "nbconvert_exporter": "python",
   "pygments_lexer": "ipython3",
   "version": "3.9.13"
  }
 },
 "nbformat": 4,
 "nbformat_minor": 2
}
