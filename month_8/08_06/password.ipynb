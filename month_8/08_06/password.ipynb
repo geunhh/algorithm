{
 "cells": [
  {
   "cell_type": "code",
   "execution_count": 46,
   "metadata": {},
   "outputs": [
    {
     "name": "stdout",
     "output_type": "stream",
     "text": [
      "16 4100112380990844\n",
      "#1 4123\n"
     ]
    },
    {
     "ename": "ValueError",
     "evalue": "not enough values to unpack (expected 2, got 0)",
     "output_type": "error",
     "traceback": [
      "\u001b[1;31m---------------------------------------------------------------------------\u001b[0m",
      "\u001b[1;31mValueError\u001b[0m                                Traceback (most recent call last)",
      "Cell \u001b[1;32mIn[46], line 18\u001b[0m\n\u001b[0;32m     12\u001b[0m     \u001b[38;5;28;01mreturn\u001b[39;00m stack\n\u001b[0;32m     16\u001b[0m \u001b[38;5;28;01mfor\u001b[39;00m tc \u001b[38;5;129;01min\u001b[39;00m \u001b[38;5;28mrange\u001b[39m(\u001b[38;5;241m1\u001b[39m,\u001b[38;5;241m11\u001b[39m):\n\u001b[0;32m     17\u001b[0m     \u001b[38;5;66;03m# 변수 및 stack 만들기\u001b[39;00m\n\u001b[1;32m---> 18\u001b[0m     N, num_str \u001b[38;5;241m=\u001b[39m \u001b[38;5;28mmap\u001b[39m(\u001b[38;5;28mstr\u001b[39m,\u001b[38;5;28minput\u001b[39m()\u001b[38;5;241m.\u001b[39msplit())\n\u001b[0;32m     19\u001b[0m     \u001b[38;5;28mprint\u001b[39m(N, num_str)\n\u001b[0;32m     20\u001b[0m     stack \u001b[38;5;241m=\u001b[39m [\u001b[38;5;124m'\u001b[39m\u001b[38;5;124m0\u001b[39m\u001b[38;5;124m'\u001b[39m]\u001b[38;5;241m*\u001b[39m\u001b[38;5;28mint\u001b[39m(N)\n",
      "\u001b[1;31mValueError\u001b[0m: not enough values to unpack (expected 2, got 0)"
     ]
    }
   ],
   "source": [
    "\n",
    "def num_shrink(num_str):\n",
    "    global top\n",
    "    stack[top]=num_str[0]\n",
    "    for item in num_str[1:]:\n",
    "        # 시작부터 틀림\n",
    "        if stack[top] == item:\n",
    "            stack.pop(top)\n",
    "            top-=1\n",
    "        else:\n",
    "            top+=1\n",
    "            stack[top] = item\n",
    "    return stack\n",
    "        \n",
    "\n",
    "\n",
    "for tc in range(1,11):\n",
    "    # 변수 및 stack 만들기\n",
    "    N, num_str = map(str,input().split())\n",
    "    # print(N, num_str)\n",
    "    stack = ['0']*int(N)\n",
    "    top=0\n",
    "    result = num_shrink(num_str)\n",
    "    solution = ''.join(result for result in result if result !='0')\n",
    "    print(f'#{tc} {solution}')\n",
    "\n",
    "\n"
   ]
  }
 ],
 "metadata": {
  "kernelspec": {
   "display_name": "Python 3",
   "language": "python",
   "name": "python3"
  },
  "language_info": {
   "codemirror_mode": {
    "name": "ipython",
    "version": 3
   },
   "file_extension": ".py",
   "mimetype": "text/x-python",
   "name": "python",
   "nbconvert_exporter": "python",
   "pygments_lexer": "ipython3",
   "version": "3.9.13"
  }
 },
 "nbformat": 4,
 "nbformat_minor": 2
}
