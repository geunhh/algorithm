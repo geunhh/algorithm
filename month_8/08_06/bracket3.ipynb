{
 "cells": [
  {
   "cell_type": "markdown",
   "metadata": {},
   "source": [
    "강사님이 풀어주심.\n"
   ]
  },
  {
   "cell_type": "code",
   "execution_count": 6,
   "metadata": {},
   "outputs": [
    {
     "name": "stdout",
     "output_type": "stream",
     "text": [
      "1 1\n"
     ]
    }
   ],
   "source": [
    "br_pairs = {')':'(', '}':'{'}\n",
    "for tc in range(1, int(input())+1) :\n",
    "    brackets = input().strip()\n",
    "    stack = []\n",
    "    result = 1\n",
    "    for br in brackets :\n",
    "        #1. 여는 괄호일 경우 stack에 저장\n",
    "        if br in br_pairs.values() :\n",
    "            stack.append(br)\n",
    "        #2. 닫는 괄호 일경우 짝 매칭되는지 확인\n",
    "        elif br in br_pairs :\n",
    "            if stack and stack[-1]==br_pairs[br] :\n",
    "                stack.pop()\n",
    "            #3. 2의 조건이 맞지 않는 경우\n",
    "            else :\n",
    "                result = -1\n",
    "                break\n",
    "    #4. stack에 값이 남아 있는 경우\n",
    "    if stack :\n",
    "        result = -1\n",
    "\n",
    "    print(f\"{tc}\", result)"
   ]
  },
  {
   "cell_type": "code",
   "execution_count": 16,
   "metadata": {},
   "outputs": [
    {
     "name": "stdout",
     "output_type": "stream",
     "text": [
      "1 -1\n"
     ]
    }
   ],
   "source": [
    "br_pairs = {')':'(', '}':'{'}\n",
    "for tc in range(1, int(input())+1) :\n",
    "    brackets = input().strip()\n",
    "    stack = []\n",
    "    result = 1\n",
    "    for br in brackets :\n",
    "        #1. 여는 괄호일 경우 stack에 저장\n",
    "        if br in br_pairs.values() :\n",
    "            stack.append(br)\n",
    "        #2. 닫는 괄호 일경우 짝 매칭되는지 확인\n",
    "        elif br in br_pairs :\n",
    "            if stack and stack[-1]==br_pairs[br] :\n",
    "                stack.pop()\n",
    "            #3. 2의 조건이 맞지 않는 경우\n",
    "            else :\n",
    "                result = -1\n",
    "                break\n",
    "    #4. stack에 값이 남아 있는 경우\n",
    "    if stack :\n",
    "        result = -1\n",
    "\n",
    "    print(f\"{tc}\", result)"
   ]
  },
  {
   "cell_type": "code",
   "execution_count": 15,
   "metadata": {},
   "outputs": [
    {
     "name": "stdout",
     "output_type": "stream",
     "text": [
      "1 -1\n"
     ]
    }
   ],
   "source": [
    "br_pairs = {')':'(', '}':'{'}\n",
    "def push(stack, item):\n",
    "    global top\n",
    "    top+=1\n",
    "    if top == len(stack):\n",
    "        top = len(stack)-1\n",
    "        print('overflow')\n",
    "    else :\n",
    "        stack[top]=item\n",
    "\n",
    "def pop(stack):\n",
    "    global top\n",
    "    if top == -1:\n",
    "        return None\n",
    "    else:\n",
    "        top -=1\n",
    "        return stack[top+1]\n",
    "\n",
    "\n",
    "for tc in range(1, int(input())+1) :\n",
    "    brackets = input().strip()\n",
    "    size = len(brackets)\n",
    "    stack = [0]*size\n",
    "    top=-1\n",
    "    result = 1\n",
    "    for br in brackets :\n",
    "        #1. 여는 괄호일 경우 stack에 저장\n",
    "        if br in br_pairs.values() :\n",
    "            push(stack,br)\n",
    "        #2. 닫는 괄호 일경우 짝 매칭되는지 확인\n",
    "        elif br in br_pairs :\n",
    "            if stack and stack[top]==br_pairs[br] :\n",
    "                pop(stack)\n",
    "            #3. 2의 조건이 맞지 않는 경우\n",
    "            else :\n",
    "                result = -1\n",
    "                break\n",
    "    #4. stack에 값이 남아 있는 경우\n",
    "    if stack :\n",
    "        result = -1\n",
    "\n",
    "    print(f\"{tc}\", result)"
   ]
  },
  {
   "cell_type": "markdown",
   "metadata": {},
   "source": []
  },
  {
   "cell_type": "code",
   "execution_count": 4,
   "metadata": {},
   "outputs": [
    {
     "name": "stdout",
     "output_type": "stream",
     "text": [
      "1 -1\n"
     ]
    }
   ],
   "source": [
    "for tc in range(1, int(input())+1) :\n",
    "    brackets = input().strip()\n",
    "    stack = []\n",
    "    result = 1\n",
    "    for br in brackets :\n",
    "        #1. 여는 괄호일 경우 stack에 저장\n",
    "        if br == \"(\" :\n",
    "            stack.append(br)\n",
    "        #2. 닫는 괄호 일경우 짝 매칭되는지 확인\n",
    "        elif br == \")\" and stack and stack[-1]==\"(\" :\n",
    "            stack.pop()\n",
    "        #3. 2의 조건이 맞지 않는 경우\n",
    "        else :\n",
    "            result = -1\n",
    "            break\n",
    "    #4. stack에 값이 남아 있는 경우\n",
    "    if stack :\n",
    "        result = -1\n",
    "\n",
    "    print(f\"{tc}\", result)"
   ]
  }
 ],
 "metadata": {
  "kernelspec": {
   "display_name": "Python 3",
   "language": "python",
   "name": "python3"
  },
  "language_info": {
   "codemirror_mode": {
    "name": "ipython",
    "version": 3
   },
   "file_extension": ".py",
   "mimetype": "text/x-python",
   "name": "python",
   "nbconvert_exporter": "python",
   "pygments_lexer": "ipython3",
   "version": "3.9.13"
  }
 },
 "nbformat": 4,
 "nbformat_minor": 2
}
