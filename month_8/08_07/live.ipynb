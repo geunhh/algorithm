{
 "cells": [
  {
   "cell_type": "markdown",
   "metadata": {},
   "source": [
    "# 메모이제이션"
   ]
  },
  {
   "cell_type": "code",
   "execution_count": 15,
   "metadata": {},
   "outputs": [
    {
     "name": "stdout",
     "output_type": "stream",
     "text": [
      "354224848179261915075\n",
      "354224848179261915075\n"
     ]
    }
   ],
   "source": [
    "def fibo(n): # 메모이제이션 활용\n",
    "    if n>= 2 and memo[n] ==0:\n",
    "        memo[n] = fibo(n-1) + fibo(n-2)\n",
    "    return memo[n]\n",
    "\n",
    "def fibo1(n): # 재귀함수 활용\n",
    "    if n<2:\n",
    "        return n\n",
    "    else :\n",
    "        return fibo(n-1) + fibo(n-2)\n",
    "    \n",
    "n=100\n",
    "memo = [0] * (n+1)\n",
    "memo[0] = 0\n",
    "memo[1] = 1\n",
    "print(fibo(n))\n",
    "print(fibo1(n))"
   ]
  },
  {
   "cell_type": "markdown",
   "metadata": {},
   "source": [
    "# DFS"
   ]
  },
  {
   "cell_type": "code",
   "execution_count": 20,
   "metadata": {},
   "outputs": [
    {
     "name": "stdout",
     "output_type": "stream",
     "text": [
      "[[], [2, 3], [1, 4, 5], [1, 7], [2, 6], [2, 6], [4, 5, 7], [6, 3]]\n"
     ]
    },
    {
     "ename": "ValueError",
     "evalue": "invalid literal for int() with base 10: ''",
     "output_type": "error",
     "traceback": [
      "\u001b[1;31m---------------------------------------------------------------------------\u001b[0m",
      "\u001b[1;31mValueError\u001b[0m                                Traceback (most recent call last)",
      "Cell \u001b[1;32mIn[20], line 55\u001b[0m\n\u001b[0;32m     48\u001b[0m             \u001b[38;5;28;01melse\u001b[39;00m:                   \u001b[38;5;66;03m# 되돌아 갈 곳이 없다? --> 탐색 종료\u001b[39;00m\n\u001b[0;32m     49\u001b[0m                 \u001b[38;5;28;01mbreak\u001b[39;00m               \u001b[38;5;66;03m# while True에 대한 break.\u001b[39;00m\n\u001b[1;32m---> 55\u001b[0m T \u001b[38;5;241m=\u001b[39m \u001b[38;5;28;43mint\u001b[39;49m\u001b[43m(\u001b[49m\u001b[38;5;28;43minput\u001b[39;49m\u001b[43m(\u001b[49m\u001b[43m)\u001b[49m\u001b[43m)\u001b[49m\n\u001b[0;32m     56\u001b[0m \u001b[38;5;28;01mfor\u001b[39;00m tc \u001b[38;5;129;01min\u001b[39;00m \u001b[38;5;28mrange\u001b[39m(\u001b[38;5;241m1\u001b[39m,T\u001b[38;5;241m+\u001b[39m\u001b[38;5;241m1\u001b[39m):\n\u001b[0;32m     57\u001b[0m     V,E \u001b[38;5;241m=\u001b[39m \u001b[38;5;28mmap\u001b[39m(\u001b[38;5;28mint\u001b[39m, \u001b[38;5;28minput\u001b[39m()\u001b[38;5;241m.\u001b[39msplit())\n",
      "\u001b[1;31mValueError\u001b[0m: invalid literal for int() with base 10: ''"
     ]
    }
   ],
   "source": [
    "'''\n",
    "T\n",
    "7 8\n",
    "1 2 1 3 2 4 2 5 4 6 5 6 6 7 3 7 -> 두 개씩 가져와야 함.\n",
    "'''\n",
    "def DFS(s,V):\n",
    "    visited =[0]*(V+1) #방문한 정점 표시.\n",
    "    # 스택 생성\n",
    "    stack = []\n",
    "    \n",
    "\n",
    "T = int(input())\n",
    "for tc in range(1,T+1):\n",
    "    V,E = map(int, input().split())\n",
    "\n",
    "    adjl = [[] for _ in range(V+1)]\n",
    "    arr = list(map(int, input().split()))\n",
    "    # 인접점 만들기.\n",
    "    for i in range(E):\n",
    "        v1, v2 = arr[i*2], arr[i*2+1]\n",
    "        adjl[v1].append(v2)\n",
    "        adjl[v2].append(v1)\n",
    "    print(adjl)\n",
    "'''\n",
    "T\n",
    "7 8\n",
    "1 2 1 3 2 4 2 5 4 6 5 6 6 7 3 7 -> 두 개씩 가져와야 함.\n",
    "'''\n",
    "def DFS(s,V):           # s 시작정점, v 정점 개수(1번부터인 정점의 마지막 정점)\n",
    "    visited =[0]*(V+1)  # 방문한 정점 표시.\n",
    "    stack = []          # 스택 생성\n",
    "    visited[s] = 1      # 시작 정점 방문 표시\n",
    "    v = s\n",
    "    while True:\n",
    "        # 갈림길탐색\n",
    "        for w in adjl[v]:           # v 에 인접하고, 방문 안 한 w가 있으면,\n",
    "            if visited[w]==0:\n",
    "                stack.append(v)     # push(v) 현재 정점을 push하고, \n",
    "                v = w               # w에 방문했음 -> 갱신(w가 이제 현재 위치가 되는거지)\n",
    "                print(v)\n",
    "                visited[w]          # 방문 목록 갱신\n",
    "                break               # v부터 다시 탐색. -> 갈림길 탐색 종료.\n",
    "        \n",
    "        else :                      # 남은 인접정점이 없어서, break가 걸리지 않으면??\n",
    "            if stack:               # 이전 갈림길을 스택에서 꺼내서..\n",
    "                                        # top을 쓰면, if Top > -1:\n",
    "                v=stack.pop()       # 꺼내줌.\n",
    "            else:                   # 되돌아 갈 곳이 없다? --> 탐색 종료\n",
    "                break               # while True에 대한 break.\n",
    "                \n",
    "\n",
    "        \n",
    "\n",
    "\n",
    "T = int(input())\n",
    "for tc in range(1,T+1):\n",
    "    V,E = map(int, input().split())\n",
    "\n",
    "    adjl = [[] for _ in range(V+1)]\n",
    "    arr = list(map(int, input().split()))\n",
    "    # 인접점 만들기.\n",
    "    for i in range(E):\n",
    "        v1, v2 = arr[i*2], arr[i*2+1]\n",
    "        adjl[v1].append(v2)\n",
    "        adjl[v2].append(v1)\n",
    "    print(adjl)\n",
    "\n",
    "    DFS(1,V)\n"
   ]
  },
  {
   "cell_type": "code",
   "execution_count": 26,
   "metadata": {},
   "outputs": [
    {
     "name": "stdout",
     "output_type": "stream",
     "text": [
      "1 2\n",
      "1 3\n",
      "2 4\n",
      "2 5\n",
      "4 6\n",
      "5 6\n",
      "6 7\n",
      "3 7\n",
      "[[], [2, 3], [1, 4, 5], [1, 7], [2, 6], [2, 6], [4, 5, 7], [6, 3]]\n",
      "2\n",
      "4\n",
      "6\n",
      "5\n",
      "7\n",
      "3\n"
     ]
    }
   ],
   "source": [
    "def DFS(s,V):           # s 시작정점, v 정점 개수(1번부터인 정점의 마지막 정점)\n",
    "    visited =[0]*(V+1)  # 방문한 정점 표시.\n",
    "    stack = []          # 스택 생성\n",
    "    visited[s] = 1      # 시작 정점 방문 표시\n",
    "    v = s\n",
    "    while True:\n",
    "        # 갈림길탐색\n",
    "        for w in adjl[v]:           # v 에 인접하고, 방문 안 한 w가 있으면,\n",
    "            if visited[w]==0:\n",
    "                stack.append(v)     # push(v) 현재 정점을 push하고, \n",
    "                v = w               # w에 방문했음 -> 갱신(w가 이제 현재 위치가 되는거지)\n",
    "                print(v)\n",
    "                visited[w] =1        # 방문 목록 갱신\n",
    "                break               # v부터 다시 탐색. -> 갈림길 탐색 종료.\n",
    "        \n",
    "        else :                      # 남은 인접정점이 없어서, break가 걸리지 않으면??\n",
    "            if stack:               # 이전 갈림길을 스택에서 꺼내서..\n",
    "                                        # top을 쓰면, if Top > -1:\n",
    "                v=stack.pop()       # 꺼내줌.\n",
    "            else:                   # 되돌아 갈 곳이 없다? --> 탐색 종료\n",
    "                break               # while True에 대한 break.\n",
    "                \n",
    "\n",
    "        \n",
    "\n",
    "\n",
    "T = int(input())\n",
    "for tc in range(1,T+1):\n",
    "    V,E = map(int, input().split())\n",
    "\n",
    "    adjl = [[] for _ in range(V+1)]\n",
    "    arr = list(map(int, input().split()))\n",
    "    # 인접점(리스트) 만들기.\n",
    "    for i in range(E):\n",
    "        v1, v2 = arr[i*2], arr[i*2+1]\n",
    "        print(v1,v2)\n",
    "        adjl[v1].append(v2)\n",
    "        adjl[v2].append(v1)\n",
    "    print(adjl)\n",
    "\n",
    "    DFS(1,V)\n",
    "    "
   ]
  }
 ],
 "metadata": {
  "kernelspec": {
   "display_name": "Python 3",
   "language": "python",
   "name": "python3"
  },
  "language_info": {
   "codemirror_mode": {
    "name": "ipython",
    "version": 3
   },
   "file_extension": ".py",
   "mimetype": "text/x-python",
   "name": "python",
   "nbconvert_exporter": "python",
   "pygments_lexer": "ipython3",
   "version": "3.9.13"
  }
 },
 "nbformat": 4,
 "nbformat_minor": 2
}
