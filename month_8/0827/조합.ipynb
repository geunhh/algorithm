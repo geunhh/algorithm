{
 "cells": [
  {
   "cell_type": "code",
   "execution_count": 1,
   "metadata": {},
   "outputs": [],
   "source": [
    "# 조합\n",
    "# ex) arr = [A,B,C,D,E] , R=3 (다섯개 아이템 중 3개 선택)\n",
    "# A B C\n",
    "# A B D\n",
    "# A B E \n",
    "# A C D \n",
    "# A C E \n",
    "# A D E\n",
    "# B C D \n",
    "# B C E \n",
    "# B D E \n",
    "# C D E "
   ]
  },
  {
   "cell_type": "code",
   "execution_count": 11,
   "metadata": {},
   "outputs": [
    {
     "name": "stdout",
     "output_type": "stream",
     "text": [
      "['A', 'B', 'C']\n",
      "['A', 'B', 'D']\n",
      "['A', 'B', 'E']\n",
      "['A', 'C', 'D']\n",
      "['A', 'C', 'E']\n",
      "['A', 'D', 'E']\n",
      "['B', 'C', 'D']\n",
      "['B', 'C', 'E']\n",
      "['B', 'D', 'E']\n",
      "['C', 'D', 'E']\n"
     ]
    }
   ],
   "source": [
    "def comb(idx, start):\n",
    "    \"\"\"\n",
    "    주어진 배열에서 R개의 요소로 이루어진 모든 조합을 생성하는 재귀함수\n",
    "    \n",
    "    Args:\n",
    "        idx (int): 현재 선택 중인 요소의 인덱스 (0 ~ R-1까지)\n",
    "        start (int)): 선택을 시작할 배열의 인덱스\n",
    "    \"\"\"\n",
    "\n",
    "    # 종료 조건 : R개를 모든 선택한 경우\n",
    "    if idx == R:\n",
    "        print(path)\n",
    "        return\n",
    "    \n",
    "    # 유도 부분\n",
    "    for j in range(start, N):\n",
    "    # for j in range(start, N-R+idx+1):\n",
    "        path[idx] = arr[j]\n",
    "        comb(idx+1,j+1)\n",
    "\n",
    "\n",
    "arr = ['A','B','C','D','E']\n",
    "N = len(arr)\n",
    "R = 3\n",
    "path = [0]*R\n",
    "comb(0,0)"
   ]
  },
  {
   "cell_type": "code",
   "execution_count": 17,
   "metadata": {},
   "outputs": [
    {
     "name": "stdout",
     "output_type": "stream",
     "text": [
      "['A', 'B', 'C']\n",
      "['A', 'B', 'D']\n",
      "['A', 'B', 'E']\n",
      "['A', 'C', 'D']\n",
      "['A', 'C', 'E']\n",
      "['A', 'D', 'E']\n",
      "['B', 'C', 'D']\n",
      "['B', 'C', 'E']\n",
      "['B', 'D', 'E']\n",
      "['C', 'D', 'E']\n"
     ]
    }
   ],
   "source": [
    "def comb(idx, start):\n",
    "    if idx == R:\n",
    "        print(arr[:R])\n",
    "        return\n",
    "    \n",
    "    # 유도 부분\n",
    "    # for j in range(start, N):\n",
    "    for j in range(start, N-R+idx+1):\n",
    "        arr[idx],arr[j] = arr[j],arr[idx]\n",
    "        comb(idx+1,j+1)\n",
    "        arr[idx],arr[j] = arr[j],arr[idx]\n",
    "\n",
    "\n",
    "arr = ['A','B','C','D','E']\n",
    "N = len(arr)\n",
    "R = 3\n",
    "comb(0,0)"
   ]
  }
 ],
 "metadata": {
  "kernelspec": {
   "display_name": "Python 3",
   "language": "python",
   "name": "python3"
  },
  "language_info": {
   "codemirror_mode": {
    "name": "ipython",
    "version": 3
   },
   "file_extension": ".py",
   "mimetype": "text/x-python",
   "name": "python",
   "nbconvert_exporter": "python",
   "pygments_lexer": "ipython3",
   "version": "3.9.13"
  }
 },
 "nbformat": 4,
 "nbformat_minor": 2
}
