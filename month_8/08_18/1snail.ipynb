{
 "cells": [
  {
   "cell_type": "code",
   "execution_count": 3,
   "metadata": {},
   "outputs": [
    {
     "name": "stdout",
     "output_type": "stream",
     "text": [
      "9 64\n"
     ]
    }
   ],
   "source": [
    "\n",
    "C,R = map(int,input().split())\n",
    "find_num = int(input())\n",
    "\n",
    "zero_matrix = [[0]*C for _ in range(R)]\n",
    "r,c=R-1,0\n",
    "num=1\n",
    "dir = [[-1, 0], [0, 1], [1, 0], [0,-1]]\n",
    "dir_i = 0\n",
    "while num <= C*R:\n",
    "    if num==find_num:\n",
    "        print(c+1,R-r)\n",
    "        break\n",
    "\n",
    "    zero_matrix[r][c] = num\n",
    "    num +=1\n",
    "    \n",
    "    # 다음 좌표 계산\n",
    "\n",
    "    next_r = r + dir[dir_i][0]\n",
    "    next_c = c + dir[dir_i][1]\n",
    "\n",
    "    # 이미 채워졌거나 벽인 경우\n",
    "    if not (0 <= next_r < R and 0 <= next_c<C and zero_matrix[next_r][next_c] == 0):\n",
    "        dir_i = (dir_i +1) % 4   # 5가 되면 1로 바꾸겠다.\n",
    "        next_r = r+dir[dir_i][0]\n",
    "        next_c = c+dir[dir_i][1]\n",
    "\n",
    "    r,c = next_r,next_c\n",
    "else:\n",
    "    print(0)\n"
   ]
  },
  {
   "cell_type": "code",
   "execution_count": 25,
   "metadata": {},
   "outputs": [
    {
     "name": "stdout",
     "output_type": "stream",
     "text": [
      "[1, 16, 15, 14, 13]\n",
      "[2, 17, 24, 23, 12]\n",
      "[3, 18, 25, 22, 11]\n",
      "[4, 19, 20, 21, 10]\n",
      "[5, 6, 7, 8, 9]\n"
     ]
    }
   ],
   "source": [
    "N= 5\n",
    "\n",
    "matrix = [[0]*N for _ in range(N)]\n",
    "i,j=0,0\n",
    "\n",
    "num =1\n",
    "dir = [[1,0],[0,1],[-1,0],[0,-1]]\n",
    "dir_index = 0\n",
    "\n",
    "while num <= N*N:\n",
    "\n",
    "    matrix[i][j] = num\n",
    "    num +=1\n",
    "\n",
    "    # 다음 좌표\n",
    "    next_i = i+dir[dir_index][0]\n",
    "    next_j = j+dir[dir_index][1]\n",
    "\n",
    "    if not (0<=next_i<N and 0<=next_j<N and matrix[next_i][next_j]==0):\n",
    "        dir_index = (dir_index+1)%4\n",
    "        next_i = i+dir[dir_index][0]\n",
    "        next_j = j+dir[dir_index][1]\n",
    "    \n",
    "    i = next_i\n",
    "    j = next_j\n",
    "\n",
    "for row in matrix:\n",
    "    print(row)"
   ]
  }
 ],
 "metadata": {
  "kernelspec": {
   "display_name": "Python 3",
   "language": "python",
   "name": "python3"
  },
  "language_info": {
   "codemirror_mode": {
    "name": "ipython",
    "version": 3
   },
   "file_extension": ".py",
   "mimetype": "text/x-python",
   "name": "python",
   "nbconvert_exporter": "python",
   "pygments_lexer": "ipython3",
   "version": "3.12.3"
  }
 },
 "nbformat": 4,
 "nbformat_minor": 2
}
