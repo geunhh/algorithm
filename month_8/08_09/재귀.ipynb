{
 "cells": [
  {
   "cell_type": "code",
   "execution_count": null,
   "metadata": {},
   "outputs": [],
   "source": []
  },
  {
   "cell_type": "code",
   "execution_count": null,
   "metadata": {},
   "outputs": [],
   "source": []
  },
  {
   "cell_type": "code",
   "execution_count": 2,
   "metadata": {},
   "outputs": [
    {
     "name": "stdout",
     "output_type": "stream",
     "text": [
      "60\n"
     ]
    }
   ],
   "source": [
    "# 리스트 요소 더하기\n",
    "nums = [10,20,30]\n",
    "N = len(nums)\n",
    "\n",
    "def recur(idx, N):\n",
    "    # 종료 조건\n",
    "    if idx == N-1:\n",
    "        return nums[-1]\n",
    "\n",
    "\n",
    "    # 현재 요소 + 다음 요소를 위한 재귀 처리\n",
    "    return nums[idx] + recur(idx+1,N)\n",
    "\n",
    "print(recur(0,N))\n",
    "# recur(0,N)\n",
    "# nums[0] + recur(1,N)\n",
    "# nums[0] + (nums[1] + recur(2,N))\n",
    "# nums[0] + nums[1] + (nums[-1])\n",
    "#         \n"
   ]
  },
  {
   "cell_type": "code",
   "execution_count": 5,
   "metadata": {},
   "outputs": [
    {
     "name": "stdout",
     "output_type": "stream",
     "text": [
      "60\n"
     ]
    }
   ],
   "source": [
    "# 리스트 요소 더하기 (global 변수 사용)\n",
    "nums = [10,20,30]\n",
    "N = len(nums)\n",
    "\n",
    "def recur(idx, N):\n",
    "    global result\n",
    "    result += nums[idx]\n",
    "    # 종료 조건\n",
    "    if idx == N-1:\n",
    "        return \n",
    "    recur(idx+1,N)\n",
    "\n",
    "\n",
    "result = 0\n",
    "\n",
    "\n",
    "recur(0,N)\n",
    "print(result)"
   ]
  },
  {
   "cell_type": "code",
   "execution_count": 10,
   "metadata": {},
   "outputs": [
    {
     "data": {
      "text/plain": [
       "-1"
      ]
     },
     "execution_count": 10,
     "metadata": {},
     "output_type": "execute_result"
    }
   ],
   "source": [
    "# 리스트 요소 탐색\n",
    "def recur(idx,N,target):\n",
    "    \n",
    "    #찾은 경우\n",
    "    if idx == N:\n",
    "        return -1\n",
    "    if nums[idx] == target:\n",
    "        return 1\n",
    "    \n",
    "    return recur(idx+1,N,target)\n",
    "\n",
    "\n",
    "nums = [10,20,55]\n",
    "N = len(nums)\n",
    "target = 88\n",
    "\n",
    "recur(0,N,target)\n",
    "\n"
   ]
  },
  {
   "cell_type": "markdown",
   "metadata": {},
   "source": [
    "배열은 global 안 써도 되는 이유.?\n",
    "- 주소를 참고하기 때문. -> 타고타고.."
   ]
  },
  {
   "cell_type": "code",
   "execution_count": 14,
   "metadata": {},
   "outputs": [
    {
     "name": "stdout",
     "output_type": "stream",
     "text": [
      "1\n"
     ]
    }
   ],
   "source": [
    "# 리스트 요소 탐색 (glboal)\n",
    "def recur(idx,N,target):\n",
    "    global result\n",
    "    #찾은 경우\n",
    "    if idx == N:\n",
    "        return \n",
    "    if nums[idx] == target:\n",
    "        result=1\n",
    "        return\n",
    "    \n",
    "    if result != 1 :\n",
    "        recur(idx+1,N,target)\n",
    "    \n",
    "\n",
    "result = -1\n",
    "nums = [10,20,55]\n",
    "N = len(nums)\n",
    "target = 55\n",
    "\n",
    "recur(0,N,target)\n",
    "print(result)\n",
    "\n"
   ]
  },
  {
   "cell_type": "code",
   "execution_count": 24,
   "metadata": {},
   "outputs": [
    {
     "name": "stdout",
     "output_type": "stream",
     "text": [
      "2\n",
      "1 \n",
      "1 1 \n",
      "1 2 1 \n",
      "1 3 3 1 \n",
      "1 4 6 4 1 \n"
     ]
    }
   ],
   "source": [
    "### 파스칼 삼각형 재귀로 풀기.\n",
    "\n",
    "def pascal_triangle(row, col):\n",
    "    '''\n",
    "    row, col 위치에서의 파스칼 삼각형 값을 얻는 함수\n",
    "\n",
    "    Args:\n",
    "    row (int) : 행 (0부터 시작)\n",
    "    col (int) : 열 (0부터 시작)\n",
    "\n",
    "    Return:\n",
    "    int: 파스칼의 삼각형에서 해당 위치 값\n",
    "    '''    \n",
    "\n",
    "    #기저 조건\n",
    "    #삼각형의 가장자리일 경우 1 반환\n",
    "    if col ==0 or col == row:\n",
    "        return 1\n",
    "    return pascal_triangle(row-1,col-1) + pascal_triangle(row-1,col)\n",
    "\n",
    "# 테스트\n",
    "print(pascal_triangle(2,1))\n",
    "N = 5\n",
    "for i in range(N):\n",
    "    for j in range(i+1):\n",
    "        print(pascal_triangle(i,j),end= ' ')\n",
    "    print()\n"
   ]
  },
  {
   "cell_type": "markdown",
   "metadata": {},
   "source": [
    "근데 위 친구는 중복 계산이 계속 됨. \n",
    "+ pascal의 3,2를 얻으려고 하면, pascl의 (2,1) (2,2)가 필요함 -> \n",
    "+ 3,1을 얻으려고해도 (2,0),(2,1) 필요. \n",
    "+ 2.1은 이미 계산함. 그러니까 메모이제이션을 통해 이런 과정을 줄여줄거임."
   ]
  },
  {
   "cell_type": "code",
   "execution_count": 26,
   "metadata": {},
   "outputs": [
    {
     "name": "stdout",
     "output_type": "stream",
     "text": [
      "2\n",
      "1 \n",
      "1 1 \n",
      "1 2 1 \n",
      "1 3 3 1 \n",
      "1 4 6 4 1 \n",
      "\n",
      "{(2, 1): 2, (3, 1): 3, (3, 2): 3, (4, 1): 4, (4, 2): 6, (4, 3): 4}\n"
     ]
    }
   ],
   "source": [
    "### 파스칼 삼각형 재귀로 풀기. + 메모이제이션 feat. dictionary\n",
    "\n",
    "def pascal_triangle(row, col):\n",
    "    if col ==0 or col == row:\n",
    "        return 1\n",
    "    # 값이 처리된 경우 바로 반환\n",
    "    if (row,col) in pascal_dict:\n",
    "        return pascal_dict[(row,col)]\n",
    "    \n",
    "    # 기존에 dict에 저장되어 있지 않으면, 저장해줌.\n",
    "    pascal_dict[(row,col)] = pascal_triangle(row-1,col-1) + pascal_triangle(row-1,col)\n",
    "    \n",
    "    # 그리고 반환.\n",
    "    return pascal_dict[(row,col)]\n",
    "\n",
    "pascal_dict = {} # 여기에 값 저장할거임. 메모이메모이모이모이 \n",
    "\n",
    "\n",
    "# 테스트\n",
    "print(pascal_triangle(2,1))\n",
    "N = 5\n",
    "for i in range(N):\n",
    "    for j in range(i+1):\n",
    "        print(pascal_triangle(i,j),end= ' ')\n",
    "    print()\n",
    "print()\n",
    "print(pascal_dict)"
   ]
  },
  {
   "cell_type": "markdown",
   "metadata": {},
   "source": [
    "# 이젠 부분집합\n",
    "+ N개의 요소에 대한 부분 집합을 0과 1로 표현\n",
    "+ 0이면 해당 요소 사용을 안함, 1 사용함\n",
    "+ ex) N=3, [0,0,0], [0,0,1], .... [1,1,1]"
   ]
  },
  {
   "cell_type": "code",
   "execution_count": 36,
   "metadata": {},
   "outputs": [
    {
     "name": "stdout",
     "output_type": "stream",
     "text": [
      "[0, 0, 0]\n",
      "subset: [0, 0, 1]\n",
      "[0, 0, 1]\n",
      "subset: [0, 1, 1]\n",
      "[0, 1, 0]\n",
      "subset: [0, 1, 1]\n",
      "[0, 1, 1]\n",
      "subset: [1, 1, 1]\n",
      "[1, 0, 0]\n",
      "subset: [1, 0, 1]\n",
      "[1, 0, 1]\n",
      "subset: [1, 1, 1]\n",
      "[1, 1, 0]\n",
      "subset: [1, 1, 1]\n",
      "[1, 1, 1]\n"
     ]
    }
   ],
   "source": [
    "\n",
    "def recur(idx,N):\n",
    "    #종료조건\n",
    "    if idx == N:\n",
    "        print(subset)\n",
    "        return\n",
    "    \n",
    "    # # 현재 요소를 사용할지 말지\n",
    "    # for j in range(2):\n",
    "    #     subset[idx] = j   # 0 or 1\n",
    "    #     recur(idx+1, N)\n",
    "\n",
    "    # 현재 요소를 사용한 가지\n",
    "    subset[idx] = 0\n",
    "    recur(idx+1,N)\n",
    "    # 사용하지 않은 가지\n",
    "    subset[idx] = 1\n",
    "    print('subset:',subset)\n",
    "\n",
    "    recur(idx+1,N)\n",
    "\n",
    "\n",
    "\n",
    "N=3\n",
    "subset = [0]*N\n",
    "result = recur(0,N)"
   ]
  },
  {
   "cell_type": "code",
   "execution_count": 96,
   "metadata": {},
   "outputs": [
    {
     "name": "stdout",
     "output_type": "stream",
     "text": [
      "6\n"
     ]
    }
   ],
   "source": [
    "def recur(idx, cur_sum, N):\n",
    "    # 현재 인덱스까지 더한 값.\n",
    "    # 종료 조건\n",
    "    if idx ==N:\n",
    "        if cur_sum == target:\n",
    "            return 1 # 1 증가된 값이 return ___ + ( +1 ) 로 들어갈거임\n",
    "        else : \n",
    "            return 0\n",
    "    \n",
    "    # 가지치기\n",
    "    # 현재 인덱스부터 남아있는 모든 값을 절대값 취해서 더했을 때 그 값이 target값 보다 작은 경우\n",
    "    # 그런 경우는 탐색 중지.\n",
    "    \n",
    "    #  if cur_sum+sum(nums[idx:]) < target:\n",
    "    if cur_sum+sum(abs(n) for n in nums[idx:]) < target : # 요소에 음수가 있는 경우에는 이렇게 처리.\n",
    "        return 0\n",
    "        \n",
    "    # 다음 인덱스 처리\n",
    "    cnt1 = recur(idx+1,cur_sum + nums[idx],N)   # 더한 경우\n",
    "    cnt2 = recur(idx+1,cur_sum - nums[idx],N)   # 뺀 경우\n",
    "    cnt3 = recur(idx+1,cur_sum,N)               # 현재 값을 사용하지 않은 경우\n",
    "    return cnt1 +cnt2 + cnt3\n",
    "    \n",
    "    \n",
    "\n",
    "cnt=0\n",
    "nums = [4,1,2,1]\n",
    "target = 4\n",
    "cur_sum=0\n",
    "N = len(nums)\n",
    "print(recur(0,cur_sum,N))\n",
    "\n",
    "\n"
   ]
  },
  {
   "cell_type": "code",
   "execution_count": 49,
   "metadata": {},
   "outputs": [
    {
     "name": "stdout",
     "output_type": "stream",
     "text": [
      "6\n"
     ]
    }
   ],
   "source": [
    "def recur(idx, cur_sum, N):\n",
    "    # 현재 인덱스까지 더한 값.\n",
    "    # 종료 조건\n",
    "    if idx ==N:\n",
    "        if cur_sum == target:\n",
    "            global result\n",
    "            result +=1\n",
    "            return         \n",
    "        else : \n",
    "            return \n",
    "    \n",
    "    # 가지치기\n",
    "    # 현재 인덱스부터 남아있는 모든 값을 절대값 취해서 더했을 때 그 값이 target값 보다 작은 경우\n",
    "    # 그런 경우는 탐색 중지.\n",
    "    \n",
    "    #  if cur_sum+sum(nums[idx:]) < target:\n",
    "    if cur_sum+sum(abs(n) for n in nums[idx:]) < target : # 요소에 음수가 있는 경우에는 이렇게 처리.\n",
    "        return \n",
    "        \n",
    "    # 다음 인덱스 처리\n",
    "    recur(idx+1,cur_sum + nums[idx],N)   # 더한 경우\n",
    "    recur(idx+1,cur_sum - nums[idx],N)   # 뺀 경우\n",
    "    recur(idx+1,cur_sum,N)               # 현재 값을 사용하지 않은 경우\n",
    "    \n",
    "\n",
    "cnt=0\n",
    "result =0\n",
    "nums = [4,1,2,1]\n",
    "target = 4\n",
    "cur_sum=0\n",
    "N = len(nums)\n",
    "recur(0,cur_sum,N)\n",
    "print(result)\n",
    "\n",
    "\n"
   ]
  },
  {
   "cell_type": "code",
   "execution_count": 74,
   "metadata": {},
   "outputs": [
    {
     "name": "stdout",
     "output_type": "stream",
     "text": [
      "[]\n",
      "['참외']\n",
      "['수박']\n",
      "['수박', '참외']\n",
      "['딸기']\n",
      "['딸기', '참외']\n",
      "['딸기', '수박']\n",
      "['딸기', '수박', '참외']\n",
      "None\n"
     ]
    }
   ],
   "source": [
    "\n",
    "def recur(idx,N):\n",
    "    #종료조건\n",
    "    if idx == N:\n",
    "        sub_list=[]\n",
    "        for i, used in enumerate(subset):\n",
    "            if used :\n",
    "                sub_list.append(fruits[i])\n",
    "        print(sub_list)        \n",
    "\n",
    "        return sub_list\n",
    "    \n",
    "    # # 현재 요소를 사용할지 말지\n",
    "    # for j in range(2):\n",
    "    #     subset[idx] = j   # 0 or 1\n",
    "    #     recur(idx+1, N)\n",
    "\n",
    "    # 현재 요소를 사용한 가지\n",
    "    subset[idx] = 0\n",
    "    recur(idx+1,N)\n",
    "    # 사용하지 않은 가지\n",
    "    subset[idx] = 1\n",
    "    recur(idx+1,N)\n",
    "\n",
    "\n",
    "\n",
    "N=3\n",
    "fruits = ['딸기','수박','참외']\n",
    "\n",
    "subset = [0]*N  # 각 요소를 쓸지 말지.\n",
    "result = recur(0,N)\n",
    "print(result)"
   ]
  },
  {
   "cell_type": "code",
   "execution_count": 60,
   "metadata": {},
   "outputs": [
    {
     "name": "stdout",
     "output_type": "stream",
     "text": [
      "[]\n",
      "['참외']\n",
      "['수박']\n",
      "['수박', '참외']\n",
      "['딸기']\n",
      "['딸기', '참외']\n",
      "['딸기', '수박']\n",
      "['딸기', '수박', '참외']\n"
     ]
    }
   ],
   "source": [
    "\n",
    "# N개의 요소에 대한 부분 집합을 0과 1로 표현\n",
    "# 0이면 해당 요소 사용을 안함, 1 사용함\n",
    "# ex) N=3, [0,0,0], [0,0,1], .... [1,1,1]\n",
    "def recur(idx,subset:list, N):\n",
    "    #종료조건\n",
    "    # sub_set 실제 부분집합의 요소를 담는 리스트.\n",
    "\n",
    "    if idx == N:\n",
    "        print(subset)        \n",
    "        return\n",
    "    \n",
    "    recur(idx+1,subset,N)\n",
    "    # 현재 요소를 subset에 담는 경우\n",
    "    subset.append(fruits[idx])\n",
    "    recur(idx+1,subset,N)\n",
    "    # 현재 요소를 subset에 담지 않는 경우\n",
    "    subset.pop()\n",
    "\n",
    "    \n",
    "\n",
    "\n",
    "\n",
    "N=3\n",
    "fruits = ['딸기','수박','참외']\n",
    "result = recur(0, [],N)"
   ]
  },
  {
   "cell_type": "code",
   "execution_count": 61,
   "metadata": {},
   "outputs": [
    {
     "name": "stdout",
     "output_type": "stream",
     "text": [
      "['딸기', '딸기', '딸기']\n",
      "['딸기', '딸기', '수박']\n",
      "['딸기', '딸기', '참외']\n",
      "['딸기', '수박', '딸기']\n",
      "['딸기', '수박', '수박']\n",
      "['딸기', '수박', '참외']\n",
      "['딸기', '참외', '딸기']\n",
      "['딸기', '참외', '수박']\n",
      "['딸기', '참외', '참외']\n",
      "['수박', '딸기', '딸기']\n",
      "['수박', '딸기', '수박']\n",
      "['수박', '딸기', '참외']\n",
      "['수박', '수박', '딸기']\n",
      "['수박', '수박', '수박']\n",
      "['수박', '수박', '참외']\n",
      "['수박', '참외', '딸기']\n",
      "['수박', '참외', '수박']\n",
      "['수박', '참외', '참외']\n",
      "['참외', '딸기', '딸기']\n",
      "['참외', '딸기', '수박']\n",
      "['참외', '딸기', '참외']\n",
      "['참외', '수박', '딸기']\n",
      "['참외', '수박', '수박']\n",
      "['참외', '수박', '참외']\n",
      "['참외', '참외', '딸기']\n",
      "['참외', '참외', '수박']\n",
      "['참외', '참외', '참외']\n"
     ]
    }
   ],
   "source": [
    "# 특정 리스트의 중복 순열\n",
    "# 딸딸딸 수수수 참참참 딸딸수 딸수수 참수수 딸참수...\n",
    "\n",
    "def recur(idx, N):\n",
    "    if idx == N:\n",
    "        print(perms)\n",
    "        return   \n",
    "    \n",
    "    for f in fruits:\n",
    "        perms[idx] = f\n",
    "        recur(idx+1,N)\n",
    "\n",
    "N=3\n",
    "fruits = ['딸기','수박','참외']\n",
    "perms = [None]*N\n",
    "recur(0,N)"
   ]
  },
  {
   "cell_type": "markdown",
   "metadata": {},
   "source": [
    "위 코드의 포문만 다른형식으로 표현"
   ]
  },
  {
   "cell_type": "code",
   "execution_count": 63,
   "metadata": {},
   "outputs": [
    {
     "name": "stdout",
     "output_type": "stream",
     "text": [
      "['딸기', '딸기', '딸기']\n",
      "['딸기', '딸기', '수박']\n",
      "['딸기', '딸기', '참외']\n",
      "['딸기', '수박', '딸기']\n",
      "['딸기', '수박', '수박']\n",
      "['딸기', '수박', '참외']\n",
      "['딸기', '참외', '딸기']\n",
      "['딸기', '참외', '수박']\n",
      "['딸기', '참외', '참외']\n",
      "['수박', '딸기', '딸기']\n",
      "['수박', '딸기', '수박']\n",
      "['수박', '딸기', '참외']\n",
      "['수박', '수박', '딸기']\n",
      "['수박', '수박', '수박']\n",
      "['수박', '수박', '참외']\n",
      "['수박', '참외', '딸기']\n",
      "['수박', '참외', '수박']\n",
      "['수박', '참외', '참외']\n",
      "['참외', '딸기', '딸기']\n",
      "['참외', '딸기', '수박']\n",
      "['참외', '딸기', '참외']\n",
      "['참외', '수박', '딸기']\n",
      "['참외', '수박', '수박']\n",
      "['참외', '수박', '참외']\n",
      "['참외', '참외', '딸기']\n",
      "['참외', '참외', '수박']\n",
      "['참외', '참외', '참외']\n"
     ]
    }
   ],
   "source": [
    "# 특정 리스트의 중복 순열\n",
    "# 딸딸딸 수수수 참참참 딸딸수 딸수수 참수수 딸참수...\n",
    "\n",
    "def recur(idx, N):\n",
    "    if idx == N:\n",
    "        print(perms)\n",
    "        return   \n",
    "    \n",
    "    ###########여기#########\n",
    "    perms[idx] = fruits[0]\n",
    "    recur(idx+1,N)\n",
    "    perms[idx] = fruits[1]\n",
    "    recur(idx+1,N)\n",
    "    perms[idx] = fruits[2]\n",
    "    recur(idx+1,N)\n",
    "    ########################\n",
    "\n",
    "N=3\n",
    "fruits = ['딸기','수박','참외']\n",
    "perms = [None]*N\n",
    "recur(0,N)"
   ]
  },
  {
   "cell_type": "markdown",
   "metadata": {},
   "source": [
    "이젠 그냥 순열"
   ]
  },
  {
   "cell_type": "code",
   "execution_count": 64,
   "metadata": {},
   "outputs": [
    {
     "name": "stdout",
     "output_type": "stream",
     "text": [
      "['딸기', '수박', '참외']\n",
      "['딸기', '참외', '수박']\n",
      "['수박', '딸기', '참외']\n",
      "['수박', '참외', '딸기']\n",
      "['참외', '딸기', '수박']\n",
      "['참외', '수박', '딸기']\n"
     ]
    }
   ],
   "source": [
    "\n",
    "\n",
    "def recur(idx, N):\n",
    "    if idx == N:\n",
    "        print(perms)\n",
    "        return   \n",
    "    \n",
    "    for f in fruits:\n",
    "        # 현재 idx의 이전 요소 중 f가 없을 때만 할당 후 탐색\n",
    "        if f not in perms[:idx]:    # not in perms 했을 경우, 다른 가지에서 이미 뒤쪽 친구들이 채워졌을지도.. 그래서 X\n",
    "            perms[idx] = f\n",
    "            recur(idx+1,N)\n",
    "\n",
    "N=3\n",
    "fruits = ['딸기','수박','참외']\n",
    "perms = [None]*N\n",
    "recur(0,N)"
   ]
  },
  {
   "cell_type": "code",
   "execution_count": 65,
   "metadata": {},
   "outputs": [
    {
     "name": "stdout",
     "output_type": "stream",
     "text": [
      "['딸기', '수박', '참외']\n",
      "['딸기', '참외', '수박']\n",
      "['수박', '딸기', '참외']\n",
      "['수박', '참외', '딸기']\n",
      "['참외', '딸기', '수박']\n",
      "['참외', '수박', '딸기']\n"
     ]
    }
   ],
   "source": [
    "\n",
    "def recur(idx,perms, N):\n",
    "    if idx == N:\n",
    "        print(perms)\n",
    "        return   \n",
    "    \n",
    "    for f in fruits:\n",
    "        # 현재 idx의 이전 요소 중 f가 없을 때만 할당 후 탐색\n",
    "        if f not in perms:\n",
    "            perms.append(f)         # 여기서 append 하고 \n",
    "            recur(idx+1,perms,N)    # 다음 재귀에 가져다줌 근데 이러면 다음 탐색에 영향을 줌\n",
    "            perms.pop()             # 그래서 pop해서 상태 복원 (다음 탐색에 영향 X)\n",
    "                                        # 이 뒤의 재귀도 이런 방식 적용.\n",
    "\n",
    "N=3\n",
    "fruits = ['딸기','수박','참외']\n",
    "perms = [None]*N\n",
    "recur(0,[],N)"
   ]
  },
  {
   "cell_type": "code",
   "execution_count": 69,
   "metadata": {},
   "outputs": [
    {
     "name": "stdout",
     "output_type": "stream",
     "text": [
      "0 0\n",
      "1 1\n",
      "2 2\n",
      "['딸기', '수박', '참외']\n",
      "1 2\n",
      "2 2\n",
      "['딸기', '참외', '수박']\n",
      "0 1\n",
      "1 1\n",
      "2 2\n",
      "['수박', '딸기', '참외']\n",
      "1 2\n",
      "2 2\n",
      "['수박', '참외', '딸기']\n",
      "0 2\n",
      "1 1\n",
      "2 2\n",
      "['참외', '수박', '딸기']\n",
      "1 2\n",
      "2 2\n",
      "['참외', '딸기', '수박']\n"
     ]
    }
   ],
   "source": [
    "\n",
    "\n",
    "def recur(idx,N):\n",
    "    if idx == N:\n",
    "        print(fruits)\n",
    "        return   \n",
    "    \n",
    "    for j in range(idx, N):\n",
    "        print(idx, j)\n",
    "        fruits[idx], fruits[j] = fruits[j],fruits[idx]  # 상태 변경\n",
    "        recur(idx+1,N)                                  # 다음 인덱스 탐색\n",
    "        fruits[idx], fruits[j] = fruits[j],fruits[idx]  # 상태 복원\n",
    "\n",
    "N=3\n",
    "fruits = ['딸기','수박','참외']\n",
    "perms = [None]*N\n",
    "recur(0,N)"
   ]
  },
  {
   "cell_type": "code",
   "execution_count": 88,
   "metadata": {},
   "outputs": [
    {
     "name": "stdout",
     "output_type": "stream",
     "text": [
      "['딸기', '딸기', '딸기']\n",
      "['딸기', '딸기', '수박']\n",
      "['딸기', '딸기', '참외']\n",
      "['딸기', '수박', '딸기']\n",
      "['딸기', '수박', '수박']\n",
      "['딸기', '수박', '참외']\n",
      "['딸기', '참외', '딸기']\n",
      "['딸기', '참외', '수박']\n",
      "['딸기', '참외', '참외']\n",
      "['수박', '딸기', '딸기']\n",
      "['수박', '딸기', '수박']\n",
      "['수박', '딸기', '참외']\n",
      "['수박', '수박', '딸기']\n",
      "['수박', '수박', '수박']\n",
      "['수박', '수박', '참외']\n",
      "['수박', '참외', '딸기']\n",
      "['수박', '참외', '수박']\n",
      "['수박', '참외', '참외']\n",
      "['참외', '딸기', '딸기']\n",
      "['참외', '딸기', '수박']\n",
      "['참외', '딸기', '참외']\n",
      "['참외', '수박', '딸기']\n",
      "['참외', '수박', '수박']\n",
      "['참외', '수박', '참외']\n",
      "['참외', '참외', '딸기']\n",
      "['참외', '참외', '수박']\n",
      "['참외', '참외', '참외']\n"
     ]
    }
   ],
   "source": [
    "# 특정 리스트의 중복 순열\n",
    "# 딸딸딸 수수수 참참참 딸딸수 딸수수 참수수 딸참수...\n",
    "\n",
    "def recur(idx, N):\n",
    "    if idx == N:\n",
    "        print(perms)\n",
    "        return   \n",
    "    \n",
    "    for f in fruits:\n",
    "        perms[idx] = f\n",
    "        recur(idx+1,N)\n",
    "\n",
    "N=3\n",
    "fruits = ['딸기','수박','참외']\n",
    "perms = [None]*N\n",
    "recur(0,N)"
   ]
  },
  {
   "cell_type": "code",
   "execution_count": 89,
   "metadata": {},
   "outputs": [
    {
     "name": "stdout",
     "output_type": "stream",
     "text": [
      "[]\n",
      "[3]\n",
      "[2]\n",
      "[2, 3]\n",
      "[1]\n",
      "[1, 3]\n",
      "[1, 2]\n",
      "[1, 2, 3]\n",
      "None\n"
     ]
    }
   ],
   "source": [
    "def recur(idx,N):\n",
    "    #종료조건\n",
    "    if idx == N:\n",
    "        sub_list=[]\n",
    "        for i, used in enumerate(subset):\n",
    "            if used :\n",
    "                sub_list.append(fruits[i])\n",
    "        print(sub_list)        \n",
    "\n",
    "        return sub_list\n",
    "    \n",
    "    # 현재 요소를 사용할지 말지\n",
    "    for j in range(2):\n",
    "        subset[idx] = j   # 0 or 1\n",
    "        recur(idx+1, N)\n",
    "\n",
    "\n",
    "\n",
    "\n",
    "N=3\n",
    "fruits = [1,2,3,4,5]\n",
    "\n",
    "subset = [0]*3  # 각 요소를 쓸지 말지.\n",
    "result = recur(0,N)\n",
    "print(result)"
   ]
  },
  {
   "cell_type": "code",
   "execution_count": 95,
   "metadata": {},
   "outputs": [
    {
     "name": "stdout",
     "output_type": "stream",
     "text": [
      "[4, 1, 2]\n",
      "[4, 1, 1]\n"
     ]
    },
    {
     "ename": "IndexError",
     "evalue": "list index out of range",
     "output_type": "error",
     "traceback": [
      "\u001b[1;31m---------------------------------------------------------------------------\u001b[0m",
      "\u001b[1;31mIndexError\u001b[0m                                Traceback (most recent call last)",
      "Cell \u001b[1;32mIn[95], line 22\u001b[0m\n\u001b[0;32m     20\u001b[0m K\u001b[38;5;241m=\u001b[39m\u001b[38;5;241m9\u001b[39m\n\u001b[0;32m     21\u001b[0m num_list \u001b[38;5;241m=\u001b[39m [\u001b[38;5;241m1\u001b[39m,\u001b[38;5;241m2\u001b[39m,\u001b[38;5;241m3\u001b[39m,\u001b[38;5;241m4\u001b[39m,\u001b[38;5;241m5\u001b[39m,\u001b[38;5;241m6\u001b[39m,\u001b[38;5;241m7\u001b[39m,\u001b[38;5;241m8\u001b[39m,\u001b[38;5;241m9\u001b[39m]\n\u001b[1;32m---> 22\u001b[0m \u001b[43mrecur\u001b[49m\u001b[43m(\u001b[49m\u001b[38;5;241;43m0\u001b[39;49m\u001b[43m,\u001b[49m\u001b[43mN\u001b[49m\u001b[43m,\u001b[49m\u001b[43mK\u001b[49m\u001b[43m)\u001b[49m\n",
      "Cell \u001b[1;32mIn[95], line 13\u001b[0m, in \u001b[0;36mrecur\u001b[1;34m(idx, N, K)\u001b[0m\n\u001b[0;32m     11\u001b[0m \u001b[38;5;28;01mfor\u001b[39;00m j \u001b[38;5;129;01min\u001b[39;00m \u001b[38;5;28mrange\u001b[39m(idx,K):\n\u001b[0;32m     12\u001b[0m     nums[idx],nums[j] \u001b[38;5;241m=\u001b[39m nums[j], nums[idx]\n\u001b[1;32m---> 13\u001b[0m     \u001b[43mrecur\u001b[49m\u001b[43m(\u001b[49m\u001b[43midx\u001b[49m\u001b[38;5;241;43m+\u001b[39;49m\u001b[38;5;241;43m1\u001b[39;49m\u001b[43m,\u001b[49m\u001b[43mN\u001b[49m\u001b[43m,\u001b[49m\u001b[43mK\u001b[49m\u001b[43m)\u001b[49m\n\u001b[0;32m     14\u001b[0m     nums[idx],nums[j] \u001b[38;5;241m=\u001b[39m nums[j], nums[idx]\n",
      "Cell \u001b[1;32mIn[95], line 13\u001b[0m, in \u001b[0;36mrecur\u001b[1;34m(idx, N, K)\u001b[0m\n\u001b[0;32m     11\u001b[0m \u001b[38;5;28;01mfor\u001b[39;00m j \u001b[38;5;129;01min\u001b[39;00m \u001b[38;5;28mrange\u001b[39m(idx,K):\n\u001b[0;32m     12\u001b[0m     nums[idx],nums[j] \u001b[38;5;241m=\u001b[39m nums[j], nums[idx]\n\u001b[1;32m---> 13\u001b[0m     \u001b[43mrecur\u001b[49m\u001b[43m(\u001b[49m\u001b[43midx\u001b[49m\u001b[38;5;241;43m+\u001b[39;49m\u001b[38;5;241;43m1\u001b[39;49m\u001b[43m,\u001b[49m\u001b[43mN\u001b[49m\u001b[43m,\u001b[49m\u001b[43mK\u001b[49m\u001b[43m)\u001b[49m\n\u001b[0;32m     14\u001b[0m     nums[idx],nums[j] \u001b[38;5;241m=\u001b[39m nums[j], nums[idx]\n",
      "Cell \u001b[1;32mIn[95], line 12\u001b[0m, in \u001b[0;36mrecur\u001b[1;34m(idx, N, K)\u001b[0m\n\u001b[0;32m      9\u001b[0m     \u001b[38;5;28;01mreturn\u001b[39;00m\n\u001b[0;32m     11\u001b[0m \u001b[38;5;28;01mfor\u001b[39;00m j \u001b[38;5;129;01min\u001b[39;00m \u001b[38;5;28mrange\u001b[39m(idx,K):\n\u001b[1;32m---> 12\u001b[0m     nums[idx],nums[j] \u001b[38;5;241m=\u001b[39m \u001b[43mnums\u001b[49m\u001b[43m[\u001b[49m\u001b[43mj\u001b[49m\u001b[43m]\u001b[49m, nums[idx]\n\u001b[0;32m     13\u001b[0m     recur(idx\u001b[38;5;241m+\u001b[39m\u001b[38;5;241m1\u001b[39m,N,K)\n\u001b[0;32m     14\u001b[0m     nums[idx],nums[j] \u001b[38;5;241m=\u001b[39m nums[j], nums[idx]\n",
      "\u001b[1;31mIndexError\u001b[0m: list index out of range"
     ]
    }
   ],
   "source": [
    "# 1~K 까지 중복을 허용하고 3자리수 만들기.\n",
    "# 1~K 까지 중복을 허용하지 않고 3자리수 만들기.\n",
    "# [1,2,3,4,5,.... K]\n",
    "# k==9\n",
    "\n",
    "def recur(idx, N,K):\n",
    "    if idx == N :\n",
    "        print(nums[:N])\n",
    "        return\n",
    "    \n",
    "    for j in range(idx,K):\n",
    "        nums[idx],nums[j] = nums[j], nums[idx]\n",
    "        recur(idx+1,N,K)\n",
    "        nums[idx],nums[j] = nums[j], nums[idx]\n",
    "    # 현재 요소를 사용할지 말지\n",
    "\n",
    "\n",
    "\n",
    "N=3\n",
    "K=9\n",
    "num_list = [1,2,3,4,5,6,7,8,9]\n",
    "recur(0,N,K)\n"
   ]
  }
 ],
 "metadata": {
  "kernelspec": {
   "display_name": "Python 3",
   "language": "python",
   "name": "python3"
  },
  "language_info": {
   "codemirror_mode": {
    "name": "ipython",
    "version": 3
   },
   "file_extension": ".py",
   "mimetype": "text/x-python",
   "name": "python",
   "nbconvert_exporter": "python",
   "pygments_lexer": "ipython3",
   "version": "3.9.13"
  }
 },
 "nbformat": 4,
 "nbformat_minor": 2
}
