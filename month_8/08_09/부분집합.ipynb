{
 "cells": [
  {
   "cell_type": "markdown",
   "metadata": {},
   "source": [
    "+ powerset 중 원소의 합이 10인 부분집합의 개수 구하기\n",
    "+ 1 2 3 4 5 6 7 8 9 10\n",
    "+ -> #1 10\n",
    "\n",
    "+연습문제 2 - 부분집합 (백트래킹, 가지치기 까지 고려)"
   ]
  },
  {
   "cell_type": "code",
   "execution_count": 3,
   "metadata": {},
   "outputs": [
    {
     "name": "stdout",
     "output_type": "stream",
     "text": [
      "[]\n"
     ]
    }
   ],
   "source": [
    "\n",
    "def recur(idx, N) :\n",
    "    #종료조건\n",
    "    if idx==N :\n",
    "        print(subset)\n",
    "        return\n",
    "    # 현재 요소 사용 유무\n",
    "    for j in range(2) :\n",
    "        subset[idx] = j #j==0,1 \n",
    "        recur(idx+1, N)\n",
    " \n",
    "num_lst = list(map(int,input().split()))\n",
    "N = len(num_lst)\n",
    "subset = [0] * N\n",
    "recur(0,N)\n"
   ]
  },
  {
   "cell_type": "code",
   "execution_count": 22,
   "metadata": {},
   "outputs": [
    {
     "name": "stdout",
     "output_type": "stream",
     "text": [
      "#1 10\n"
     ]
    }
   ],
   "source": [
    "def recur(idx, cur_sum, N):\n",
    "    cnt=0\n",
    "    # 종료조건\n",
    "    if idx == N :               # 다 돌았을 때\n",
    "        if cur_sum == 10 :\n",
    "            return 1\n",
    "        else:\n",
    "            return 0\n",
    "    \n",
    "    # 가지치기\n",
    "    if cur_sum + sum(num_lst[idx:]) < 10: # 남은 친구들에 지금 친구를 더했을 때 타겟보다 작으면,\n",
    "        return 0\n",
    "    \n",
    "    # 다음 인덱스\n",
    "    cnt1 = recur(idx+1, cur_sum + num_lst[idx], N)\n",
    "    cnt2 = recur(idx+1, cur_sum,N) # 현재의 값을 빼지 않은 값을 보내줌.\n",
    "    return cnt1+cnt2\n",
    "\n",
    "\n",
    "num_lst = list(map(int,input().split()))\n",
    "\n",
    "N = len(num_lst)\n",
    "result = recur(0,0,N)\n",
    "print(f'#1 {result}')\n"
   ]
  }
 ],
 "metadata": {
  "kernelspec": {
   "display_name": "Python 3",
   "language": "python",
   "name": "python3"
  },
  "language_info": {
   "codemirror_mode": {
    "name": "ipython",
    "version": 3
   },
   "file_extension": ".py",
   "mimetype": "text/x-python",
   "name": "python",
   "nbconvert_exporter": "python",
   "pygments_lexer": "ipython3",
   "version": "3.9.13"
  }
 },
 "nbformat": 4,
 "nbformat_minor": 2
}
