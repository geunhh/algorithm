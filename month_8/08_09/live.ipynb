{
 "cells": [
  {
   "cell_type": "code",
   "execution_count": 5,
   "metadata": {},
   "outputs": [
    {
     "name": "stdout",
     "output_type": "stream",
     "text": [
      "1 2 3 \n",
      "1 2 \n",
      "1 3 \n",
      "1 \n",
      "2 3 \n",
      "2 \n",
      "3 \n",
      "\n"
     ]
    }
   ],
   "source": [
    "def construct_candidates(a, k, n, c):\n",
    "\t\tc[0] = True\n",
    "\t\tc[1] = False\n",
    "\t\treturn 2\n",
    "\n",
    "def process_solution(a,k):\n",
    "\t\tfor i in range(k):\n",
    "\t\t\t\tif a[i]:\n",
    "\t\t\t\t\t\tprint(num[i], end=' ')\n",
    "\t\tprint()\n",
    "\n",
    "\n",
    "\t\t\n",
    "def backtrack(a,k,n):           # a 주어진 배열, k 결정할 원소, n 원소 개수.\n",
    "    c = [0] * MAXCANDIDATES\n",
    "    if k == n:\n",
    "            process_solution(a,k)\n",
    "    else:\n",
    "        ncandidates = construct_candidates(a,k,n,c) # 후보 추천 및 저장\n",
    "        for i in range(ncandidates):\n",
    "                a[k] = c[i]\n",
    "                backtrack(a, k+1, n)\n",
    "\n",
    "MAXCANDIDATES = 2\n",
    "NMAX = 4\n",
    "a = [0] * NMAX\n",
    "num = [1,2,3,4]\n",
    "backtrack(a,0,3)"
   ]
  },
  {
   "cell_type": "code",
   "execution_count": 7,
   "metadata": {},
   "outputs": [
    {
     "name": "stdout",
     "output_type": "stream",
     "text": [
      "1 2 3\n",
      "1 3 2\n",
      "2 1 3\n",
      "2 3 1\n",
      "3 1 2\n",
      "3 2 1\n"
     ]
    }
   ],
   "source": [
    "for i1 in range(1,4):\n",
    "    for i2 in range(1,4):\n",
    "        if i2 != i1:\n",
    "            for i3 in range(1,4):\n",
    "                if i3 != i1 and i3 != i2:\n",
    "                    print(i1,i2,i3)\n",
    "        "
   ]
  },
  {
   "cell_type": "code",
   "execution_count": 8,
   "metadata": {},
   "outputs": [
    {
     "name": "stdout",
     "output_type": "stream",
     "text": [
      "1 2 3 \n",
      "1 3 2 \n",
      "2 1 3 \n",
      "2 3 1 \n",
      "3 1 2 \n",
      "3 2 1 \n"
     ]
    }
   ],
   "source": [
    "def backtrack(a,k,n):\n",
    "    c = [0] * MAXCANDIDATES\n",
    "\n",
    "    if k == n :\n",
    "        for i in range(0,k):\n",
    "            print(a[i], end =' ')\n",
    "        print()\n",
    "    else:\n",
    "        ncandidates = construct_candidates(a,k,n,c)\n",
    "        for i in range(ncandidates):\n",
    "            a[k] =c[i]\n",
    "            backtrack(a, k+1, n)\n",
    "\n",
    "def construct_candidates(a,k,n,c):\n",
    "    in_perm = [False] * (NMAX + 1)\n",
    "\n",
    "    for i in range(k):\n",
    "        in_perm[a[i]]=True\n",
    "    \n",
    "    ncandidates = 0\n",
    "    for i in range(1, NMAX +1):\n",
    "        if in_perm[i] == False:\n",
    "            c[ncandidates] = i\n",
    "            ncandidates +=1\n",
    "    return ncandidates\n",
    "\n",
    "MAXCANDIDATES = 3\n",
    "NMAX = 3\n",
    "a= [0]*NMAX\n",
    "backtrack(a,0,3)\n"
   ]
  },
  {
   "cell_type": "code",
   "execution_count": 13,
   "metadata": {},
   "outputs": [
    {
     "name": "stdout",
     "output_type": "stream",
     "text": [
      "1 2 3 합 :  6\n",
      "1 2 합 :  3\n",
      "1 3 합 :  4\n",
      "1 합 :  1\n",
      "2 3 합 :  5\n",
      "2 합 :  2\n",
      "3 합 :  3\n",
      "합 :  0\n"
     ]
    }
   ],
   "source": [
    "def f(i,K):     # bit[i]를 결정하는 함수\n",
    "    if i == K : # 모든 원소에 대해 결정하면,\n",
    "        s=0     # 부분집합의합 저장\n",
    "        for j in range(K):\n",
    "            if bit[j] :\n",
    "                s+=a[j]\n",
    "                print(a[j], end=' ')\n",
    "        print('합 : ', s)\n",
    "    else:\n",
    "        # bit[i] = 1\n",
    "        # f(i+1,K)\n",
    "        # bit[i] =0\n",
    "        # f(i+1,K)\n",
    "        for j in [1,0]:\n",
    "            bit[i] = j\n",
    "            f(i+1,K)\n",
    "\n",
    "\n",
    "N=3\n",
    "a = [1,2,3]     # 주어진 원소의 집합\n",
    "bit = [0]*N     # 원소의 포함여부를 표시하는 배열\n",
    "f(0,N)          # N 개의 원소에 대해 부분집합을 만드는 함수"
   ]
  },
  {
   "cell_type": "code",
   "execution_count": 17,
   "metadata": {},
   "outputs": [
    {
     "name": "stdout",
     "output_type": "stream",
     "text": [
      "10\n"
     ]
    }
   ],
   "source": [
    "# 가지치기없음.\n",
    "def f(i,k,s,t):\n",
    "    global cnt\n",
    "    if i == k :\n",
    "        if s==t:\n",
    "            cnt +=1\n",
    "\n",
    "    else:\n",
    "        bit [i] = 1 \n",
    "        f(i+1, k,s+A[i],t)\n",
    "        bit[i] =0\n",
    "        f(i+1,k,s,t)\n",
    "\n",
    "\n",
    "N=10\n",
    "A = [i for i in range(1,11)]\n",
    "\n",
    "key = 10\n",
    "cnt = 0\n",
    "bit = [0]*N\n",
    "fcnt =0\n",
    "f(0,N,0,key)\n",
    "print(cnt)"
   ]
  },
  {
   "cell_type": "code",
   "execution_count": 23,
   "metadata": {},
   "outputs": [
    {
     "name": "stdout",
     "output_type": "stream",
     "text": [
      "10 2047\n"
     ]
    }
   ],
   "source": [
    "# 가지치기있음\n",
    "def f(i,k,s,t):\n",
    "    global cnt\n",
    "    global fcnt\n",
    "    fcnt+=1\n",
    "    # if s>t:\n",
    "    #     return\n",
    "    # elif s==t:\n",
    "    #     cnt+=1\n",
    "    #     return\n",
    "    # elif i ==k:\n",
    "    #     return\n",
    "    if i == k :\n",
    "        if s==t:\n",
    "            cnt +=1\n",
    "    else:\n",
    "        bit [i] = 1 \n",
    "        f(i+1, k,s+A[i],t)\n",
    "        bit[i] =0\n",
    "        f(i+1,k,s,t)\n",
    "\n",
    "\n",
    "N=10\n",
    "A = [i for i in range(1,11)]\n",
    "\n",
    "key = 10\n",
    "cnt = 0\n",
    "bit = [0]*N\n",
    "fcnt =0\n",
    "f(0,N,0,key)\n",
    "print(cnt,fcnt)"
   ]
  }
 ],
 "metadata": {
  "kernelspec": {
   "display_name": "Python 3",
   "language": "python",
   "name": "python3"
  },
  "language_info": {
   "codemirror_mode": {
    "name": "ipython",
    "version": 3
   },
   "file_extension": ".py",
   "mimetype": "text/x-python",
   "name": "python",
   "nbconvert_exporter": "python",
   "pygments_lexer": "ipython3",
   "version": "3.9.13"
  }
 },
 "nbformat": 4,
 "nbformat_minor": 2
}
