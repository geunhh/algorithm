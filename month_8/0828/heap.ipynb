{
 "cells": [
  {
   "cell_type": "code",
   "execution_count": 10,
   "metadata": {},
   "outputs": [
    {
     "name": "stdout",
     "output_type": "stream",
     "text": [
      "[1, 1, 2, 7, 9, 5, 4]\n",
      "[-7, 1, 2, 1, 9, 5, 4, 7]\n",
      "-7 [1, 1, 2, 7, 9, 5, 4]\n"
     ]
    }
   ],
   "source": [
    "# 최소 힙 사용 예시\n",
    "\n",
    "import heapq   \n",
    "\n",
    "data=[4,1,2,7,9,5,1]\n",
    "\n",
    "# 리스트를 힙(최소힙)으로 변환\n",
    "heapq.heapify(data)\n",
    "print(data)\n",
    "\n",
    "# 원소 추가\n",
    "heapq.heappush(data, -7)\n",
    "print(data)\n",
    "\n",
    "# 최소 값을 삭제 및 반환\n",
    "min_val = heapq.heappop(data)\n",
    "print(min_val,data)"
   ]
  },
  {
   "cell_type": "code",
   "execution_count": 18,
   "metadata": {},
   "outputs": [
    {
     "name": "stdout",
     "output_type": "stream",
     "text": [
      "[-9, -7, -5, -4, -1, -2, -1]\n",
      "[-11, -9, -5, -7, -1, -2, -1, -4]\n",
      "11 [-9, -7, -5, -4, -1, -2, -1]\n"
     ]
    }
   ],
   "source": [
    "# 최대 힙 사용 예시\n",
    "\n",
    "import heapq   \n",
    "\n",
    "data=[4,1,2,7,9,5,1]\n",
    "data = [-x for x in data]\n",
    "\n",
    "# 리스트를 힙(최소힙)으로 변환\n",
    "heapq.heapify(data)\n",
    "print(data)\n",
    "\n",
    "# 원소 추가\n",
    "heapq.heappush(data, -11) # 원래값의 음수값을 넣어줘야 해\n",
    "print(data) \n",
    "\n",
    "# 최소 값을 삭제 및 반환\n",
    "min_val = heapq.heappop(data)\n",
    "print(abs(min_val),data)"
   ]
  },
  {
   "cell_type": "code",
   "execution_count": 22,
   "metadata": {},
   "outputs": [
    {
     "name": "stdout",
     "output_type": "stream",
     "text": [
      "[(1, 'f'), (1, 'b'), (3, 'a'), (2, 'c')]\n",
      "[(1, 'b'), (1, 'f'), (3, 'a'), (2, 'c')]\n",
      "(1, 'b') [(1, 'f'), (2, 'c'), (3, 'a')]\n"
     ]
    }
   ],
   "source": [
    "# 여러 기준으로 우선순위 정하기\n",
    "\n",
    "import heapq\n",
    "\n",
    "data = [(1,'f'),(1,'b'),(3,'a'),(2,'c')]\n",
    "print(data)\n",
    "\n",
    "# 리스트를 힙(최소힙)으로 변환\n",
    "heapq.heapify(data)\n",
    "print(data)\n",
    "\n",
    "# # 원소 추가\n",
    "# heapq.heappush(data, -7)\n",
    "# print(data)\n",
    "\n",
    "# 최소 값을 삭제 및 반환\n",
    "min_val = heapq.heappop(data)\n",
    "print(min_val,data)"
   ]
  }
 ],
 "metadata": {
  "kernelspec": {
   "display_name": "Python 3",
   "language": "python",
   "name": "python3"
  },
  "language_info": {
   "codemirror_mode": {
    "name": "ipython",
    "version": 3
   },
   "file_extension": ".py",
   "mimetype": "text/x-python",
   "name": "python",
   "nbconvert_exporter": "python",
   "pygments_lexer": "ipython3",
   "version": "3.9.13"
  }
 },
 "nbformat": 4,
 "nbformat_minor": 2
}
