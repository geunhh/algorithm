{
 "cells": [
  {
<<<<<<< HEAD
   "cell_type": "code",
   "execution_count": 32,
=======
   "cell_type": "markdown",
   "metadata": {},
   "source": [
    "# 주사위 쌓기\n",
    "\n",
    "+ 1번   주사위 윗면 = 2번 주사위 밑면\n",
    "+ 2번   주사위 윗면 = 3번 주사위 밑면\n",
    "+ 3번   주사위 윗면 = 4번 주사위 밑면\n",
    "+ 4번   주사위 윗면 = 5번 주사위 밑면\n",
    "+ n-1번 주사위 윗면 = n번 주사위 밑면\n",
    "\n",
    "+ ABCDEF 순서로 입력\n",
    "+ (A,F), (B,D), (C,E) ->세트\n",
    "+ (0,5), (1,3), (2,4)\n",
    "dice[A] -> "
   ]
  },
  {
   "cell_type": "code",
   "execution_count": 8,
>>>>>>> d07f9d916d4aadfb97e39d13aa119a513a6c7cf2
   "metadata": {},
   "outputs": [
    {
     "name": "stdout",
     "output_type": "stream",
     "text": [
<<<<<<< HEAD
      "0 5 34\n",
      "1 3 32\n",
      "2 4 39\n",
      "32\n",
      "[1, 3]\n",
      "합구하기\n",
      "5\n",
      "3 바꿔\n",
      "6 바꿔\n",
      "토탈 6\n",
      "5\n",
      "1 바꿔\n",
      "2 바꿔\n",
      "4 바꿔\n",
      "6 바꿔\n",
      "토탈 12\n",
      "5\n",
      "6 바꿔\n",
      "토탈 18\n",
      "5\n",
      "3 바꿔\n",
      "6 바꿔\n",
      "토탈 24\n",
      "5\n",
      "1 바꿔\n",
      "6 바꿔\n",
      "토탈 30\n",
=======
>>>>>>> d07f9d916d4aadfb97e39d13aa119a513a6c7cf2
      "30\n"
     ]
    }
   ],
   "source": [
<<<<<<< HEAD
    "dices = [[2, 3, 1, 6, 5, 4],[3, 1, 2, 4, 6, 5] ,[5, 6, 4, 1, 3, 2],[1, 3, 6, 2, 4, 5],[4, 1, 6, 5, 2, 3]]\n",
    "check_arr =[[0,5],[1,3],[2,4]]\n",
    "### 어느 좌표의 값이 가장 작은가?\n",
    "min_sum=100\n",
    "for a,b in check_arr:\n",
    "    ab_sum=0\n",
    "    for dice in dices:    \n",
    "        # print(dice[a],dice[b])\n",
    "        ab_sum+=(dice[a]+dice[b])\n",
    "    print(a,b, ab_sum)\n",
    "    if min_sum > ab_sum:\n",
    "        min_sum=ab_sum\n",
    "        a_b = [a,b]\n",
    "print(min_sum)\n",
    "print(a_b)\n",
    "\n",
    "print('합구하기')\n",
    "##### 최대합 구하기\n",
    "total=0\n",
    "for dice in dices:\n",
    "\n",
    "    print(i)\n",
    "    max=0\n",
    "    for i in range(6):        \n",
    "        if (i not in [0,5]) and (dice[i] > max):\n",
    "            max = dice[i]\n",
    "            print(max,'바꿔')    \n",
    "    total +=max\n",
    "    print('토탈',total)\n",
    "\n",
    "print(total)\n",
=======
    "my_dic = {0:5, 5:0, 1:3, 3:1, 2:4, 4:2}\n",
    "N= 5\n",
    "dices = [[2, 3, 1, 6, 5, 4],[3, 1, 2, 4, 6, 5],[5, 6, 4, 1, 3, 2],[1, 3, 6, 2, 4, 5],[4, 1, 6, 5, 2, 3]]\n",
    "max_sum=0\n",
    "def dice(dice,bottom):\n",
    "    for i in range(6):\n",
    "        \n",
    "        if i == 0:\n",
    "            return dice[5], max(dice[1],dice[2],dice[3],dice[4])\n",
    "        elif i == 1:\n",
    "            return dice[3], max(dice[0],dice[2],dice[5],dice[4])\n",
    "        elif i == 2:\n",
    "            return dice[4], max(dice[0],dice[1],dice[5],dice[3])\n",
    "        elif i == 3:           \n",
    "            return dice[1], max(dice[0],dice[2],dice[5],dice[4])\n",
    "        elif i == 4:\n",
    "            return dice[2], max(dice[0],dice[1],dice[5],dice[3])\n",
    "        elif i == 5:\n",
    "            return dice[0], max(dice[1],dice[2],dice[3],dice[4])\n",
    "        \n",
    "\n",
    "for i in range(1,7):\n",
    "    bottom = i\n",
    "    total = 0\n",
    "\n",
    "    for j in range(N): \n",
    "        bottom, max_num = dice(dices[j],bottom)\n",
    "        total += max_num\n",
    "    if max_sum < total:\n",
    "        max_sum = total\n",
    "print(max_sum)"
   ]
  },
  {
   "cell_type": "code",
   "execution_count": 9,
   "metadata": {},
   "outputs": [
    {
     "name": "stdout",
     "output_type": "stream",
     "text": [
      "1 2 - 4 5 - 7 8 - 10 11 12 - 14 15 - 17 18 - 20 21 22 - 24 25 - 27 28 - - - - -- - - -- - - -- 40 41 42 - 44 45 - 47 48 - 50 "
     ]
    }
   ],
   "source": [
    "def func369(N):\n",
    "    for i in range(1,N+1):\n",
    "        num = str(i)\n",
    "        sum = num.count('3') + num.count('6')+num.count('9')\n",
    "        if sum == 0:\n",
    "            print(i, end =' ')\n",
    "        else:\n",
    "            print(\"-\"*sum, end= ' ')\n",
    " \n",
    "N = int(input())\n",
    "func369(N)"
   ]
  },
  {
   "cell_type": "code",
   "execution_count": 10,
   "metadata": {},
   "outputs": [
    {
     "name": "stdout",
     "output_type": "stream",
     "text": [
      "1 2 - 4 5 - 7 8 - 10 11 12 - 14 15 - 17 18 - 20 21 22 - 24 25 - 27 28 - - - - -- - - -- - - -- 40 41 42 - 44 45 - 47 48 - 50 51 52 - 54 55 - 57 58 - - - - -- - - -- - - -- 70 71 72 - 74 75 - 77 78 - 80 81 82 - 84 85 - 87 88 - - - - -- - - -- - - -- 100\n"
     ]
    }
   ],
   "source": [
    "n = int(input())\n",
    "lst = list(str(i) for i in range(1,n+1))\n",
    "ans = []\n",
    "no = ['3','6','9']\n",
    "for i in lst:\n",
    "    cnt=0\n",
    "    for j in i:\n",
    "        if j in no:\n",
    "            cnt+=1\n",
    "    if cnt==0:\n",
    "        ans.append(i)\n",
    "    else:\n",
    "        ans.append('-'*cnt)\n",
    "print(*ans)"
   ]
  },
  {
   "cell_type": "code",
   "execution_count": 33,
   "metadata": {},
   "outputs": [
    {
     "name": "stdout",
     "output_type": "stream",
     "text": [
      "#1 180\n",
      "#2 30\n",
      "#3 5076\n"
     ]
    },
    {
     "ename": "KeyboardInterrupt",
     "evalue": "Interrupted by user",
     "output_type": "error",
     "traceback": [
      "\u001b[1;31m---------------------------------------------------------------------------\u001b[0m",
      "\u001b[1;31mKeyboardInterrupt\u001b[0m                         Traceback (most recent call last)",
      "Cell \u001b[1;32mIn[33], line 15\u001b[0m\n\u001b[0;32m     13\u001b[0m T\u001b[38;5;241m=\u001b[39m \u001b[38;5;28mint\u001b[39m(\u001b[38;5;28minput\u001b[39m())\n\u001b[0;32m     14\u001b[0m \u001b[38;5;28;01mfor\u001b[39;00m tc \u001b[38;5;129;01min\u001b[39;00m \u001b[38;5;28mrange\u001b[39m(\u001b[38;5;241m1\u001b[39m,T\u001b[38;5;241m+\u001b[39m\u001b[38;5;241m1\u001b[39m):\n\u001b[1;32m---> 15\u001b[0m     N\u001b[38;5;241m=\u001b[39m\u001b[38;5;28mint\u001b[39m(\u001b[38;5;28;43minput\u001b[39;49m\u001b[43m(\u001b[49m\u001b[43m)\u001b[49m)\n\u001b[0;32m     16\u001b[0m     result \u001b[38;5;241m=\u001b[39m my_func(N)\n\u001b[0;32m     17\u001b[0m     \u001b[38;5;28mprint\u001b[39m(\u001b[38;5;124mf\u001b[39m\u001b[38;5;124m'\u001b[39m\u001b[38;5;124m#\u001b[39m\u001b[38;5;132;01m{\u001b[39;00mtc\u001b[38;5;132;01m}\u001b[39;00m\u001b[38;5;124m \u001b[39m\u001b[38;5;132;01m{\u001b[39;00mresult\u001b[38;5;132;01m}\u001b[39;00m\u001b[38;5;124m'\u001b[39m)\n",
      "File \u001b[1;32m~\\AppData\\Roaming\\Python\\Python312\\site-packages\\ipykernel\\kernelbase.py:1282\u001b[0m, in \u001b[0;36mKernel.raw_input\u001b[1;34m(self, prompt)\u001b[0m\n\u001b[0;32m   1280\u001b[0m     msg \u001b[38;5;241m=\u001b[39m \u001b[38;5;124m\"\u001b[39m\u001b[38;5;124mraw_input was called, but this frontend does not support input requests.\u001b[39m\u001b[38;5;124m\"\u001b[39m\n\u001b[0;32m   1281\u001b[0m     \u001b[38;5;28;01mraise\u001b[39;00m StdinNotImplementedError(msg)\n\u001b[1;32m-> 1282\u001b[0m \u001b[38;5;28;01mreturn\u001b[39;00m \u001b[38;5;28;43mself\u001b[39;49m\u001b[38;5;241;43m.\u001b[39;49m\u001b[43m_input_request\u001b[49m\u001b[43m(\u001b[49m\n\u001b[0;32m   1283\u001b[0m \u001b[43m    \u001b[49m\u001b[38;5;28;43mstr\u001b[39;49m\u001b[43m(\u001b[49m\u001b[43mprompt\u001b[49m\u001b[43m)\u001b[49m\u001b[43m,\u001b[49m\n\u001b[0;32m   1284\u001b[0m \u001b[43m    \u001b[49m\u001b[38;5;28;43mself\u001b[39;49m\u001b[38;5;241;43m.\u001b[39;49m\u001b[43m_parent_ident\u001b[49m\u001b[43m[\u001b[49m\u001b[38;5;124;43m\"\u001b[39;49m\u001b[38;5;124;43mshell\u001b[39;49m\u001b[38;5;124;43m\"\u001b[39;49m\u001b[43m]\u001b[49m\u001b[43m,\u001b[49m\n\u001b[0;32m   1285\u001b[0m \u001b[43m    \u001b[49m\u001b[38;5;28;43mself\u001b[39;49m\u001b[38;5;241;43m.\u001b[39;49m\u001b[43mget_parent\u001b[49m\u001b[43m(\u001b[49m\u001b[38;5;124;43m\"\u001b[39;49m\u001b[38;5;124;43mshell\u001b[39;49m\u001b[38;5;124;43m\"\u001b[39;49m\u001b[43m)\u001b[49m\u001b[43m,\u001b[49m\n\u001b[0;32m   1286\u001b[0m \u001b[43m    \u001b[49m\u001b[43mpassword\u001b[49m\u001b[38;5;241;43m=\u001b[39;49m\u001b[38;5;28;43;01mFalse\u001b[39;49;00m\u001b[43m,\u001b[49m\n\u001b[0;32m   1287\u001b[0m \u001b[43m\u001b[49m\u001b[43m)\u001b[49m\n",
      "File \u001b[1;32m~\\AppData\\Roaming\\Python\\Python312\\site-packages\\ipykernel\\kernelbase.py:1325\u001b[0m, in \u001b[0;36mKernel._input_request\u001b[1;34m(self, prompt, ident, parent, password)\u001b[0m\n\u001b[0;32m   1322\u001b[0m \u001b[38;5;28;01mexcept\u001b[39;00m \u001b[38;5;167;01mKeyboardInterrupt\u001b[39;00m:\n\u001b[0;32m   1323\u001b[0m     \u001b[38;5;66;03m# re-raise KeyboardInterrupt, to truncate traceback\u001b[39;00m\n\u001b[0;32m   1324\u001b[0m     msg \u001b[38;5;241m=\u001b[39m \u001b[38;5;124m\"\u001b[39m\u001b[38;5;124mInterrupted by user\u001b[39m\u001b[38;5;124m\"\u001b[39m\n\u001b[1;32m-> 1325\u001b[0m     \u001b[38;5;28;01mraise\u001b[39;00m \u001b[38;5;167;01mKeyboardInterrupt\u001b[39;00m(msg) \u001b[38;5;28;01mfrom\u001b[39;00m \u001b[38;5;28;01mNone\u001b[39;00m\n\u001b[0;32m   1326\u001b[0m \u001b[38;5;28;01mexcept\u001b[39;00m \u001b[38;5;167;01mException\u001b[39;00m:\n\u001b[0;32m   1327\u001b[0m     \u001b[38;5;28mself\u001b[39m\u001b[38;5;241m.\u001b[39mlog\u001b[38;5;241m.\u001b[39mwarning(\u001b[38;5;124m\"\u001b[39m\u001b[38;5;124mInvalid Message:\u001b[39m\u001b[38;5;124m\"\u001b[39m, exc_info\u001b[38;5;241m=\u001b[39m\u001b[38;5;28;01mTrue\u001b[39;00m)\n",
      "\u001b[1;31mKeyboardInterrupt\u001b[0m: Interrupted by user"
     ]
    }
   ],
   "source": [
    "\n",
    "def my_func(N):\n",
    "    \n",
    "    for num in range(N, 999999999999, N) :\n",
    "        num_str = str(num)\n",
    "        for s in num_str:\n",
    "            if s in stack:\n",
    "                stack.remove(s)\n",
    "        if not stack:\n",
    "            return num_str\n",
    "\n",
    "        \n",
    "T= int(input())\n",
    "for tc in range(1,T+1):\n",
    "    stack =['0','1','2','3','4','5','6','7','8','9']\n",
    "    N=int(input())\n",
    "    result = my_func(N)\n",
    "    print(f'#{tc} {result}')\n",
    "\n",
>>>>>>> d07f9d916d4aadfb97e39d13aa119a513a6c7cf2
    "\n",
    "    \n"
   ]
  },
  {
   "cell_type": "code",
<<<<<<< HEAD
   "execution_count": null,
   "metadata": {},
   "outputs": [],
   "source": [
    "dices = [[2, 3, 1, 6, 5, 4],[3, 1, 2, 4, 6, 5] ,[5, 6, 4, 1, 3, 2],[1, 3, 6, 2, 4, 5],[4, 1, 6, 5, 2, 3]]\n",
    "check_dict = {1:3,3:1,5:0,0:5,2:4,4:2}\n",
    "\n",
    "### 어느 좌표의 값이 가장 작은가?\n",
    "min_sum=100\n",
    "# 좌표에 5또는 6이 들어가있는지?\n",
    "for i in range(6):\n",
    "    sum = dices[i] + dicedices[i]\n",
    "    \n",
    "\n",
    "\n",
    "\n",
    "    print(a,b, ab_sum)\n",
    "    if min_sum > ab_sum:\n",
    "        min_sum=ab_sum\n",
    "        a_b = [a,b]\n",
    "print(min_sum)\n",
    "print(a_b)\n",
    "\n",
    "print('합구하기')\n",
    "##### 최대합 구하기\n",
    "total=0\n",
    "for dice in dices:\n",
    "\n",
    "    print(i)\n",
    "    max=0\n",
    "    for i in range(6):        \n",
    "        if (i not in [0,5]) and (dice[i] > max):\n",
    "            max = dice[i]\n",
    "            print(max,'바꿔')    \n",
    "    total +=max\n",
    "    print('토탈',total)\n",
    "\n",
    "print(total)\n",
    "\n",
    "    \n"
   ]
=======
   "execution_count": 38,
   "metadata": {},
   "outputs": [
    {
     "name": "stdout",
     "output_type": "stream",
     "text": [
      "30\n"
     ]
    }
   ],
   "source": [
    "\n",
    "T= int(input())\n",
    "for tc in range(1,1+T):\n",
    "    N,M = map(int,input().split())\n",
    "    A = list(map(int,input().split()))\n",
    "    B = list(map(int,input().split()))\n",
    "    max_total=0\n",
    "    if N>M:\n",
    "        for i in range(N-M+1):\n",
    "            total=0\n",
    "            for j in range(M):\n",
    "                total += A[j+i] * B[j]\n",
    "            if max_total < total:\n",
    "                max_total = total\n",
    "    else:\n",
    "        for i in range(M-N+1):\n",
    "            total=0\n",
    "            for j in range(N):\n",
    "                total += A[j] * B[j+i]\n",
    "            if max_total < total:\n",
    "                max_total = total\n",
    "\n",
    "    print(f'#{tc} {max_total}')"
   ]
  },
  {
   "cell_type": "code",
   "execution_count": 47,
   "metadata": {},
   "outputs": [
    {
     "ename": "ValueError",
     "evalue": "invalid literal for int() with base 10: ''",
     "output_type": "error",
     "traceback": [
      "\u001b[1;31m---------------------------------------------------------------------------\u001b[0m",
      "\u001b[1;31mValueError\u001b[0m                                Traceback (most recent call last)",
      "Cell \u001b[1;32mIn[47], line 23\u001b[0m\n\u001b[0;32m     20\u001b[0m     cnt \u001b[38;5;241m+\u001b[39m\u001b[38;5;241m=\u001b[39mballs\u001b[38;5;241m.\u001b[39mcount(\u001b[38;5;124m'\u001b[39m\u001b[38;5;124m()\u001b[39m\u001b[38;5;124m'\u001b[39m)\n\u001b[0;32m     21\u001b[0m     \u001b[38;5;28;01mreturn\u001b[39;00m cnt\n\u001b[1;32m---> 23\u001b[0m T\u001b[38;5;241m=\u001b[39m \u001b[38;5;28;43mint\u001b[39;49m\u001b[43m(\u001b[49m\u001b[38;5;28;43minput\u001b[39;49m\u001b[43m(\u001b[49m\u001b[43m)\u001b[49m\u001b[43m)\u001b[49m\n\u001b[0;32m     24\u001b[0m \u001b[38;5;28;01mfor\u001b[39;00m tc \u001b[38;5;129;01min\u001b[39;00m \u001b[38;5;28mrange\u001b[39m(\u001b[38;5;241m1\u001b[39m,T\u001b[38;5;241m+\u001b[39m\u001b[38;5;241m1\u001b[39m):\n\u001b[0;32m     25\u001b[0m     balls \u001b[38;5;241m=\u001b[39m \u001b[38;5;28minput\u001b[39m()\u001b[38;5;241m.\u001b[39mstrip()\n",
      "\u001b[1;31mValueError\u001b[0m: invalid literal for int() with base 10: ''"
     ]
    }
   ],
   "source": [
    "'''\n",
    "||||||\n",
    "(|..|)\n",
    ".|.(|...||)|...()..\n",
    "'''\n",
    "\n",
    "def ball(balls):\n",
    "    cnt=0\n",
    "    if len(balls) <2:\n",
    "        return 0\n",
    "    for i in range(len(balls)):\n",
    "        if balls[2*i:2*i+2] in lst_ball:\n",
    "            cnt+=1\n",
    "    return cnt\n",
    "\n",
    "def ball2(balls):\n",
    "    cnt =0\n",
    "    cnt +=balls.count('(|')\n",
    "    cnt +=balls.count('|)')\n",
    "    cnt +=balls.count('()')\n",
    "    return cnt\n",
    "\n",
    "T= int(input())\n",
    "for tc in range(1,T+1):\n",
    "    balls = input().strip()\n",
    "    lst_ball = ['(|', '|)', '()', '.(', ').']\n",
    "    cnt = ball2(balls)\n",
    "    \n",
    "    print(f'#{tc} {cnt}')\n",
    "    \n",
    "\n",
    "\n"
   ]
  },
  {
   "cell_type": "code",
   "execution_count": null,
   "metadata": {},
   "outputs": [],
   "source": []
>>>>>>> d07f9d916d4aadfb97e39d13aa119a513a6c7cf2
  }
 ],
 "metadata": {
  "kernelspec": {
   "display_name": "Python 3",
   "language": "python",
   "name": "python3"
  },
  "language_info": {
   "codemirror_mode": {
    "name": "ipython",
    "version": 3
   },
   "file_extension": ".py",
   "mimetype": "text/x-python",
   "name": "python",
   "nbconvert_exporter": "python",
   "pygments_lexer": "ipython3",
<<<<<<< HEAD
   "version": "3.9.13"
=======
   "version": "3.12.3"
>>>>>>> d07f9d916d4aadfb97e39d13aa119a513a6c7cf2
  }
 },
 "nbformat": 4,
 "nbformat_minor": 2
}
