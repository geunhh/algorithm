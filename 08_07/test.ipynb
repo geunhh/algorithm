{
 "cells": [
  {
   "cell_type": "code",
   "execution_count": 12,
   "metadata": {},
   "outputs": [
    {
     "name": "stdout",
     "output_type": "stream",
     "text": [
      "dict_keys([1, 2])\n"
     ]
    }
   ],
   "source": [
    "arr ={}\n",
    "\n",
    "arr[1] = 2\n",
    "arr[2] = 4\n",
    "print(arr.keys())\n",
    "# arr += {3:2}\n",
    "# print(arr)"
   ]
  },
  {
   "cell_type": "code",
   "execution_count": 67,
   "metadata": {},
   "outputs": [
    {
     "name": "stdout",
     "output_type": "stream",
     "text": [
      "1\n",
      "3 [1, 2, 3]\n",
      "2\n",
      "1\n"
     ]
    }
   ],
   "source": [
    "test = []\n",
    "tet = [1]\n",
    "test.append(1)\n",
    "print(len(test))\n",
    "test.append(2)\n",
    "test.append(3)\n",
    "print(len(test), test)\n",
    "test.pop()\n",
    "# test.pop()\n",
    "print(len(test))\n",
    "print(len(tet))"
   ]
  },
  {
   "cell_type": "code",
   "execution_count": 53,
   "metadata": {},
   "outputs": [],
   "source": [
    "a = '-'\n",
    "b = '5'\n",
    "c = '3'\n",
    "# sol = str(eval(b+a+c))\n",
    "# print(type(sol))\n",
    "\n",
    "if c.isdigit() == False:\n",
    "    print('hihi')\n"
   ]
  },
  {
   "cell_type": "code",
   "execution_count": 38,
   "metadata": {},
   "outputs": [
    {
     "name": "stdout",
     "output_type": "stream",
     "text": [
      "3*5+2\n",
      "['*']\n",
      "35*2\n"
     ]
    }
   ],
   "source": [
    "my_dict = {'+':1, '-':1, '/':2, '*':2}\n",
    "\n",
    "T=int(input())\n",
    "for tc in range(1, 1+ T):\n",
    "    words = input()\n",
    "    print(words)\n",
    "    stack =[]\n",
    "    result =''\n",
    "    for word in words:\n",
    "        # 연산자가 아니면 결과에 그냥 넣음\n",
    "            if word not in my_dict:\n",
    "                result += word\n",
    "        # 연산자일 경우 우선순위 고려\n",
    "            elif word in my_dict:\n",
    "                # stack 이 비었다? 그냥 넣어줌\n",
    "                if not stack:\n",
    "                    stack.append(word)\n",
    "                # 스택이 비어있지 않은데, stack[-1]의 우선순위가 나보다 낮다.\n",
    "                elif stack and my_dict[stack[-1]] < my_dict[word]:\n",
    "                    stack.append(word)\n",
    "                else:\n",
    "                    while stack:\n",
    "                        if not stack or (my_dict[stack[-1]] < my_dict[word]):  # stack[-1]이 나보다 우선순위가 낮아지면,\n",
    "                            stack.append(word)                               # 펑\n",
    "                            break\n",
    "                        print(stack)\n",
    "                        pop_val = stack.pop()                   # 아니면, pop하고\n",
    "                        result += pop_val                         # 팝한거 넣어주기.\n",
    "                        \n",
    "   \n",
    "    print(result,''.join(stack[::-1]),sep='')"
   ]
  },
  {
   "cell_type": "code",
   "execution_count": null,
   "metadata": {},
   "outputs": [],
   "source": [
    "def solution(progresses, speeds):\n",
    "    N = len(speeds)\n",
    "    answer = []\n",
    "    day=0\n",
    "    cnt=0\n",
    "    stack_speed = []\n",
    "    stack_progress = []\n",
    "    \n",
    "    for i in range(N):\n",
    "        stack_speed.append(speeds[N-1-i]) \n",
    "        stack_progress.append(progresses[N-1-i])\n",
    "    \n",
    "    while stack_progress:\n",
    "        top_val = stack_progress[-1] + (stack_speed[-1] * day)\n",
    "        \n",
    "        if top_val >= 100:\n",
    "            stack_progress.pop()\n",
    "            stack_speed.pop()\n",
    "            cnt+=1\n",
    "\n",
    "        elif cnt >=1:\n",
    "            answer.append(cnt)\n",
    "            cnt=0\n",
    "        else:\n",
    "            day +=1\n",
    "        \n",
    "        \n",
    "    \n",
    "    \n",
    "    return answer "
   ]
  }
 ],
 "metadata": {
  "kernelspec": {
   "display_name": "Python 3",
   "language": "python",
   "name": "python3"
  },
  "language_info": {
   "codemirror_mode": {
    "name": "ipython",
    "version": 3
   },
   "file_extension": ".py",
   "mimetype": "text/x-python",
   "name": "python",
   "nbconvert_exporter": "python",
   "pygments_lexer": "ipython3",
   "version": "3.9.13"
  }
 },
 "nbformat": 4,
 "nbformat_minor": 2
}
