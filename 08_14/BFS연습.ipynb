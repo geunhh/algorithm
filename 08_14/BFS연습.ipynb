{
 "cells": [
  {
   "cell_type": "code",
   "execution_count": 18,
   "metadata": {},
   "outputs": [
    {
     "name": "stdout",
     "output_type": "stream",
     "text": [
      "deque([0])\n",
      "[True, False, False, False, False, False, False]\n",
      "0\n",
      "1\n",
      "2\n",
      "3\n",
      "4\n",
      "5\n",
      "6\n"
     ]
    }
   ],
   "source": [
    "from collections import deque\n",
    "\n",
    "def BFS(G, start):\n",
    "    n = len(G)\n",
    "\n",
    "    visited = [False] * (n) # 그래프를 1번부터 n 번까지 보려고. 인덱스 이쁘게 해주려고\n",
    "    queue = deque([start])\n",
    "    visited[start] = True\n",
    "\n",
    "    print(queue)\n",
    "    print(visited)\n",
    "\n",
    "    while queue:\n",
    "        vertex = queue.popleft() # 큐에서 정점 꺼냄\n",
    "        print(vertex)\n",
    "\n",
    "        for neighbor in G[vertex]:  # 꺼낸 vertex(꼭지점)에 연결된 점들 순회\n",
    "            if not visited[neighbor]:\n",
    "                visited[neighbor]  = True\n",
    "                queue.append(neighbor)\n",
    "graph = [\n",
    "    [1, 2],      # 정점 0과 연결된 정점\n",
    "    [0, 3, 4],   # 정점 1과 연결된 정점\n",
    "    [0, 4],      # 정점 2와 연결된 정점\n",
    "    [1, 5],      # 정점 3과 연결된 정점\n",
    "    [1, 2, 6],   # 정점 4와 연결된 정점\n",
    "    [3],         # 정점 5와 연결된 정점\n",
    "    [4]          # 정점 6과 연결된 정점\n",
    "]\n",
    "\n",
    "# BFS 실행\n",
    "BFS(graph, 0)\n"
   ]
  },
  {
   "cell_type": "code",
   "execution_count": null,
   "metadata": {},
   "outputs": [],
   "source": []
  },
  {
   "cell_type": "code",
   "execution_count": null,
   "metadata": {},
   "outputs": [],
   "source": []
  }
 ],
 "metadata": {
  "kernelspec": {
   "display_name": "Python 3",
   "language": "python",
   "name": "python3"
  },
  "language_info": {
   "codemirror_mode": {
    "name": "ipython",
    "version": 3
   },
   "file_extension": ".py",
   "mimetype": "text/x-python",
   "name": "python",
   "nbconvert_exporter": "python",
   "pygments_lexer": "ipython3",
   "version": "3.9.13"
  }
 },
 "nbformat": 4,
 "nbformat_minor": 2
}
